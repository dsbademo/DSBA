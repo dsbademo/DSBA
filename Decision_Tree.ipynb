{
 "cells": [
  {
   "cell_type": "markdown",
   "metadata": {
    "id": "KG_syp7S6-2E"
   },
   "source": [
    "# Decision Tree Playgolf"
   ]
  },
  {
   "cell_type": "markdown",
   "metadata": {
    "id": "mu0tFB8R6-2F"
   },
   "source": [
    "#### Laden der Bibliotheken"
   ]
  },
  {
   "cell_type": "code",
   "execution_count": 13,
   "metadata": {
    "id": "mWYZgXtG6-2F"
   },
   "outputs": [],
   "source": [
    "import pandas as pd\n",
    "import matplotlib.pyplot as plt\n",
    "\n",
    "from sklearn.tree import DecisionTreeClassifier\n",
    "from sklearn.model_selection import train_test_split\n",
    "from sklearn import metrics"
   ]
  },
  {
   "cell_type": "markdown",
   "metadata": {
    "id": "XCPBLQUO6-2G"
   },
   "source": [
    "#### Laden des Playgolf-Datensatzes"
   ]
  },
  {
   "cell_type": "code",
   "execution_count": 14,
   "metadata": {
    "id": "r4Zfh1Y26-2H"
   },
   "outputs": [
    {
     "name": "stdout",
     "output_type": "stream",
     "text": [
      "--2022-10-18 10:58:57--  https://raw.githubusercontent.com/dsbademo/DSBA/main/play_golf.csv\n",
      "Resolving raw.githubusercontent.com (raw.githubusercontent.com)... 185.199.111.133, 185.199.110.133, 185.199.109.133, ...\n",
      "Connecting to raw.githubusercontent.com (raw.githubusercontent.com)|185.199.111.133|:443... connected.\n",
      "HTTP request sent, awaiting response... 200 OK\n",
      "Length: 428 [text/plain]\n",
      "Saving to: 'play_golf.csv'\n",
      "\n",
      "play_golf.csv       100%[===================>]     428  --.-KB/s    in 0s      \n",
      "\n",
      "2022-10-18 10:59:00 (18.6 MB/s) - 'play_golf.csv' saved [428/428]\n",
      "\n"
     ]
    },
    {
     "data": {
      "text/html": [
       "<div>\n",
       "<style scoped>\n",
       "    .dataframe tbody tr th:only-of-type {\n",
       "        vertical-align: middle;\n",
       "    }\n",
       "\n",
       "    .dataframe tbody tr th {\n",
       "        vertical-align: top;\n",
       "    }\n",
       "\n",
       "    .dataframe thead th {\n",
       "        text-align: right;\n",
       "    }\n",
       "</style>\n",
       "<table border=\"1\" class=\"dataframe\">\n",
       "  <thead>\n",
       "    <tr style=\"text-align: right;\">\n",
       "      <th></th>\n",
       "      <th>Outlook</th>\n",
       "      <th>Temperature</th>\n",
       "      <th>Humidity</th>\n",
       "      <th>Windy</th>\n",
       "      <th>Play</th>\n",
       "    </tr>\n",
       "  </thead>\n",
       "  <tbody>\n",
       "    <tr>\n",
       "      <th>0</th>\n",
       "      <td>Rainy</td>\n",
       "      <td>Hot</td>\n",
       "      <td>High</td>\n",
       "      <td>False</td>\n",
       "      <td>No</td>\n",
       "    </tr>\n",
       "    <tr>\n",
       "      <th>1</th>\n",
       "      <td>Rainy</td>\n",
       "      <td>Hot</td>\n",
       "      <td>High</td>\n",
       "      <td>True</td>\n",
       "      <td>No</td>\n",
       "    </tr>\n",
       "    <tr>\n",
       "      <th>2</th>\n",
       "      <td>Overcast</td>\n",
       "      <td>Hot</td>\n",
       "      <td>High</td>\n",
       "      <td>False</td>\n",
       "      <td>Yes</td>\n",
       "    </tr>\n",
       "    <tr>\n",
       "      <th>3</th>\n",
       "      <td>Sunny</td>\n",
       "      <td>Mild</td>\n",
       "      <td>High</td>\n",
       "      <td>False</td>\n",
       "      <td>Yes</td>\n",
       "    </tr>\n",
       "    <tr>\n",
       "      <th>4</th>\n",
       "      <td>Sunny</td>\n",
       "      <td>Cool</td>\n",
       "      <td>Normal</td>\n",
       "      <td>False</td>\n",
       "      <td>Yes</td>\n",
       "    </tr>\n",
       "  </tbody>\n",
       "</table>\n",
       "</div>"
      ],
      "text/plain": [
       "    Outlook Temperature Humidity  Windy Play\n",
       "0     Rainy         Hot     High  False   No\n",
       "1     Rainy         Hot     High   True   No\n",
       "2  Overcast         Hot     High  False  Yes\n",
       "3     Sunny        Mild     High  False  Yes\n",
       "4     Sunny        Cool   Normal  False  Yes"
      ]
     },
     "execution_count": 14,
     "metadata": {},
     "output_type": "execute_result"
    }
   ],
   "source": [
    "!wget -O play_golf.csv https://raw.githubusercontent.com/dsbademo/DSBA/main/play_golf.csv\n",
    "playgolf = pd.read_csv(\"play_golf.csv\")\n",
    "playgolf.head()"
   ]
  },
  {
   "cell_type": "markdown",
   "metadata": {
    "id": "JfKmuqu16-2H"
   },
   "source": [
    "#### Beschreibung des Datensatzes"
   ]
  },
  {
   "cell_type": "code",
   "execution_count": 15,
   "metadata": {
    "id": "s3bV8QkM6-2I",
    "scrolled": true
   },
   "outputs": [
    {
     "name": "stdout",
     "output_type": "stream",
     "text": [
      "Index(['Outlook', 'Temperature', 'Humidity', 'Windy', 'Play'], dtype='object')\n",
      "(14, 5)\n",
      "    Outlook Temperature Humidity  Windy Play\n",
      "0     Rainy         Hot     High  False   No\n",
      "1     Rainy         Hot     High   True   No\n",
      "2  Overcast         Hot     High  False  Yes\n"
     ]
    }
   ],
   "source": [
    "print(playgolf.columns)\n",
    "print(playgolf.shape)\n",
    "print(playgolf.head(3))"
   ]
  },
  {
   "cell_type": "markdown",
   "metadata": {
    "id": "v2HisI7M6-2I"
   },
   "source": [
    "#### One Hot Encoding(Dummy Encoding) der kategorialen Variablen"
   ]
  },
  {
   "cell_type": "code",
   "execution_count": 16,
   "metadata": {
    "id": "GjCiWD_d6-2I"
   },
   "outputs": [],
   "source": [
    "playgolf = pd.get_dummies(playgolf, columns=[\"Outlook\",\"Temperature\",\"Humidity\",\"Windy\"])"
   ]
  },
  {
   "cell_type": "code",
   "execution_count": 17,
   "metadata": {
    "id": "NgEU-BdO6-2J"
   },
   "outputs": [
    {
     "name": "stdout",
     "output_type": "stream",
     "text": [
      "Index(['Play', 'Outlook_Overcast', 'Outlook_Rainy', 'Outlook_Sunny',\n",
      "       'Temperature_Cool', 'Temperature_Hot', 'Temperature_Mild',\n",
      "       'Humidity_High', 'Humidity_Normal', 'Windy_False', 'Windy_True'],\n",
      "      dtype='object')\n",
      "(14, 11)\n",
      "  Play  Outlook_Overcast  Outlook_Rainy  Outlook_Sunny  Temperature_Cool  \\\n",
      "0   No                 0              1              0                 0   \n",
      "1   No                 0              1              0                 0   \n",
      "2  Yes                 1              0              0                 0   \n",
      "\n",
      "   Temperature_Hot  Temperature_Mild  Humidity_High  Humidity_Normal  \\\n",
      "0                1                 0              1                0   \n",
      "1                1                 0              1                0   \n",
      "2                1                 0              1                0   \n",
      "\n",
      "   Windy_False  Windy_True  \n",
      "0            1           0  \n",
      "1            0           1  \n",
      "2            1           0  \n"
     ]
    }
   ],
   "source": [
    "print(playgolf.columns)\n",
    "print(playgolf.shape)\n",
    "print(playgolf.head(3))"
   ]
  },
  {
   "cell_type": "markdown",
   "metadata": {
    "id": "p6FHDu8T6-2J"
   },
   "source": [
    "#### Selektion der Variablen"
   ]
  },
  {
   "cell_type": "code",
   "execution_count": 18,
   "metadata": {
    "id": "CVAhJjsJ6-2J"
   },
   "outputs": [],
   "source": [
    "X = playgolf.values[:,1:11] # Features\n",
    "y = playgolf.values[:,0] # Target variable"
   ]
  },
  {
   "cell_type": "markdown",
   "metadata": {
    "id": "O24oHtLh6-2J"
   },
   "source": [
    "#### Split dataset into training set and test set"
   ]
  },
  {
   "cell_type": "code",
   "execution_count": 19,
   "metadata": {
    "id": "MLDEyxuV6-2K"
   },
   "outputs": [],
   "source": [
    "X_train, X_test, y_train, y_test = train_test_split(X, y, test_size=0.2, random_state=1)"
   ]
  },
  {
   "cell_type": "markdown",
   "metadata": {
    "id": "xIJ0o36E6-2K"
   },
   "source": [
    "#### Create Decision Tree classifer object"
   ]
  },
  {
   "cell_type": "code",
   "execution_count": 20,
   "metadata": {
    "id": "TgFgXsPO6-2K"
   },
   "outputs": [],
   "source": [
    "tree = DecisionTreeClassifier(criterion='entropy', max_depth=5)"
   ]
  },
  {
   "cell_type": "markdown",
   "metadata": {
    "id": "QX98qxiv6-2L"
   },
   "source": [
    "#### Train Decision Tree Classifer"
   ]
  },
  {
   "cell_type": "code",
   "execution_count": 21,
   "metadata": {
    "id": "1CXIOCs76-2L"
   },
   "outputs": [],
   "source": [
    "tree = tree.fit(X_train,y_train)"
   ]
  },
  {
   "cell_type": "markdown",
   "metadata": {
    "id": "F-k0f5-C6-2L"
   },
   "source": [
    "#### Vorhersage"
   ]
  },
  {
   "cell_type": "code",
   "execution_count": 22,
   "metadata": {
    "id": "nBpKJxfz6-2L"
   },
   "outputs": [
    {
     "data": {
      "text/plain": [
       "array(['No', 'No', 'Yes'], dtype=object)"
      ]
     },
     "execution_count": 22,
     "metadata": {},
     "output_type": "execute_result"
    }
   ],
   "source": [
    "y_pred = tree.predict(X_test)\n",
    "y_pred"
   ]
  },
  {
   "cell_type": "markdown",
   "metadata": {
    "id": "TcxmNnVq6-2L"
   },
   "source": [
    "#### Modell Güte"
   ]
  },
  {
   "cell_type": "code",
   "execution_count": 23,
   "metadata": {
    "id": "IuouX0dY6-2M"
   },
   "outputs": [
    {
     "name": "stdout",
     "output_type": "stream",
     "text": [
      "Accuracy: 0.6666666666666666\n"
     ]
    }
   ],
   "source": [
    "print(\"Accuracy:\",metrics.accuracy_score(y_test, y_pred))"
   ]
  },
  {
   "cell_type": "markdown",
   "metadata": {
    "id": "-VwJBXZp6-2M"
   },
   "source": [
    "#### Baumstruktur"
   ]
  },
  {
   "cell_type": "code",
   "execution_count": 24,
   "metadata": {
    "id": "LSZAqljD6-2M"
   },
   "outputs": [
    {
     "data": {
      "image/png": "[encoded data removed]",
      "text/plain": [
       "<Figure size 720x504 with 1 Axes>"
      ]
     },
     "metadata": {
      "needs_background": "light"
     },
     "output_type": "display_data"
    }
   ],
   "source": [
    "from sklearn.tree import plot_tree\n",
    "plt.figure(figsize=(10,7))\n",
    "plt_tree = plot_tree(tree, filled=True, feature_names = playgolf.columns[1:], class_names=['Yes','No'], impurity=True, proportion=True, rounded=True, fontsize=10)"
   ]
  },
  {
   "cell_type": "code",
   "execution_count": null,
   "metadata": {
    "id": "ofTs4mM96-2M"
   },
   "outputs": [],
   "source": []
  }
 ],
 "metadata": {
  "colab": {
   "provenance": []
  },
  "kernelspec": {
   "display_name": "Python 3 (ipykernel)",
   "language": "python",
   "name": "python3"
  },
  "language_info": {
   "codemirror_mode": {
    "name": "ipython",
    "version": 3
   },
   "file_extension": ".py",
   "mimetype": "text/x-python",
   "name": "python",
   "nbconvert_exporter": "python",
   "pygments_lexer": "ipython3",
   "version": "3.9.12"
  }
 },
 "nbformat": 4,
 "nbformat_minor": 1
}
