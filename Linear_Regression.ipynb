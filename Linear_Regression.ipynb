{
 "cells": [
  {
   "cell_type": "markdown",
   "metadata": {
    "id": "pA23Wa_H0mbI"
   },
   "source": [
    "# Lineare Regression"
   ]
  },
  {
   "cell_type": "markdown",
   "metadata": {
    "id": "J1R1pBNI0mbN"
   },
   "source": [
    "#### Import der Bibliotheken"
   ]
  },
  {
   "cell_type": "code",
   "execution_count": null,
   "metadata": {
    "id": "4LalB2Rs0mbN"
   },
   "outputs": [],
   "source": [
    "import matplotlib.pyplot as plt\n",
    "import pandas as pd\n",
    "import seaborn as sns\n",
    "plt.style.use('seaborn')"
   ]
  },
  {
   "cell_type": "markdown",
   "metadata": {
    "id": "TuIumNg50mbO"
   },
   "source": [
    "#### Einlesen und Filtern der Daten"
   ]
  },
  {
   "cell_type": "code",
   "execution_count": null,
   "metadata": {
    "id": "JCOjFvSZ0mbO"
   },
   "outputs": [],
   "source": [
    "header_list = ['CRIM','ZN','INDUS','CHAS','NOX','RM','AGE','DIS','RAD','TAX','PTRATIO','B','LSTAT','MEDV']\n",
    "df_houses = pd.read_csv('https://archive.ics.uci.edu/ml/machine-learning-databases/housing/housing.data', names = header_list, sep='\\s+')\n",
    "df_houses = df_houses.dropna()\n",
    "\n",
    "columns = ['LSTAT', 'INDUS', 'NOX', 'RM', 'MEDV']\n",
    "df_houses = df_houses[columns]"
   ]
  },
  {
   "cell_type": "markdown",
   "metadata": {
    "id": "imh5kZnI0mbO"
   },
   "source": [
    "#### Überprüfung der Daten"
   ]
  },
  {
   "cell_type": "code",
   "execution_count": null,
   "metadata": {
    "id": "tvTPYqSi0mbP"
   },
   "outputs": [],
   "source": [
    "print(df_houses.shape)\n",
    "print(df_houses.head())"
   ]
  },
  {
   "cell_type": "markdown",
   "metadata": {
    "id": "2hl3x3cp0mbQ"
   },
   "source": [
    "#### Erstellen einer Scatterplot-Matrix\n",
    "\n",
    "- lstat = lower status of the population (percent)\n",
    "- indus = proportion of non-retail business acres per town\n",
    "- nox = nitrogen oxides concentration (parts per 10 million)\n",
    "- rm = average number of rooms per dwelling\n",
    "- medv = median value of owner-occupied homes in $1000s."
   ]
  },
  {
   "cell_type": "code",
   "execution_count": null,
   "metadata": {
    "id": "V6iINh_r0mbQ"
   },
   "outputs": [],
   "source": [
    "sns.pairplot(df_houses, height=2.5)\n",
    "plt.tight_layout()\n",
    "plt.show()"
   ]
  },
  {
   "cell_type": "markdown",
   "metadata": {
    "id": "9Uc-5zsO0mbR"
   },
   "source": [
    "#### Auswahl der Variablen"
   ]
  },
  {
   "cell_type": "code",
   "execution_count": null,
   "metadata": {
    "id": "DWWdEl0C0mbR"
   },
   "outputs": [],
   "source": [
    "X = df_houses[['RM']].values\n",
    "y = df_houses['MEDV'].values"
   ]
  },
  {
   "cell_type": "markdown",
   "metadata": {
    "id": "jf1PIvmZ0mbR"
   },
   "source": [
    "#### Modellbildung und Modellparameter\n",
    "Fehler in der aktuellen Version! Zelle 2-mal ausführen"
   ]
  },
  {
   "cell_type": "code",
   "execution_count": null,
   "metadata": {
    "id": "zeBLtTpg0mbR"
   },
   "outputs": [],
   "source": [
    "from sklearn.linear_model import LinearRegression\n",
    "\n",
    "linearModel = LinearRegression()\n",
    "linearModel.fit(X, y)\n",
    "print('Slope: %.3f' % linearModel.coef_[0])\n",
    "print('Intercept: %.3f' % linearModel.intercept_)"
   ]
  },
  {
   "cell_type": "markdown",
   "metadata": {
    "id": "z62f5Mhi0mbS"
   },
   "source": [
    "#### Scatterplot erstellen"
   ]
  },
  {
   "cell_type": "code",
   "execution_count": null,
   "metadata": {
    "id": "hf6fQuyA0mbS"
   },
   "outputs": [],
   "source": [
    "plt.scatter(X, y, c='steelblue', edgecolor='white', s=70)\n",
    "plt.plot(X, linearModel.predict(X), color='red', lw=2)    \n",
    "\n",
    "plt.xlabel('Mittlere Anzahl Räume [RM]')\n",
    "plt.ylabel('Preis in $1000 [MEDV]')\n",
    "\n",
    "plt.show()"
   ]
  },
  {
   "cell_type": "markdown",
   "metadata": {
    "id": "2sUO6EoE0mbS"
   },
   "source": [
    "#### Vorhersage"
   ]
  },
  {
   "cell_type": "code",
   "execution_count": null,
   "metadata": {
    "id": "RG9oug1S0mbT"
   },
   "outputs": [],
   "source": [
    "y_pred = linearModel.predict(X)"
   ]
  },
  {
   "cell_type": "markdown",
   "metadata": {
    "id": "8onhKOz70mbT"
   },
   "source": [
    "#### Mittlerer quadratischer Fehler und R2-Mass"
   ]
  },
  {
   "cell_type": "code",
   "execution_count": null,
   "metadata": {
    "id": "o9oC68g10mbT"
   },
   "outputs": [],
   "source": [
    "from sklearn.metrics import mean_squared_error, r2_score\n",
    "\n",
    "print(\"Mean squared error: %.2f\" % mean_squared_error(y, y_pred))\n",
    "print('Variance score: %.2f' % r2_score(y, y_pred))"
   ]
  },
  {
   "cell_type": "code",
   "execution_count": null,
   "metadata": {
    "id": "I4O58hMQ0mbT"
   },
   "outputs": [],
   "source": []
  }
 ],
 "metadata": {
  "colab": {
   "name": "Linear_Regression.ipynb",
   "provenance": []
  },
  "kernelspec": {
   "display_name": "Python 3",
   "language": "python",
   "name": "python3"
  },
  "language_info": {
   "codemirror_mode": {
    "name": "ipython",
    "version": 3
   },
   "file_extension": ".py",
   "mimetype": "text/x-python",
   "name": "python",
   "nbconvert_exporter": "python",
   "pygments_lexer": "ipython3",
   "version": "3.7.9"
  }
 },
 "nbformat": 4,
 "nbformat_minor": 1
}
