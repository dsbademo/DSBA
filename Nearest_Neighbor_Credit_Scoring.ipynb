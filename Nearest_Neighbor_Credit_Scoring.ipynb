{
 "cells": [
  {
   "cell_type": "markdown",
   "metadata": {
    "id": "TnHtC3Ok-xxR"
   },
   "source": [
    "# Nearest Neighbor Algorithmus kNN"
   ]
  },
  {
   "cell_type": "markdown",
   "metadata": {
    "id": "-jy_RDfJ-xxW"
   },
   "source": [
    "#### Import der Bibliotheken"
   ]
  },
  {
   "cell_type": "code",
   "execution_count": 2,
   "metadata": {
    "id": "lQwzwlJH-xxY"
   },
   "outputs": [],
   "source": [
    "import numpy as np  \n",
    "import matplotlib.pyplot as plt\n",
    "import pandas as pd"
   ]
  },
  {
   "cell_type": "markdown",
   "metadata": {
    "id": "Qe74u-KD-xxZ"
   },
   "source": [
    "#### Einlesen und Filtern der Daten"
   ]
  },
  {
   "cell_type": "code",
   "execution_count": 3,
   "metadata": {},
   "outputs": [],
   "source": [
    "df_kredit = pd.read_csv(\"https://datahub.io/machine-learning/credit-g/r/credit-g.csv\", sep=',')\n",
    "df_kredit.insert(0, 'Antragssteller_ID', df_kredit.index)\n",
    "df_kredit = df_kredit.drop(['checking_status','foreign_worker','savings_status'], axis=1)\n",
    "df_kredit.columns = ['Antragssteller_ID', 'Kredit_Zeitspanne',\n",
    "       'Antragssteller_Kredit_Historie', 'Kredit_Nutzung', 'Kredit_Höhe',\n",
    "       'Antragssteller_Beschäftigt_Seit', 'Antragssteller_Teilzahlungshöhe',\n",
    "       'Antragssteller_Geschlecht_Familienstand',\n",
    "       'Kredit_Zusätzliche_Antragssteller',\n",
    "       'Antragssteller_Letzter_Wohnwechsel', 'Antragssteller_Eigentum',\n",
    "       'Antragssteller_Alter', 'Antragssteller_Weitere_Ratenzahlungen',\n",
    "       'Antragssteller_Wohnverhältnis', 'Antragssteller_Anzahl_Kredite',\n",
    "       'Antragssteller_Job', 'Antragssteller_Anzahl_Personen_Vormund',\n",
    "       'Antragssteller_Telefon', 'Kredit_Score']"
   ]
  },
  {
   "cell_type": "markdown",
   "metadata": {
    "id": "bOuaxKmD-xxa"
   },
   "source": [
    "#### Kontrolle der Daten"
   ]
  },
  {
   "cell_type": "code",
   "execution_count": 4,
   "metadata": {
    "id": "vPlBD2pA-xxb",
    "outputId": "e9b9ad01-0811-45db-bab7-8f6e03ac8943"
   },
   "outputs": [
    {
     "name": "stdout",
     "output_type": "stream",
     "text": [
      "(1000, 19)\n"
     ]
    },
    {
     "data": {
      "text/html": [
       "<div>\n",
       "<style scoped>\n",
       "    .dataframe tbody tr th:only-of-type {\n",
       "        vertical-align: middle;\n",
       "    }\n",
       "\n",
       "    .dataframe tbody tr th {\n",
       "        vertical-align: top;\n",
       "    }\n",
       "\n",
       "    .dataframe thead th {\n",
       "        text-align: right;\n",
       "    }\n",
       "</style>\n",
       "<table border=\"1\" class=\"dataframe\">\n",
       "  <thead>\n",
       "    <tr style=\"text-align: right;\">\n",
       "      <th></th>\n",
       "      <th>Antragssteller_ID</th>\n",
       "      <th>Kredit_Zeitspanne</th>\n",
       "      <th>Antragssteller_Kredit_Historie</th>\n",
       "      <th>Kredit_Nutzung</th>\n",
       "      <th>Kredit_Höhe</th>\n",
       "      <th>Antragssteller_Beschäftigt_Seit</th>\n",
       "      <th>Antragssteller_Teilzahlungshöhe</th>\n",
       "      <th>Antragssteller_Geschlecht_Familienstand</th>\n",
       "      <th>Kredit_Zusätzliche_Antragssteller</th>\n",
       "      <th>Antragssteller_Letzter_Wohnwechsel</th>\n",
       "      <th>Antragssteller_Eigentum</th>\n",
       "      <th>Antragssteller_Alter</th>\n",
       "      <th>Antragssteller_Weitere_Ratenzahlungen</th>\n",
       "      <th>Antragssteller_Wohnverhältnis</th>\n",
       "      <th>Antragssteller_Anzahl_Kredite</th>\n",
       "      <th>Antragssteller_Job</th>\n",
       "      <th>Antragssteller_Anzahl_Personen_Vormund</th>\n",
       "      <th>Antragssteller_Telefon</th>\n",
       "      <th>Kredit_Score</th>\n",
       "    </tr>\n",
       "  </thead>\n",
       "  <tbody>\n",
       "    <tr>\n",
       "      <th>0</th>\n",
       "      <td>0</td>\n",
       "      <td>6</td>\n",
       "      <td>critical/other existing credit</td>\n",
       "      <td>radio/tv</td>\n",
       "      <td>1169</td>\n",
       "      <td>&gt;=7</td>\n",
       "      <td>4</td>\n",
       "      <td>male single</td>\n",
       "      <td>none</td>\n",
       "      <td>4</td>\n",
       "      <td>real estate</td>\n",
       "      <td>67</td>\n",
       "      <td>none</td>\n",
       "      <td>own</td>\n",
       "      <td>2</td>\n",
       "      <td>skilled</td>\n",
       "      <td>1</td>\n",
       "      <td>yes</td>\n",
       "      <td>good</td>\n",
       "    </tr>\n",
       "    <tr>\n",
       "      <th>1</th>\n",
       "      <td>1</td>\n",
       "      <td>48</td>\n",
       "      <td>existing paid</td>\n",
       "      <td>radio/tv</td>\n",
       "      <td>5951</td>\n",
       "      <td>1&lt;=X&lt;4</td>\n",
       "      <td>2</td>\n",
       "      <td>female div/dep/mar</td>\n",
       "      <td>none</td>\n",
       "      <td>2</td>\n",
       "      <td>real estate</td>\n",
       "      <td>22</td>\n",
       "      <td>none</td>\n",
       "      <td>own</td>\n",
       "      <td>1</td>\n",
       "      <td>skilled</td>\n",
       "      <td>1</td>\n",
       "      <td>none</td>\n",
       "      <td>bad</td>\n",
       "    </tr>\n",
       "    <tr>\n",
       "      <th>2</th>\n",
       "      <td>2</td>\n",
       "      <td>12</td>\n",
       "      <td>critical/other existing credit</td>\n",
       "      <td>education</td>\n",
       "      <td>2096</td>\n",
       "      <td>4&lt;=X&lt;7</td>\n",
       "      <td>2</td>\n",
       "      <td>male single</td>\n",
       "      <td>none</td>\n",
       "      <td>3</td>\n",
       "      <td>real estate</td>\n",
       "      <td>49</td>\n",
       "      <td>none</td>\n",
       "      <td>own</td>\n",
       "      <td>1</td>\n",
       "      <td>unskilled resident</td>\n",
       "      <td>2</td>\n",
       "      <td>none</td>\n",
       "      <td>good</td>\n",
       "    </tr>\n",
       "  </tbody>\n",
       "</table>\n",
       "</div>"
      ],
      "text/plain": [
       "   Antragssteller_ID  Kredit_Zeitspanne  Antragssteller_Kredit_Historie  \\\n",
       "0                  0                  6  critical/other existing credit   \n",
       "1                  1                 48                   existing paid   \n",
       "2                  2                 12  critical/other existing credit   \n",
       "\n",
       "  Kredit_Nutzung  Kredit_Höhe Antragssteller_Beschäftigt_Seit  \\\n",
       "0       radio/tv         1169                             >=7   \n",
       "1       radio/tv         5951                          1<=X<4   \n",
       "2      education         2096                          4<=X<7   \n",
       "\n",
       "   Antragssteller_Teilzahlungshöhe Antragssteller_Geschlecht_Familienstand  \\\n",
       "0                                4                             male single   \n",
       "1                                2                      female div/dep/mar   \n",
       "2                                2                             male single   \n",
       "\n",
       "  Kredit_Zusätzliche_Antragssteller  Antragssteller_Letzter_Wohnwechsel  \\\n",
       "0                              none                                   4   \n",
       "1                              none                                   2   \n",
       "2                              none                                   3   \n",
       "\n",
       "  Antragssteller_Eigentum  Antragssteller_Alter  \\\n",
       "0             real estate                    67   \n",
       "1             real estate                    22   \n",
       "2             real estate                    49   \n",
       "\n",
       "  Antragssteller_Weitere_Ratenzahlungen Antragssteller_Wohnverhältnis  \\\n",
       "0                                  none                           own   \n",
       "1                                  none                           own   \n",
       "2                                  none                           own   \n",
       "\n",
       "   Antragssteller_Anzahl_Kredite  Antragssteller_Job  \\\n",
       "0                              2             skilled   \n",
       "1                              1             skilled   \n",
       "2                              1  unskilled resident   \n",
       "\n",
       "   Antragssteller_Anzahl_Personen_Vormund Antragssteller_Telefon Kredit_Score  \n",
       "0                                       1                    yes         good  \n",
       "1                                       1                   none          bad  \n",
       "2                                       2                   none         good  "
      ]
     },
     "execution_count": 4,
     "metadata": {},
     "output_type": "execute_result"
    }
   ],
   "source": [
    "print(df_kredit.shape)\n",
    "df_kredit.head(3)"
   ]
  },
  {
   "cell_type": "code",
   "execution_count": 4,
   "metadata": {
    "id": "TpGpq5R3-xxc",
    "outputId": "bf9560c4-b4b2-46d6-c907-97b96cd5c7a5"
   },
   "outputs": [
    {
     "data": {
      "text/plain": [
       "good    700\n",
       "bad     300\n",
       "Name: Kredit_Score, dtype: int64"
      ]
     },
     "execution_count": 4,
     "metadata": {},
     "output_type": "execute_result"
    }
   ],
   "source": [
    "df_kredit['Kredit_Score'].value_counts()"
   ]
  },
  {
   "cell_type": "markdown",
   "metadata": {
    "id": "BNSO4RTI-xxd"
   },
   "source": [
    "#### Auswahl der Daten"
   ]
  },
  {
   "cell_type": "code",
   "execution_count": 5,
   "metadata": {
    "id": "DMwIFDsn-xxd"
   },
   "outputs": [],
   "source": [
    "from sklearn.utils import shuffle\n",
    "df_good = df_kredit[df_kredit['Kredit_Score']=='good']\n",
    "df_bad = df_kredit[df_kredit['Kredit_Score']=='bad']\n",
    "df_kredit = pd.concat([df_good[0:500], df_bad[0:300], df_bad[0:200]])\n",
    "df_kredit= shuffle(df_kredit)\n"
   ]
  },
  {
   "cell_type": "code",
   "execution_count": 6,
   "metadata": {
    "id": "zz68UT7j-xxe"
   },
   "outputs": [],
   "source": [
    "X = df_kredit[['Antragssteller_ID']]\n",
    "y = df_kredit[['Kredit_Score']]"
   ]
  },
  {
   "cell_type": "markdown",
   "metadata": {
    "id": "E-lSpCPU-xxe"
   },
   "source": [
    "#### Aufteilung in Training und Test"
   ]
  },
  {
   "cell_type": "code",
   "execution_count": 7,
   "metadata": {
    "id": "u5ryGtlt-xxf"
   },
   "outputs": [],
   "source": [
    "from sklearn.model_selection import train_test_split  \n",
    "X_train, X_test, y_train, y_test = train_test_split(X, y, test_size=0.50)  "
   ]
  },
  {
   "cell_type": "markdown",
   "metadata": {
    "id": "yLvflNVE-xxg"
   },
   "source": [
    "#### Skalierung der Daten"
   ]
  },
  {
   "cell_type": "code",
   "execution_count": 8,
   "metadata": {
    "id": "8A-cyNXH-xxg",
    "outputId": "5a4e2463-1d1a-49fb-cd69-89fb10aaba02"
   },
   "outputs": [],
   "source": [
    "from sklearn.preprocessing import StandardScaler  \n",
    "scaler = StandardScaler()  \n",
    "scaler.fit(X_train)\n",
    "X_train = scaler.transform(X_train)  \n",
    "X_test = scaler.transform(X_test)"
   ]
  },
  {
   "cell_type": "markdown",
   "metadata": {
    "id": "iyj8Y4KE-xxh"
   },
   "source": [
    "#### Modellbildung"
   ]
  },
  {
   "cell_type": "code",
   "execution_count": 9,
   "metadata": {
    "id": "QjhyjVnV-xxh",
    "outputId": "a946566f-786b-4d4a-ddbc-7aa0cd260645"
   },
   "outputs": [
    {
     "data": {
      "text/plain": [
       "KNeighborsClassifier()"
      ]
     },
     "execution_count": 9,
     "metadata": {},
     "output_type": "execute_result"
    }
   ],
   "source": [
    "from sklearn.neighbors import KNeighborsClassifier  \n",
    "classifier = KNeighborsClassifier(n_neighbors=5)  \n",
    "classifier.fit(X_train, y_train.values.reshape(500,))  "
   ]
  },
  {
   "cell_type": "markdown",
   "metadata": {
    "id": "ofK1czct-xxi"
   },
   "source": [
    "#### Vorhersage"
   ]
  },
  {
   "cell_type": "code",
   "execution_count": 10,
   "metadata": {
    "id": "dl34pZBw-xxi",
    "outputId": "4e47cf9e-e027-4102-b07f-966ca037d54f"
   },
   "outputs": [
    {
     "data": {
      "text/plain": [
       "array(['bad', 'good', 'good', 'bad', 'bad'], dtype=object)"
      ]
     },
     "execution_count": 10,
     "metadata": {},
     "output_type": "execute_result"
    }
   ],
   "source": [
    "y_pred = classifier.predict(X_test) \n",
    "y_pred[0:5]"
   ]
  },
  {
   "cell_type": "markdown",
   "metadata": {
    "id": "8AiKsFHx-xxj"
   },
   "source": [
    "#### Modellbewertung"
   ]
  },
  {
   "cell_type": "code",
   "execution_count": 11,
   "metadata": {
    "id": "0EhBvXQk-xxj",
    "outputId": "0b85070d-0579-4003-d35a-120b45df2a36"
   },
   "outputs": [
    {
     "name": "stdout",
     "output_type": "stream",
     "text": [
      "0.606\n",
      "[[160  92]\n",
      " [105 143]]\n"
     ]
    }
   ],
   "source": [
    "from sklearn.metrics import accuracy_score, confusion_matrix  \n",
    "print(accuracy_score(y_test, y_pred))\n",
    "print(confusion_matrix(y_test, y_pred))  "
   ]
  },
  {
   "cell_type": "code",
   "execution_count": null,
   "metadata": {
    "id": "8Xh__xXk-xxk"
   },
   "outputs": [],
   "source": []
  }
 ],
 "metadata": {
  "colab": {
   "name": "Nearest_Neighbor_Credit_Scoring.ipynb",
   "provenance": [],
   "toc_visible": true
  },
  "kernelspec": {
   "display_name": "Python 3 (ipykernel)",
   "language": "python",
   "name": "python3"
  },
  "language_info": {
   "codemirror_mode": {
    "name": "ipython",
    "version": 3
   },
   "file_extension": ".py",
   "mimetype": "text/x-python",
   "name": "python",
   "nbconvert_exporter": "python",
   "pygments_lexer": "ipython3",
   "version": "3.9.12"
  }
 },
 "nbformat": 4,
 "nbformat_minor": 1
}
