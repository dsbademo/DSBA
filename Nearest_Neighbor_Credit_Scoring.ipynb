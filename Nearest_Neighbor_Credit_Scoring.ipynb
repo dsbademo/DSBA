{
 "cells": [
  {
   "cell_type": "markdown",
   "metadata": {
    "id": "TnHtC3Ok-xxR"
   },
   "source": [
    "# Nearest Neighbor Algorithmus kNN"
   ]
  },
  {
   "cell_type": "markdown",
   "metadata": {
    "id": "-jy_RDfJ-xxW"
   },
   "source": [
    "#### Import der Bibliotheken"
   ]
  },
  {
   "cell_type": "code",
   "execution_count": null,
   "metadata": {
    "id": "lQwzwlJH-xxY"
   },
   "outputs": [],
   "source": [
    "import numpy as np  \n",
    "import matplotlib.pyplot as plt\n",
    "import pandas as pd"
   ]
  },
  {
   "cell_type": "markdown",
   "metadata": {
    "id": "Qe74u-KD-xxZ"
   },
   "source": [
    "#### Einlesen und Filtern der Daten"
   ]
  },
  {
   "cell_type": "code",
   "execution_count": null,
   "metadata": {},
   "outputs": [],
   "source": [
    "df_kredit = pd.read_csv(\"https://datahub.io/machine-learning/credit-g/r/credit-g.csv\", sep=',')\n",
    "df_kredit.insert(0, 'Antragssteller_ID', df_kredit.index)\n",
    "df_kredit = df_kredit.drop(['checking_status','foreign_worker','savings_status'], axis=1)\n",
    "df_kredit.columns = ['Antragssteller_ID', 'Kredit_Zeitspanne',\n",
    "       'Antragssteller_Kredit_Historie', 'Kredit_Nutzung', 'Kredit_Höhe',\n",
    "       'Antragssteller_Beschäftigt_Seit', 'Antragssteller_Teilzahlungshöhe',\n",
    "       'Antragssteller_Geschlecht_Familienstand',\n",
    "       'Kredit_Zusätzliche_Antragssteller',\n",
    "       'Antragssteller_Letzter_Wohnwechsel', 'Antragssteller_Eigentum',\n",
    "       'Antragssteller_Alter', 'Antragssteller_Weitere_Ratenzahlungen',\n",
    "       'Antragssteller_Wohnverhältnis', 'Antragssteller_Anzahl_Kredite',\n",
    "       'Antragssteller_Job', 'Antragssteller_Anzahl_Personen_Vormund',\n",
    "       'Antragssteller_Telefon', 'Kredit_Score']"
   ]
  },
  {
   "cell_type": "markdown",
   "metadata": {
    "id": "bOuaxKmD-xxa"
   },
   "source": [
    "#### Kontrolle der Daten"
   ]
  },
  {
   "cell_type": "code",
   "execution_count": null,
   "metadata": {
    "id": "vPlBD2pA-xxb",
    "outputId": "e9b9ad01-0811-45db-bab7-8f6e03ac8943"
   },
   "outputs": [],
   "source": [
    "print(df_kredit.shape)\n",
    "df_kredit.head(3)"
   ]
  },
  {
   "cell_type": "code",
   "execution_count": null,
   "metadata": {
    "id": "TpGpq5R3-xxc",
    "outputId": "bf9560c4-b4b2-46d6-c907-97b96cd5c7a5"
   },
   "outputs": [],
   "source": [
    "df_kredit['Kredit_Score'].value_counts()"
   ]
  },
  {
   "cell_type": "markdown",
   "metadata": {
    "id": "BNSO4RTI-xxd"
   },
   "source": [
    "#### Auswahl der Daten"
   ]
  },
  {
   "cell_type": "code",
   "execution_count": null,
   "metadata": {
    "id": "DMwIFDsn-xxd"
   },
   "outputs": [],
   "source": [
    "from sklearn.utils import shuffle\n",
    "df_good = df_kredit[df_kredit['Kredit_Score']=='good']\n",
    "df_bad = df_kredit[df_kredit['Kredit_Score']=='bad']\n",
    "df_kredit = pd.concat([df_good[0:500], df_bad[0:300], df_bad[0:200]])\n",
    "df_kredit= shuffle(df_kredit)\n"
   ]
  },
  {
   "cell_type": "code",
   "execution_count": null,
   "metadata": {
    "id": "zz68UT7j-xxe"
   },
   "outputs": [],
   "source": [
    "X = df_kredit[['Antragssteller_ID']]\n",
    "y = df_kredit[['Kredit_Score']]"
   ]
  },
  {
   "cell_type": "markdown",
   "metadata": {
    "id": "E-lSpCPU-xxe"
   },
   "source": [
    "#### Aufteilung in Training und Test"
   ]
  },
  {
   "cell_type": "code",
   "execution_count": null,
   "metadata": {
    "id": "u5ryGtlt-xxf"
   },
   "outputs": [],
   "source": [
    "from sklearn.model_selection import train_test_split  \n",
    "X_train, X_test, y_train, y_test = train_test_split(X, y, test_size=0.50)  "
   ]
  },
  {
   "cell_type": "markdown",
   "metadata": {
    "id": "yLvflNVE-xxg"
   },
   "source": [
    "#### Skalierung der Daten"
   ]
  },
  {
   "cell_type": "code",
   "execution_count": null,
   "metadata": {
    "id": "8A-cyNXH-xxg",
    "outputId": "5a4e2463-1d1a-49fb-cd69-89fb10aaba02"
   },
   "outputs": [],
   "source": [
    "from sklearn.preprocessing import StandardScaler  \n",
    "scaler = StandardScaler()  \n",
    "scaler.fit(X_train)\n",
    "X_train = scaler.transform(X_train)  \n",
    "X_test = scaler.transform(X_test)"
   ]
  },
  {
   "cell_type": "markdown",
   "metadata": {
    "id": "iyj8Y4KE-xxh"
   },
   "source": [
    "#### Modellbildung"
   ]
  },
  {
   "cell_type": "code",
   "execution_count": null,
   "metadata": {
    "id": "QjhyjVnV-xxh",
    "outputId": "a946566f-786b-4d4a-ddbc-7aa0cd260645"
   },
   "outputs": [],
   "source": [
    "from sklearn.neighbors import KNeighborsClassifier  \n",
    "classifier = KNeighborsClassifier(n_neighbors=5)  \n",
    "classifier.fit(X_train, y_train.values.reshape(500,))  "
   ]
  },
  {
   "cell_type": "markdown",
   "metadata": {
    "id": "ofK1czct-xxi"
   },
   "source": [
    "#### Vorhersage"
   ]
  },
  {
   "cell_type": "code",
   "execution_count": null,
   "metadata": {
    "id": "dl34pZBw-xxi",
    "outputId": "4e47cf9e-e027-4102-b07f-966ca037d54f"
   },
   "outputs": [],
   "source": [
    "y_pred = classifier.predict(X_test) \n",
    "y_pred[0:5]"
   ]
  },
  {
   "cell_type": "markdown",
   "metadata": {
    "id": "8AiKsFHx-xxj"
   },
   "source": [
    "#### Modellbewertung"
   ]
  },
  {
   "cell_type": "code",
   "execution_count": null,
   "metadata": {
    "id": "0EhBvXQk-xxj",
    "outputId": "0b85070d-0579-4003-d35a-120b45df2a36"
   },
   "outputs": [],
   "source": [
    "from sklearn.metrics import accuracy_score, confusion_matrix  \n",
    "print(accuracy_score(y_test, y_pred))\n",
    "print(confusion_matrix(y_test, y_pred))  "
   ]
  },
  {
   "cell_type": "code",
   "execution_count": null,
   "metadata": {
    "id": "8Xh__xXk-xxk"
   },
   "outputs": [],
   "source": []
  }
 ],
 "metadata": {
  "colab": {
   "name": "Nearest_Neighbor_Credit_Scoring.ipynb",
   "provenance": [],
   "toc_visible": true
  },
  "kernelspec": {
   "display_name": "Python 3",
   "language": "python",
   "name": "python3"
  },
  "language_info": {
   "codemirror_mode": {
    "name": "ipython",
    "version": 3
   },
   "file_extension": ".py",
   "mimetype": "text/x-python",
   "name": "python",
   "nbconvert_exporter": "python",
   "pygments_lexer": "ipython3",
   "version": "3.7.9"
  }
 },
 "nbformat": 4,
 "nbformat_minor": 1
}
