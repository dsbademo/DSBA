{
 "cells": [
  {
   "cell_type": "markdown",
   "metadata": {
    "id": "EzBiSoyhh6K5"
   },
   "source": [
    "# Naive Bayes Algorithmus"
   ]
  },
  {
   "cell_type": "markdown",
   "metadata": {
    "id": "PM0Xzb0Rh6K-"
   },
   "source": [
    "#### Import der Bibliotheken und Utility-Funktionen"
   ]
  },
  {
   "cell_type": "code",
   "execution_count": null,
   "metadata": {
    "id": "u6xPHtVFh6K-"
   },
   "outputs": [],
   "source": [
    "import imp\n",
    "import os\n",
    "import numpy as np\n",
    "from sklearn import datasets"
   ]
  },
  {
   "cell_type": "code",
   "execution_count": null,
   "metadata": {
    "id": "gte-d0Nfh6K_"
   },
   "outputs": [],
   "source": [
    "from matplotlib.colors import ListedColormap\n",
    "import matplotlib.pyplot as plt"
   ]
  },
  {
   "cell_type": "markdown",
   "metadata": {
    "id": "kzTDjgFfh6LA"
   },
   "source": [
    "#### Import und Vorverarbeitung der Iris Daten"
   ]
  },
  {
   "cell_type": "code",
   "execution_count": null,
   "metadata": {
    "id": "hcKO2XVDh6LA"
   },
   "outputs": [],
   "source": [
    "iris = datasets.load_iris()"
   ]
  },
  {
   "cell_type": "code",
   "execution_count": null,
   "metadata": {
    "id": "dhD6QZvSh6LA"
   },
   "outputs": [],
   "source": [
    "f1 = 0\n",
    "f2 = 1\n",
    "X = iris.data[0:100, (f1, f2)]\n",
    "#X = np.concatenate((iris.data[0:50, (f1, f2)], iris.data[50:100, (f1, f2)]))\n",
    "#X = iris.data[50:150, (f1, f2)]\n",
    "y = iris.target[0:100]"
   ]
  },
  {
   "cell_type": "code",
   "execution_count": null,
   "metadata": {
    "id": "UY98Kyt2h6LA"
   },
   "outputs": [],
   "source": [
    "from sklearn.model_selection import train_test_split\n",
    "X_train, X_test, y_train, y_test = train_test_split(X, y, test_size=0.3, random_state=0)"
   ]
  },
  {
   "cell_type": "code",
   "execution_count": null,
   "metadata": {
    "id": "5gh1SUUhh6LB"
   },
   "outputs": [],
   "source": [
    "from sklearn.preprocessing import StandardScaler\n",
    "sc = StandardScaler()\n",
    "sc.fit(X_train)\n",
    "X_train_std = sc.transform(X_train)\n",
    "X_test_std = sc.transform(X_test)\n",
    "X_train_std = X_train\n",
    "X_test_std = X_test"
   ]
  },
  {
   "cell_type": "markdown",
   "metadata": {
    "id": "YcnMd_ywh6LB"
   },
   "source": [
    "#### Naive Bayes Modell"
   ]
  },
  {
   "cell_type": "code",
   "execution_count": null,
   "metadata": {
    "id": "8-JtMML8h6LB"
   },
   "outputs": [],
   "source": [
    "from sklearn.naive_bayes import GaussianNB\n",
    "naiveBayes = GaussianNB()"
   ]
  },
  {
   "cell_type": "markdown",
   "metadata": {
    "id": "h8xOyBxlh6LB"
   },
   "source": [
    "#### Training des Modells"
   ]
  },
  {
   "cell_type": "code",
   "execution_count": null,
   "metadata": {
    "id": "-AKd9n-9h6LB"
   },
   "outputs": [],
   "source": [
    "naiveBayes.fit(X_train_std, y_train)"
   ]
  },
  {
   "cell_type": "markdown",
   "metadata": {
    "id": "pCXkph93h6LC"
   },
   "source": [
    "#### Vorhersage der Klassen"
   ]
  },
  {
   "cell_type": "code",
   "execution_count": null,
   "metadata": {
    "id": "5pmv4gOLh6LC"
   },
   "outputs": [],
   "source": [
    "y_pred = naiveBayes.predict(X_test_std)"
   ]
  },
  {
   "cell_type": "markdown",
   "metadata": {
    "id": "iX_6Y6pEh6LC"
   },
   "source": [
    "#### Bewertung des Modells"
   ]
  },
  {
   "cell_type": "code",
   "execution_count": null,
   "metadata": {
    "id": "bryekkLGh6LC"
   },
   "outputs": [],
   "source": [
    "print(\"Number of mislabeled points out of a total %d points : %d\" % (X_test_std.shape[0],(y_test != y_pred).sum()))"
   ]
  },
  {
   "cell_type": "markdown",
   "metadata": {
    "id": "nYrN8hieh6LC"
   },
   "source": [
    "#### Plot der Entscheidungsgrenze"
   ]
  },
  {
   "cell_type": "code",
   "execution_count": null,
   "metadata": {
    "id": "M1-EkwFFh6LD"
   },
   "outputs": [],
   "source": [
    "plot_decision_regions(\n",
    "    X_train=X_train_std,\n",
    "    X_test=X_test_std,\n",
    "    y_train=y_train,\n",
    "    y_test=y_test,\n",
    "    classifier=naiveBayes,\n",
    "    xlabel='petal length [standardized]',\n",
    "    ylabel='petal width [standardized]')\n",
    "plt.savefig('naive_bayes', dpi=300)\n",
    "plt.show()"
   ]
  },
  {
   "cell_type": "markdown",
   "metadata": {
    "id": "fvoXTOpwiH3x"
   },
   "source": [
    "#### Utility Functions\n",
    "\n",
    "\n",
    "\n"
   ]
  },
  {
   "cell_type": "code",
   "execution_count": null,
   "metadata": {
    "id": "TCJ8Tp4riM0m"
   },
   "outputs": [],
   "source": [
    "#@title\n",
    "from matplotlib.colors import ListedColormap\n",
    "import matplotlib.pyplot as plt\n",
    "\n",
    "def plot_decision_regions(X_train, X_test, y_train, y_test, classifier, xlabel, ylabel, resolution=0.02):\n",
    "    \n",
    "    print(type(X_test))\n",
    "    \n",
    "    if X_test is None:\n",
    "        X = X_train\n",
    "        y = y_train\n",
    "        test_idx = None\n",
    "    else:\n",
    "        X = np.vstack((X_train, X_test))\n",
    "        y = np.hstack((y_train, y_test))\n",
    "        test_idx = range(y_train.shape[0], y_train.shape[0]+y_test.shape[0])\n",
    "\n",
    "    # setup marker generator and color map\n",
    "    markers = ('s', 'x', 'o', '^', 'v')\n",
    "    colors = ('red', 'blue', 'lightgreen', 'gray', 'cyan')\n",
    "    cmap = ListedColormap(colors[:len(np.unique(y))])\n",
    "\n",
    "    # plot the decision surface\n",
    "    x1_min, x1_max = X[:, 0].min() - 1, X[:, 0].max() + 1\n",
    "    x2_min, x2_max = X[:, 1].min() - 1, X[:, 1].max() + 1\n",
    "    xx1, xx2 = np.meshgrid(np.arange(x1_min, x1_max, resolution),\n",
    "                           np.arange(x2_min, x2_max, resolution))\n",
    "    Z = classifier.predict(np.array([xx1.ravel(), xx2.ravel()]).T)\n",
    "    Z = Z.reshape(xx1.shape)\n",
    "    plt.contourf(xx1, xx2, Z, alpha=0.3, cmap=cmap)\n",
    "    plt.xlim(xx1.min(), xx1.max())\n",
    "    plt.ylim(xx2.min(), xx2.max())\n",
    "\n",
    "    for idx, cl in enumerate(np.unique(y)):\n",
    "        plt.scatter(x=X[y == cl, 0], \n",
    "                    y=X[y == cl, 1],\n",
    "                    alpha=0.8, \n",
    "                    c=colors[idx],\n",
    "                    marker=markers[idx], \n",
    "                    label=cl, \n",
    "                    facecolor='black')\n",
    "\n",
    "    # highlight test samples\n",
    "    if test_idx:\n",
    "        # plot all samples\n",
    "        X_test, y_test = X[test_idx, :], y[test_idx]\n",
    "\n",
    "        plt.scatter(X_test[:, 0],\n",
    "                    X_test[:, 1],\n",
    "                    c=colors[idx],\n",
    "#                    c='',\n",
    "                    facecolor='black',\n",
    "                    alpha=1.0,\n",
    "                    linewidth=1,\n",
    "                    marker='o',\n",
    "                    s=100, \n",
    "                    label='test set')\n",
    "\n",
    "    plt.xlabel(xlabel)\n",
    "    plt.ylabel(ylabel)\n",
    "    plt.legend(loc='upper left')\n",
    "    plt.tight_layout()\n",
    "\n",
    "def plot_history(hist1, hist2, label1, label2):\n",
    "    epochs = range(1, len(hist1))\n",
    "    hist1 = hist1[1:]\n",
    "    hist2 = hist2[1:]\n",
    "    # b+ is for \"blue cross\"\n",
    "    plt.plot(epochs, hist1, 'b+', label=label1)\n",
    "    # \"bo\" is for \"blue dot\"\n",
    "    plt.plot(epochs, hist2, 'bo', label=label2)\n",
    "    plt.xlabel('Epochs')\n",
    "    plt.ylabel('Loss')\n",
    "    plt.legend()\n",
    "\n",
    "    plt.show()"
   ]
  },
  {
   "cell_type": "code",
   "execution_count": null,
   "metadata": {},
   "outputs": [],
   "source": []
  }
 ],
 "metadata": {
  "colab": {
   "collapsed_sections": [],
   "name": "Naive_Bayes_Iris.ipynb",
   "provenance": [],
   "toc_visible": true
  },
  "kernelspec": {
   "display_name": "Python 3",
   "language": "python",
   "name": "python3"
  },
  "language_info": {
   "codemirror_mode": {
    "name": "ipython",
    "version": 3
   },
   "file_extension": ".py",
   "mimetype": "text/x-python",
   "name": "python",
   "nbconvert_exporter": "python",
   "pygments_lexer": "ipython3",
   "version": "3.7.9"
  }
 },
 "nbformat": 4,
 "nbformat_minor": 1
}
