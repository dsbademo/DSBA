{
 "cells": [
  {
   "cell_type": "markdown",
   "metadata": {
    "id": "cF9WKYiAmD0L"
   },
   "source": [
    "# XGBoost Boston House Data"
   ]
  },
  {
   "cell_type": "markdown",
   "metadata": {
    "id": "5D6DxjI_mD0Q"
   },
   "source": [
    "#### Import der Bibliotheken"
   ]
  },
  {
   "cell_type": "code",
   "execution_count": null,
   "metadata": {
    "id": "NZBdDv7dmD0Q"
   },
   "outputs": [],
   "source": [
    "import pandas as pd\n",
    "import numpy as np\n",
    "import matplotlib.pyplot as plt\n",
    "\n",
    "import xgboost as xgb\n",
    "    \n",
    "from sklearn.metrics import mean_squared_error\n",
    "from sklearn.datasets import load_boston\n",
    "from sklearn.model_selection import train_test_split"
   ]
  },
  {
   "cell_type": "markdown",
   "metadata": {
    "id": "0T4RLwpJmD0R"
   },
   "source": [
    "#### Laden der Daten"
   ]
  },
  {
   "cell_type": "code",
   "execution_count": null,
   "metadata": {
    "id": "yI7CS68OmD0R"
   },
   "outputs": [],
   "source": [
    "boston = load_boston()"
   ]
  },
  {
   "cell_type": "markdown",
   "metadata": {
    "id": "R3jhtdSqmD0R"
   },
   "source": [
    "#### Analyse der Daten"
   ]
  },
  {
   "cell_type": "code",
   "execution_count": null,
   "metadata": {
    "colab": {
     "base_uri": "https://localhost:8080/"
    },
    "id": "f5Fgh0u7mD0S",
    "outputId": "de66c2a7-2b8e-4778-f0b8-2e8c37414664"
   },
   "outputs": [],
   "source": [
    "boston.data.shape"
   ]
  },
  {
   "cell_type": "code",
   "execution_count": null,
   "metadata": {
    "colab": {
     "base_uri": "https://localhost:8080/"
    },
    "id": "ui1SqmHZmD0S",
    "outputId": "eb873c62-85b1-4b38-9da2-7e9d944519a8"
   },
   "outputs": [],
   "source": [
    "boston.feature_names"
   ]
  },
  {
   "cell_type": "code",
   "execution_count": null,
   "metadata": {
    "id": "LssKUbEXmD0S"
   },
   "outputs": [],
   "source": [
    "df_houses = pd.DataFrame(boston.data)\n",
    "df_houses.columns = boston.feature_names"
   ]
  },
  {
   "cell_type": "markdown",
   "metadata": {
    "id": "_pTcrFyYmD0S"
   },
   "source": [
    "#### Zielvariable"
   ]
  },
  {
   "cell_type": "code",
   "execution_count": null,
   "metadata": {
    "id": "b2rfyimcmD0S"
   },
   "outputs": [],
   "source": [
    "df_houses['PRICE'] = boston.target"
   ]
  },
  {
   "cell_type": "code",
   "execution_count": null,
   "metadata": {
    "colab": {
     "base_uri": "https://localhost:8080/",
     "height": 142
    },
    "id": "aVLq_HSRmD0T",
    "outputId": "7346d279-90cd-41f6-eace-444348312a0f"
   },
   "outputs": [],
   "source": [
    "df_houses.head(3)"
   ]
  },
  {
   "cell_type": "markdown",
   "metadata": {
    "id": "5-pgrVyYmD0T"
   },
   "source": [
    "#### XGBoost Datenformat"
   ]
  },
  {
   "cell_type": "code",
   "execution_count": null,
   "metadata": {
    "id": "ezXG2PDnmD0T"
   },
   "outputs": [],
   "source": [
    "X = df_houses.iloc[:,:-1]"
   ]
  },
  {
   "cell_type": "code",
   "execution_count": null,
   "metadata": {
    "id": "Y2EDp_wpmD0T"
   },
   "outputs": [],
   "source": [
    "y = df_houses.iloc[:,-1]"
   ]
  },
  {
   "cell_type": "code",
   "execution_count": null,
   "metadata": {
    "id": "zet5dinxmD0T"
   },
   "outputs": [],
   "source": [
    "data_dmatrix = xgb.DMatrix(data=X, label=y)"
   ]
  },
  {
   "cell_type": "markdown",
   "metadata": {
    "id": "IRfPDsJAmD0U"
   },
   "source": [
    "#### Train/Test Split"
   ]
  },
  {
   "cell_type": "code",
   "execution_count": null,
   "metadata": {
    "id": "C1LYT7iEmD0U"
   },
   "outputs": [],
   "source": [
    "X_train, X_test, y_train, y_test = train_test_split(X, y, test_size=0.2, random_state=123)"
   ]
  },
  {
   "cell_type": "markdown",
   "metadata": {
    "id": "JYiWpJLQmD0U"
   },
   "source": [
    "#### XGBoost Modell "
   ]
  },
  {
   "cell_type": "code",
   "execution_count": null,
   "metadata": {
    "id": "sru8Nui4mD0U"
   },
   "outputs": [],
   "source": [
    "xg_reg = xgb.XGBRegressor(\n",
    "    objective ='reg:squarederror',\n",
    "    colsample_bytree = 0.3,\n",
    "    learning_rate = 0.1,\n",
    "    max_depth = 5,\n",
    "    alpha = 10,\n",
    "    n_estimators = 10)"
   ]
  },
  {
   "cell_type": "markdown",
   "metadata": {
    "id": "cm7CMiEBmD0U"
   },
   "source": [
    "#### Training"
   ]
  },
  {
   "cell_type": "code",
   "execution_count": null,
   "metadata": {
    "colab": {
     "base_uri": "https://localhost:8080/"
    },
    "id": "WEz4BMWkmD0V",
    "outputId": "cd85d7ae-e497-4841-8367-06a63fb88517"
   },
   "outputs": [],
   "source": [
    "xg_reg.fit(X_train,y_train)"
   ]
  },
  {
   "cell_type": "markdown",
   "metadata": {
    "id": "BBCjja99mD0V"
   },
   "source": [
    "#### Vorhersage"
   ]
  },
  {
   "cell_type": "code",
   "execution_count": null,
   "metadata": {
    "id": "xWW8sAkfmD0V"
   },
   "outputs": [],
   "source": [
    "preds = xg_reg.predict(X_test)"
   ]
  },
  {
   "cell_type": "code",
   "execution_count": null,
   "metadata": {
    "colab": {
     "base_uri": "https://localhost:8080/"
    },
    "id": "72ayavgJmD0V",
    "outputId": "3268de66-76b2-4ef0-d240-ee4c57681ba1"
   },
   "outputs": [],
   "source": [
    "rmse = np.sqrt(mean_squared_error(y_test, preds))\n",
    "print(\"RMSE: %f\" % (rmse))"
   ]
  },
  {
   "cell_type": "markdown",
   "metadata": {
    "id": "iiBqirNxmD0V"
   },
   "source": [
    "## Kreuzvalidierung"
   ]
  },
  {
   "cell_type": "code",
   "execution_count": null,
   "metadata": {
    "id": "2mSJ86TDmD0V"
   },
   "outputs": [],
   "source": [
    "params = {\"objective\":\"reg:squarederror\",'colsample_bytree': 0.3,'learning_rate': 0.1,\n",
    "                'max_depth': 5, 'alpha': 10}"
   ]
  },
  {
   "cell_type": "code",
   "execution_count": null,
   "metadata": {
    "colab": {
     "base_uri": "https://localhost:8080/"
    },
    "id": "p1iQ2TOYmD0W",
    "outputId": "49141080-7d7a-4f63-cf6e-03ea510f17b8"
   },
   "outputs": [],
   "source": [
    "cv_results = xgb.cv(dtrain=data_dmatrix, params=params, nfold=3,\n",
    "                    num_boost_round=50,early_stopping_rounds=10,metrics=\"rmse\", as_pandas=True, seed=123)"
   ]
  },
  {
   "cell_type": "code",
   "execution_count": null,
   "metadata": {
    "colab": {
     "base_uri": "https://localhost:8080/"
    },
    "id": "GZKhe1ptmD0W",
    "outputId": "70282294-fbe8-498e-f0d5-e034a184663a"
   },
   "outputs": [],
   "source": [
    "print(cv_results.head())\n",
    "print(cv_results.tail())"
   ]
  },
  {
   "cell_type": "code",
   "execution_count": null,
   "metadata": {
    "colab": {
     "base_uri": "https://localhost:8080/",
     "height": 286
    },
    "id": "ofuL4fJNmD0W",
    "outputId": "6fe8a462-1f9c-4819-de35-aee21c743426"
   },
   "outputs": [],
   "source": [
    "plt.plot(cv_results[\"test-rmse-mean\"])"
   ]
  },
  {
   "cell_type": "markdown",
   "metadata": {
    "id": "ATiBfiWemD0W"
   },
   "source": [
    "#### Erstellung des besten Modells"
   ]
  },
  {
   "cell_type": "code",
   "execution_count": null,
   "metadata": {
    "colab": {
     "base_uri": "https://localhost:8080/"
    },
    "id": "JETsifYzmD0W",
    "outputId": "5d61eea2-4b4f-4e37-dc76-2c5e9a2aa27e"
   },
   "outputs": [],
   "source": [
    "xg_reg = xgb.train(params=params, dtrain=data_dmatrix, num_boost_round=10)"
   ]
  },
  {
   "cell_type": "markdown",
   "metadata": {
    "id": "zY5TlIl1mD0W"
   },
   "source": [
    "#### Beispielbaum"
   ]
  },
  {
   "cell_type": "code",
   "execution_count": null,
   "metadata": {
    "colab": {
     "base_uri": "https://localhost:8080/",
     "height": 248
    },
    "id": "Rk2SBrDTmD0X",
    "outputId": "b305b9a9-6dbd-4a19-f4ad-9735a343233a"
   },
   "outputs": [],
   "source": [
    "import matplotlib.pyplot as plt\n",
    "xgb.plot_tree(xg_reg,num_trees=1)\n",
    "plt.rcParams['figure.figsize'] = [250, 200]\n",
    "#plt.tight_layout()\n",
    "plt.savefig('xgb1.pdf')\n",
    "plt.show()"
   ]
  },
  {
   "cell_type": "markdown",
   "metadata": {
    "id": "iwcwJ1w0mD0X"
   },
   "source": [
    "#### Interpretation Feature Importance"
   ]
  },
  {
   "cell_type": "code",
   "execution_count": null,
   "metadata": {
    "colab": {
     "base_uri": "https://localhost:8080/",
     "height": 1000
    },
    "id": "l4FjVieNmD0X",
    "outputId": "2e655305-57e1-4ad8-91b0-08dccb5aacc0"
   },
   "outputs": [],
   "source": [
    "xgb.plot_importance(xg_reg)\n",
    "plt.rcParams['figure.figsize'] = [5, 5]\n",
    "plt.show()"
   ]
  },
  {
   "cell_type": "code",
   "execution_count": null,
   "metadata": {},
   "outputs": [],
   "source": []
  }
 ],
 "metadata": {
  "colab": {
   "name": "xgb_boston.ipynb",
   "provenance": []
  },
  "kernelspec": {
   "display_name": "Python 3 (ipykernel)",
   "language": "python",
   "name": "python3"
  },
  "language_info": {
   "codemirror_mode": {
    "name": "ipython",
    "version": 3
   },
   "file_extension": ".py",
   "mimetype": "text/x-python",
   "name": "python",
   "nbconvert_exporter": "python",
   "pygments_lexer": "ipython3",
   "version": "3.9.12"
  }
 },
 "nbformat": 4,
 "nbformat_minor": 1
}
