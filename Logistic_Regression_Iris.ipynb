{
 "cells": [
  {
   "cell_type": "markdown",
   "metadata": {
    "id": "MwmzlDHp2ezU"
   },
   "source": [
    "# Logistische Regression"
   ]
  },
  {
   "cell_type": "markdown",
   "metadata": {
    "id": "UpzIf9GL2ezZ"
   },
   "source": [
    "#### Import der Bibliotheken und Utility-Funktionen"
   ]
  },
  {
   "cell_type": "code",
   "execution_count": null,
   "metadata": {
    "id": "eOw6kwN12ezZ"
   },
   "outputs": [],
   "source": [
    "import imp\n",
    "import os\n",
    "import numpy as np\n",
    "from sklearn import datasets"
   ]
  },
  {
   "cell_type": "code",
   "execution_count": null,
   "metadata": {
    "id": "zabkED6Z2eza"
   },
   "outputs": [],
   "source": [
    "from matplotlib.colors import ListedColormap\n",
    "import matplotlib.pyplot as plt"
   ]
  },
  {
   "cell_type": "code",
   "execution_count": null,
   "metadata": {},
   "outputs": [],
   "source": [
    "# Import weiterer py-files, Aufruf mit utils.xyz\n",
    "!wget -O utils.py https://raw.githubusercontent.com/dsbademo/DSBA/main/utils.py\n",
    "#os.listdir(\"./\")\n",
    "utils = imp.load_source(\"utils\", \"./utils.py\")"
   ]
  },
  {
   "cell_type": "markdown",
   "metadata": {
    "id": "5Ujj3v-92eza"
   },
   "source": [
    "#### Import und Vorverarbeitung der Iris Daten"
   ]
  },
  {
   "cell_type": "code",
   "execution_count": null,
   "metadata": {
    "id": "AkpnMC-x2ezb"
   },
   "outputs": [],
   "source": [
    "iris = datasets.load_iris()"
   ]
  },
  {
   "cell_type": "code",
   "execution_count": null,
   "metadata": {
    "id": "ZDwHnDAO2ezb"
   },
   "outputs": [],
   "source": [
    "f1 = 0\n",
    "f2 = 1\n",
    "X = iris.data[0:100, (f1, f2)]\n",
    "#X = np.concatenate((iris.data[0:50, (f1, f2)], iris.data[50:100, (f1, f2)]))\n",
    "#X = iris.data[50:150, (f1, f2)]\n",
    "y = iris.target[0:100]"
   ]
  },
  {
   "cell_type": "code",
   "execution_count": null,
   "metadata": {
    "id": "ZC1-0wDS2ezb"
   },
   "outputs": [],
   "source": [
    "from sklearn.model_selection import train_test_split\n",
    "X_train, X_test, y_train, y_test = train_test_split(X, y, test_size=0.3, random_state=0)"
   ]
  },
  {
   "cell_type": "code",
   "execution_count": null,
   "metadata": {
    "id": "uOVREGtZ2ezc"
   },
   "outputs": [],
   "source": [
    "from sklearn.preprocessing import StandardScaler\n",
    "sc = StandardScaler()\n",
    "sc.fit(X_train)\n",
    "X_train_std = sc.transform(X_train)\n",
    "X_test_std = sc.transform(X_test)\n",
    "X_train_std = X_train\n",
    "X_test_std = X_test"
   ]
  },
  {
   "cell_type": "markdown",
   "metadata": {
    "id": "PoOm8aBV2ezc"
   },
   "source": [
    "#### Logistische Regression"
   ]
  },
  {
   "cell_type": "code",
   "execution_count": null,
   "metadata": {
    "id": "IcsANVG22ezd"
   },
   "outputs": [],
   "source": [
    "from sklearn.linear_model import LogisticRegression\n",
    "logReg = LogisticRegression(random_state=0)"
   ]
  },
  {
   "cell_type": "markdown",
   "metadata": {
    "id": "c9SGm5742ezd"
   },
   "source": [
    "#### Training des Modells"
   ]
  },
  {
   "cell_type": "code",
   "execution_count": null,
   "metadata": {
    "colab": {
     "base_uri": "https://localhost:8080/"
    },
    "id": "VewRng4D2ezd",
    "outputId": "0feab7fd-7554-46c7-f8a2-07ac3f8bd79c"
   },
   "outputs": [],
   "source": [
    "logReg.fit(X_train_std, y_train)"
   ]
  },
  {
   "cell_type": "markdown",
   "metadata": {
    "id": "UO2WkSvw2ezd"
   },
   "source": [
    "#### Vorhersage der Klassen"
   ]
  },
  {
   "cell_type": "code",
   "execution_count": null,
   "metadata": {
    "id": "h3xQaf3e2ezd"
   },
   "outputs": [],
   "source": [
    "y_pred = logReg.predict(X_test_std)"
   ]
  },
  {
   "cell_type": "markdown",
   "metadata": {
    "id": "S4lhcb1L2eze"
   },
   "source": [
    "#### Bewertung des Modells"
   ]
  },
  {
   "cell_type": "code",
   "execution_count": null,
   "metadata": {
    "colab": {
     "base_uri": "https://localhost:8080/"
    },
    "id": "wTbGFICT2eze",
    "outputId": "6dd28e16-06ba-4c99-ff7c-951b781af496"
   },
   "outputs": [],
   "source": [
    "print(\"Number of mislabeled points out of a total %d points : %d\" % (X_test_std.shape[0],(y_test != y_pred).sum()))"
   ]
  },
  {
   "cell_type": "markdown",
   "metadata": {
    "id": "ag32McZ_2eze"
   },
   "source": [
    "#### Plot der Entscheidungsgrenze"
   ]
  },
  {
   "cell_type": "code",
   "execution_count": null,
   "metadata": {
    "colab": {
     "base_uri": "https://localhost:8080/",
     "height": 351
    },
    "id": "LPcN0QB72eze",
    "outputId": "4b043347-549c-46dc-abdf-3265b0b7d950"
   },
   "outputs": [],
   "source": [
    "utils.plot_decision_regions(\n",
    "    X_train=X_train_std,\n",
    "    X_test=X_test_std,\n",
    "    y_train=y_train,\n",
    "    y_test=y_test,\n",
    "    classifier=logReg,\n",
    "    xlabel='petal length [standardized]',\n",
    "    ylabel='petal width [standardized]')\n",
    "plt.savefig('log_regression', dpi=300)\n",
    "plt.show();"
   ]
  },
  {
   "cell_type": "code",
   "execution_count": null,
   "metadata": {
    "id": "Ilg56O-12eze"
   },
   "outputs": [],
   "source": []
  },
  {
   "cell_type": "code",
   "execution_count": null,
   "metadata": {},
   "outputs": [],
   "source": []
  }
 ],
 "metadata": {
  "colab": {
   "name": "Logistic_Regression_Iris.ipynb",
   "provenance": [],
   "toc_visible": true
  },
  "kernelspec": {
   "display_name": "Python 3 (ipykernel)",
   "language": "python",
   "name": "python3"
  },
  "language_info": {
   "codemirror_mode": {
    "name": "ipython",
    "version": 3
   },
   "file_extension": ".py",
   "mimetype": "text/x-python",
   "name": "python",
   "nbconvert_exporter": "python",
   "pygments_lexer": "ipython3",
   "version": "3.9.12"
  }
 },
 "nbformat": 4,
 "nbformat_minor": 1
}
