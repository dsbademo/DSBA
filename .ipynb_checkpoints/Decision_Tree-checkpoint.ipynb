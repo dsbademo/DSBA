{
 "cells": [
  {
   "cell_type": "markdown",
   "metadata": {
    "id": "KG_syp7S6-2E"
   },
   "source": [
    "# Decision Tree Playgolf"
   ]
  },
  {
   "cell_type": "markdown",
   "metadata": {
    "id": "mu0tFB8R6-2F"
   },
   "source": [
    "#### Laden der Bibliotheken"
   ]
  },
  {
   "cell_type": "code",
   "execution_count": null,
   "metadata": {
    "id": "mWYZgXtG6-2F"
   },
   "outputs": [],
   "source": [
    "import pandas as pd\n",
    "import matplotlib.pyplot as plt\n",
    "\n",
    "from sklearn.tree import DecisionTreeClassifier\n",
    "from sklearn.model_selection import train_test_split\n",
    "from sklearn import metrics"
   ]
  },
  {
   "cell_type": "markdown",
   "metadata": {
    "id": "XCPBLQUO6-2G"
   },
   "source": [
    "#### Laden des Playgolf-Datensatzes"
   ]
  },
  {
   "cell_type": "code",
   "execution_count": null,
   "metadata": {
    "id": "r4Zfh1Y26-2H"
   },
   "outputs": [],
   "source": [
    "!wget -O play_golf.csv https://raw.githubusercontent.com/dsbademo/DSBA/main/play_golf.csv\n",
    "playgolf = pd.read_csv(\"play_golf.csv\")\n",
    "playgolf.head()"
   ]
  },
  {
   "cell_type": "markdown",
   "metadata": {
    "id": "JfKmuqu16-2H"
   },
   "source": [
    "#### Beschreibung des Datensatzes"
   ]
  },
  {
   "cell_type": "code",
   "execution_count": null,
   "metadata": {
    "id": "s3bV8QkM6-2I",
    "scrolled": true
   },
   "outputs": [],
   "source": [
    "print(playgolf.columns)\n",
    "print(playgolf.shape)\n",
    "print(playgolf.head(3))"
   ]
  },
  {
   "cell_type": "markdown",
   "metadata": {
    "id": "v2HisI7M6-2I"
   },
   "source": [
    "#### One Hot Encoding(Dummy Encoding) der kategorialen Variablen"
   ]
  },
  {
   "cell_type": "code",
   "execution_count": null,
   "metadata": {
    "id": "GjCiWD_d6-2I"
   },
   "outputs": [],
   "source": [
    "playgolf = pd.get_dummies(playgolf, columns=[\"Outlook\",\"Temperature\",\"Humidity\",\"Windy\"])"
   ]
  },
  {
   "cell_type": "code",
   "execution_count": null,
   "metadata": {
    "id": "NgEU-BdO6-2J"
   },
   "outputs": [],
   "source": [
    "print(playgolf.columns)\n",
    "print(playgolf.shape)\n",
    "print(playgolf.head(3))"
   ]
  },
  {
   "cell_type": "markdown",
   "metadata": {
    "id": "p6FHDu8T6-2J"
   },
   "source": [
    "#### Selektion der Variablen"
   ]
  },
  {
   "cell_type": "code",
   "execution_count": null,
   "metadata": {
    "id": "CVAhJjsJ6-2J"
   },
   "outputs": [],
   "source": [
    "X = playgolf.values[:,1:11] # Features\n",
    "y = playgolf.values[:,0] # Target variable"
   ]
  },
  {
   "cell_type": "markdown",
   "metadata": {
    "id": "O24oHtLh6-2J"
   },
   "source": [
    "#### Split dataset into training set and test set"
   ]
  },
  {
   "cell_type": "code",
   "execution_count": null,
   "metadata": {
    "id": "MLDEyxuV6-2K"
   },
   "outputs": [],
   "source": [
    "X_train, X_test, y_train, y_test = train_test_split(X, y, test_size=0.2, random_state=1)"
   ]
  },
  {
   "cell_type": "markdown",
   "metadata": {
    "id": "xIJ0o36E6-2K"
   },
   "source": [
    "#### Create Decision Tree classifer object"
   ]
  },
  {
   "cell_type": "code",
   "execution_count": null,
   "metadata": {
    "id": "TgFgXsPO6-2K"
   },
   "outputs": [],
   "source": [
    "tree = DecisionTreeClassifier(criterion='entropy', max_depth=5)"
   ]
  },
  {
   "cell_type": "markdown",
   "metadata": {
    "id": "QX98qxiv6-2L"
   },
   "source": [
    "#### Train Decision Tree Classifer"
   ]
  },
  {
   "cell_type": "code",
   "execution_count": null,
   "metadata": {
    "id": "1CXIOCs76-2L"
   },
   "outputs": [],
   "source": [
    "tree = tree.fit(X_train,y_train)"
   ]
  },
  {
   "cell_type": "markdown",
   "metadata": {
    "id": "F-k0f5-C6-2L"
   },
   "source": [
    "#### Vorhersage"
   ]
  },
  {
   "cell_type": "code",
   "execution_count": null,
   "metadata": {
    "id": "nBpKJxfz6-2L"
   },
   "outputs": [],
   "source": [
    "y_pred = tree.predict(X_test)\n",
    "y_pred"
   ]
  },
  {
   "cell_type": "markdown",
   "metadata": {
    "id": "TcxmNnVq6-2L"
   },
   "source": [
    "#### Modell Güte"
   ]
  },
  {
   "cell_type": "code",
   "execution_count": null,
   "metadata": {
    "id": "IuouX0dY6-2M"
   },
   "outputs": [],
   "source": [
    "print(\"Accuracy:\",metrics.accuracy_score(y_test, y_pred))"
   ]
  },
  {
   "cell_type": "markdown",
   "metadata": {
    "id": "-VwJBXZp6-2M"
   },
   "source": [
    "#### Baumstruktur"
   ]
  },
  {
   "cell_type": "code",
   "execution_count": null,
   "metadata": {
    "id": "LSZAqljD6-2M"
   },
   "outputs": [],
   "source": [
    "from sklearn.tree import plot_tree\n",
    "plt.figure(figsize=(10,7))\n",
    "plt_tree = plot_tree(tree, filled=True, feature_names = playgolf.columns[1:], class_names=['Yes','No'], impurity=True, proportion=True, rounded=True, fontsize=10)"
   ]
  },
  {
   "cell_type": "code",
   "execution_count": null,
   "metadata": {
    "id": "ofTs4mM96-2M"
   },
   "outputs": [],
   "source": []
  }
 ],
 "metadata": {
  "colab": {
   "provenance": []
  },
  "kernelspec": {
   "display_name": "Python 3 (ipykernel)",
   "language": "python",
   "name": "python3"
  },
  "language_info": {
   "codemirror_mode": {
    "name": "ipython",
    "version": 3
   },
   "file_extension": ".py",
   "mimetype": "text/x-python",
   "name": "python",
   "nbconvert_exporter": "python",
   "pygments_lexer": "ipython3",
   "version": "3.9.12"
  }
 },
 "nbformat": 4,
 "nbformat_minor": 1
}
