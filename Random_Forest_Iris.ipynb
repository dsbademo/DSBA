{
  "cells": [
    {
      "cell_type": "markdown",
      "metadata": {
        "id": "8KvmRP9MYoDI"
      },
      "source": [
        "# Random Forest"
      ]
    },
    {
      "cell_type": "markdown",
      "metadata": {
        "id": "FuQDxMHvYoDK"
      },
      "source": [
        "#### Import der Bibliotheken und Utility-Funktionen"
      ]
    },
    {
      "cell_type": "code",
      "source": [
        "!wget https://raw.githubusercontent.com/dsbademo/DSBA/main/utils.py"
      ],
      "metadata": {
        "id": "lwe0yncdYufW",
        "outputId": "2565865b-8d45-477e-c62f-0d0d2ebd23e4",
        "colab": {
          "base_uri": "https://localhost:8080/"
        }
      },
      "execution_count": 9,
      "outputs": [
        {
          "output_type": "stream",
          "name": "stdout",
          "text": [
            "--2022-09-10 12:59:07--  https://raw.githubusercontent.com/dsbademo/DSBA/main/utils.py\n",
            "Resolving raw.githubusercontent.com (raw.githubusercontent.com)... 185.199.108.133, 185.199.109.133, 185.199.110.133, ...\n",
            "Connecting to raw.githubusercontent.com (raw.githubusercontent.com)|185.199.108.133|:443... connected.\n",
            "HTTP request sent, awaiting response... 200 OK\n",
            "Length: 2375 (2.3K) [text/plain]\n",
            "Saving to: ‘utils.py’\n",
            "\n",
            "\rutils.py              0%[                    ]       0  --.-KB/s               \rutils.py            100%[===================>]   2.32K  --.-KB/s    in 0s      \n",
            "\n",
            "2022-09-10 12:59:07 (48.1 MB/s) - ‘utils.py’ saved [2375/2375]\n",
            "\n"
          ]
        }
      ]
    },
    {
      "cell_type": "code",
      "execution_count": 10,
      "metadata": {
        "id": "pL_rQYPpYoDK"
      },
      "outputs": [],
      "source": [
        "import imp\n",
        "import os\n",
        "import numpy as np\n",
        "from sklearn import datasets"
      ]
    },
    {
      "cell_type": "code",
      "execution_count": 11,
      "metadata": {
        "id": "aQWsOy0_YoDL"
      },
      "outputs": [],
      "source": [
        "from matplotlib.colors import ListedColormap\n",
        "import matplotlib.pyplot as plt"
      ]
    },
    {
      "cell_type": "code",
      "execution_count": 12,
      "metadata": {
        "id": "eKTyTU6bYoDL"
      },
      "outputs": [],
      "source": [
        "# Import weiterer py-files, Aufruf mit utils.xyz\n",
        "#os.listdir(\"./\")\n",
        "utils = imp.load_source(\"utils\", \"./utils.py\")"
      ]
    },
    {
      "cell_type": "markdown",
      "metadata": {
        "id": "jEHqpYxXYoDL"
      },
      "source": [
        "#### Import und Vorverarbeitung der Iris Daten"
      ]
    },
    {
      "cell_type": "code",
      "execution_count": 13,
      "metadata": {
        "id": "_H0N_Vj7YoDL"
      },
      "outputs": [],
      "source": [
        "iris = datasets.load_iris()"
      ]
    },
    {
      "cell_type": "code",
      "execution_count": 14,
      "metadata": {
        "id": "MhYI43N1YoDL"
      },
      "outputs": [],
      "source": [
        "f1 = 0\n",
        "f2 = 1\n",
        "X = iris.data[0:100, (f1, f2)]\n",
        "#X = np.concatenate((iris.data[0:50, (f1, f2)], iris.data[50:100, (f1, f2)]))\n",
        "#X = iris.data[50:150, (f1, f2)]\n",
        "y = iris.target[0:100]"
      ]
    },
    {
      "cell_type": "code",
      "execution_count": 15,
      "metadata": {
        "id": "zOLhaj8zYoDM"
      },
      "outputs": [],
      "source": [
        "from sklearn.model_selection import train_test_split\n",
        "X_train, X_test, y_train, y_test = train_test_split(X, y, test_size=0.3, random_state=0)"
      ]
    },
    {
      "cell_type": "code",
      "execution_count": 16,
      "metadata": {
        "id": "3puuZLCAYoDM"
      },
      "outputs": [],
      "source": [
        "from sklearn.preprocessing import StandardScaler\n",
        "sc = StandardScaler()\n",
        "sc.fit(X_train)\n",
        "X_train_std = sc.transform(X_train)\n",
        "X_test_std = sc.transform(X_test)\n",
        "X_train_std = X_train\n",
        "X_test_std = X_test"
      ]
    },
    {
      "cell_type": "markdown",
      "metadata": {
        "id": "gwUNxSmuYoDM"
      },
      "source": [
        "#### Random Forest"
      ]
    },
    {
      "cell_type": "code",
      "execution_count": 17,
      "metadata": {
        "id": "TGtsOJlMYoDM"
      },
      "outputs": [],
      "source": [
        "from sklearn.ensemble import RandomForestRegressor\n",
        "ranForest = RandomForestRegressor(random_state=0)"
      ]
    },
    {
      "cell_type": "markdown",
      "metadata": {
        "id": "oGlSQB9BYoDM"
      },
      "source": [
        "#### Training des Modells"
      ]
    },
    {
      "cell_type": "code",
      "execution_count": 18,
      "metadata": {
        "id": "EZUMWMUnYoDM",
        "outputId": "f90df4dd-4131-4d8c-a827-f4dd157cf5ed",
        "colab": {
          "base_uri": "https://localhost:8080/"
        }
      },
      "outputs": [
        {
          "output_type": "execute_result",
          "data": {
            "text/plain": [
              "RandomForestRegressor(random_state=0)"
            ]
          },
          "metadata": {},
          "execution_count": 18
        }
      ],
      "source": [
        "ranForest.fit(X_train_std, y_train)"
      ]
    },
    {
      "cell_type": "markdown",
      "metadata": {
        "id": "HNxRf4-DYoDN"
      },
      "source": [
        "#### Vorhersage der Klassen"
      ]
    },
    {
      "cell_type": "code",
      "execution_count": 19,
      "metadata": {
        "id": "xcM17vRhYoDN"
      },
      "outputs": [],
      "source": [
        "y_pred = ranForest.predict(X_test_std)"
      ]
    },
    {
      "cell_type": "markdown",
      "metadata": {
        "id": "EfaAIjpuYoDN"
      },
      "source": [
        "#### Bewertung des Modells"
      ]
    },
    {
      "cell_type": "code",
      "execution_count": 20,
      "metadata": {
        "id": "afhEd4wjYoDN",
        "outputId": "e0d03bc3-4f97-494a-b4eb-2d6beded11ef",
        "colab": {
          "base_uri": "https://localhost:8080/"
        }
      },
      "outputs": [
        {
          "output_type": "stream",
          "name": "stdout",
          "text": [
            "Number of mislabeled points out of a total 30 points : 6\n"
          ]
        }
      ],
      "source": [
        "print(\"Number of mislabeled points out of a total %d points : %d\" % (X_test_std.shape[0],(y_test != y_pred).sum()))"
      ]
    },
    {
      "cell_type": "markdown",
      "metadata": {
        "id": "zvMgiCsRYoDN"
      },
      "source": [
        "#### Plot der Entscheidungsgrenze"
      ]
    },
    {
      "cell_type": "code",
      "execution_count": 21,
      "metadata": {
        "id": "aKsdeWRyYoDN",
        "outputId": "4b7ddcc1-49cd-419f-8f24-b4386b737b72",
        "colab": {
          "base_uri": "https://localhost:8080/",
          "height": 368
        }
      },
      "outputs": [
        {
          "output_type": "stream",
          "name": "stdout",
          "text": [
            "<class 'numpy.ndarray'>\n"
          ]
        },
        {
          "output_type": "stream",
          "name": "stderr",
          "text": [
            "./utils.py:56: MatplotlibDeprecationWarning: Using a string of single character colors as a color sequence is deprecated. Use an explicit list instead.\n",
            "  <script crossorigin=\"anonymous\" defer=\"defer\" type=\"application/javascript\" src=\"https://github.githubassets.com/assets/notifications-global-47ba35d34d1d.js\"></script>\n"
          ]
        },
        {
          "output_type": "display_data",
          "data": {
            "text/plain": [
              "<Figure size 432x288 with 1 Axes>"
            ],
            "image/png": "[encoded data removed]"
          },
          "metadata": {
            "needs_background": "light"
          }
        }
      ],
      "source": [
        "utils.plot_decision_regions(\n",
        "    X_train=X_train_std,\n",
        "    X_test=X_test_std,\n",
        "    y_train=y_train,\n",
        "    y_test=y_test,\n",
        "    classifier=ranForest,\n",
        "    xlabel='petal length [standardized]',\n",
        "    ylabel='petal width [standardized]')\n",
        "plt.savefig('ran_forest', dpi=300)\n",
        "plt.show()"
      ]
    },
    {
      "cell_type": "code",
      "execution_count": null,
      "metadata": {
        "id": "JldUame2YoDO"
      },
      "outputs": [],
      "source": []
    }
  ],
  "metadata": {
    "kernelspec": {
      "display_name": "Python 3",
      "language": "python",
      "name": "python3"
    },
    "language_info": {
      "codemirror_mode": {
        "name": "ipython",
        "version": 3
      },
      "file_extension": ".py",
      "mimetype": "text/x-python",
      "name": "python",
      "nbconvert_exporter": "python",
      "pygments_lexer": "ipython3",
      "version": "3.6.6"
    },
    "colab": {
      "provenance": []
    }
  },
  "nbformat": 4,
  "nbformat_minor": 0
}