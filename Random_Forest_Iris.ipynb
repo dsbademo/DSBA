{
  "cells": [
    {
      "cell_type": "markdown",
      "metadata": {
        "id": "8KvmRP9MYoDI"
      },
      "source": [
        "# Random Forest"
      ]
    },
    {
      "cell_type": "markdown",
      "metadata": {
        "id": "FuQDxMHvYoDK"
      },
      "source": [
        "#### Import der Bibliotheken und Utility-Funktionen"
      ]
    },
    {
      "cell_type": "code",
      "execution_count": null,
      "metadata": {
        "id": "pL_rQYPpYoDK"
      },
      "outputs": [],
      "source": [
        "import imp\n",
        "import os\n",
        "import numpy as np\n",
        "from sklearn import datasets"
      ]
    },
    {
      "cell_type": "code",
      "execution_count": null,
      "metadata": {
        "id": "aQWsOy0_YoDL"
      },
      "outputs": [],
      "source": [
        "from matplotlib.colors import ListedColormap\n",
        "import matplotlib.pyplot as plt"
      ]
    },
    {
      "cell_type": "code",
      "execution_count": null,
      "metadata": {
        "id": "eKTyTU6bYoDL"
      },
      "outputs": [],
      "source": [
        "# Import weiterer py-files, Aufruf mit utils.xyz\n",
        "!wget https://raw.githubusercontent.com/dsbademo/DSBA/main/utils.py\n",
        "#os.listdir(\"./\")\n",
        "utils = imp.load_source(\"utils\", \"./utils.py\")"
      ]
    },
    {
      "cell_type": "markdown",
      "metadata": {
        "id": "jEHqpYxXYoDL"
      },
      "source": [
        "#### Import und Vorverarbeitung der Iris Daten"
      ]
    },
    {
      "cell_type": "code",
      "execution_count": null,
      "metadata": {
        "id": "_H0N_Vj7YoDL"
      },
      "outputs": [],
      "source": [
        "iris = datasets.load_iris()"
      ]
    },
    {
      "cell_type": "code",
      "execution_count": null,
      "metadata": {
        "id": "MhYI43N1YoDL"
      },
      "outputs": [],
      "source": [
        "f1 = 0\n",
        "f2 = 1\n",
        "X = iris.data[0:100, (f1, f2)]\n",
        "#X = np.concatenate((iris.data[0:50, (f1, f2)], iris.data[50:100, (f1, f2)]))\n",
        "#X = iris.data[50:150, (f1, f2)]\n",
        "y = iris.target[0:100]"
      ]
    },
    {
      "cell_type": "code",
      "execution_count": null,
      "metadata": {
        "id": "zOLhaj8zYoDM"
      },
      "outputs": [],
      "source": [
        "from sklearn.model_selection import train_test_split\n",
        "X_train, X_test, y_train, y_test = train_test_split(X, y, test_size=0.3, random_state=0)"
      ]
    },
    {
      "cell_type": "code",
      "execution_count": null,
      "metadata": {
        "id": "3puuZLCAYoDM"
      },
      "outputs": [],
      "source": [
        "from sklearn.preprocessing import StandardScaler\n",
        "sc = StandardScaler()\n",
        "sc.fit(X_train)\n",
        "X_train_std = sc.transform(X_train)\n",
        "X_test_std = sc.transform(X_test)\n",
        "X_train_std = X_train\n",
        "X_test_std = X_test"
      ]
    },
    {
      "cell_type": "markdown",
      "metadata": {
        "id": "gwUNxSmuYoDM"
      },
      "source": [
        "#### Random Forest"
      ]
    },
    {
      "cell_type": "code",
      "execution_count": null,
      "metadata": {
        "id": "TGtsOJlMYoDM"
      },
      "outputs": [],
      "source": [
        "from sklearn.ensemble import RandomForestRegressor\n",
        "ranForest = RandomForestRegressor(random_state=0)"
      ]
    },
    {
      "cell_type": "markdown",
      "metadata": {
        "id": "oGlSQB9BYoDM"
      },
      "source": [
        "#### Training des Modells"
      ]
    },
    {
      "cell_type": "code",
      "execution_count": null,
      "metadata": {
        "id": "EZUMWMUnYoDM"
      },
      "outputs": [],
      "source": [
        "ranForest.fit(X_train_std, y_train)"
      ]
    },
    {
      "cell_type": "markdown",
      "metadata": {
        "id": "HNxRf4-DYoDN"
      },
      "source": [
        "#### Vorhersage der Klassen"
      ]
    },
    {
      "cell_type": "code",
      "execution_count": null,
      "metadata": {
        "id": "xcM17vRhYoDN"
      },
      "outputs": [],
      "source": [
        "y_pred = ranForest.predict(X_test_std)"
      ]
    },
    {
      "cell_type": "markdown",
      "metadata": {
        "id": "EfaAIjpuYoDN"
      },
      "source": [
        "#### Bewertung des Modells"
      ]
    },
    {
      "cell_type": "code",
      "execution_count": null,
      "metadata": {
        "id": "afhEd4wjYoDN"
      },
      "outputs": [],
      "source": [
        "print(\"Number of mislabeled points out of a total %d points : %d\" % (X_test_std.shape[0],(y_test != y_pred).sum()))"
      ]
    },
    {
      "cell_type": "markdown",
      "metadata": {
        "id": "zvMgiCsRYoDN"
      },
      "source": [
        "#### Plot der Entscheidungsgrenze"
      ]
    },
    {
      "cell_type": "code",
      "execution_count": null,
      "metadata": {
        "id": "aKsdeWRyYoDN"
      },
      "outputs": [],
      "source": [
        "utils.plot_decision_regions(\n",
        "    X_train=X_train_std,\n",
        "    X_test=X_test_std,\n",
        "    y_train=y_train,\n",
        "    y_test=y_test,\n",
        "    classifier=ranForest,\n",
        "    xlabel='petal length [standardized]',\n",
        "    ylabel='petal width [standardized]')\n",
        "plt.savefig('ran_forest', dpi=300)\n",
        "plt.show()"
      ]
    },
    {
      "cell_type": "code",
      "execution_count": null,
      "metadata": {
        "id": "JldUame2YoDO"
      },
      "outputs": [],
      "source": []
    }
  ],
  "metadata": {
    "kernelspec": {
      "display_name": "Python 3",
      "language": "python",
      "name": "python3"
    },
    "language_info": {
      "codemirror_mode": {
        "name": "ipython",
        "version": 3
      },
      "file_extension": ".py",
      "mimetype": "text/x-python",
      "name": "python",
      "nbconvert_exporter": "python",
      "pygments_lexer": "ipython3",
      "version": "3.6.6"
    },
    "colab": {
      "provenance": []
    }
  },
  "nbformat": 4,
  "nbformat_minor": 0
}