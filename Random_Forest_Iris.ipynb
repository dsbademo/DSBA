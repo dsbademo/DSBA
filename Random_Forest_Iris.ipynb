{
  "cells": [
    {
      "cell_type": "markdown",
      "metadata": {
        "id": "8KvmRP9MYoDI"
      },
      "source": [
        "# Random Forest"
      ]
    },
    {
      "cell_type": "markdown",
      "metadata": {
        "id": "FuQDxMHvYoDK"
      },
      "source": [
        "#### Import der Bibliotheken und Utility-Funktionen"
      ]
    },
    {
      "cell_type": "code",
      "execution_count": 41,
      "metadata": {
        "id": "pL_rQYPpYoDK"
      },
      "outputs": [],
      "source": [
        "import imp\n",
        "import os\n",
        "import numpy as np\n",
        "from sklearn import datasets"
      ]
    },
    {
      "cell_type": "code",
      "execution_count": 42,
      "metadata": {
        "id": "aQWsOy0_YoDL"
      },
      "outputs": [],
      "source": [
        "from matplotlib.colors import ListedColormap\n",
        "import matplotlib.pyplot as plt"
      ]
    },
    {
      "cell_type": "code",
      "execution_count": 53,
      "metadata": {
        "colab": {
          "base_uri": "https://localhost:8080/"
        },
        "id": "eKTyTU6bYoDL",
        "outputId": "93fc69f3-04b3-4a9f-eae0-4c1667950c05"
      },
      "outputs": [
        {
          "name": "stdout",
          "output_type": "stream",
          "text": [
            "--2022-09-27 14:16:05--  https://raw.githubusercontent.com/dsbademo/DSBA/main/utils.py\n",
            "Resolving raw.githubusercontent.com (raw.githubusercontent.com)... 185.199.108.133, 185.199.109.133, 185.199.111.133, ...\n",
            "Connecting to raw.githubusercontent.com (raw.githubusercontent.com)|185.199.108.133|:443... connected.\n",
            "HTTP request sent, awaiting response... 200 OK\n",
            "Length: 2384 (2.3K) [text/plain]\n",
            "Saving to: ‘utils.py’\n",
            "\n",
            "\rutils.py              0%[                    ]       0  --.-KB/s               \rutils.py            100%[===================>]   2.33K  --.-KB/s    in 0s      \n",
            "\n",
            "2022-09-27 14:16:05 (43.5 MB/s) - ‘utils.py’ saved [2384/2384]\n",
            "\n"
          ]
        }
      ],
      "source": [
        "# Import weiterer py-files, Aufruf mit utils.xyz\n",
        "!wget https://raw.githubusercontent.com/dsbademo/DSBA/main/utils.py\n",
        "#os.listdir(\"./\")\n",
        "utils = imp.load_source(\"utils\", \"./utils.py\")"
      ]
    },
    {
      "cell_type": "markdown",
      "metadata": {
        "id": "jEHqpYxXYoDL"
      },
      "source": [
        "#### Import und Vorverarbeitung der Iris Daten"
      ]
    },
    {
      "cell_type": "code",
      "execution_count": 44,
      "metadata": {
        "id": "_H0N_Vj7YoDL"
      },
      "outputs": [],
      "source": [
        "iris = datasets.load_iris()"
      ]
    },
    {
      "cell_type": "code",
      "execution_count": 45,
      "metadata": {
        "id": "MhYI43N1YoDL"
      },
      "outputs": [],
      "source": [
        "f1 = 0\n",
        "f2 = 1\n",
        "X = iris.data[0:100, (f1, f2)]\n",
        "#X = np.concatenate((iris.data[0:50, (f1, f2)], iris.data[50:100, (f1, f2)]))\n",
        "#X = iris.data[50:150, (f1, f2)]\n",
        "y = iris.target[0:100]"
      ]
    },
    {
      "cell_type": "code",
      "execution_count": 46,
      "metadata": {
        "id": "zOLhaj8zYoDM"
      },
      "outputs": [],
      "source": [
        "from sklearn.model_selection import train_test_split\n",
        "X_train, X_test, y_train, y_test = train_test_split(X, y, test_size=0.3, random_state=0)"
      ]
    },
    {
      "cell_type": "code",
      "execution_count": 47,
      "metadata": {
        "id": "3puuZLCAYoDM"
      },
      "outputs": [],
      "source": [
        "from sklearn.preprocessing import StandardScaler\n",
        "sc = StandardScaler()\n",
        "sc.fit(X_train)\n",
        "X_train_std = sc.transform(X_train)\n",
        "X_test_std = sc.transform(X_test)\n",
        "X_train_std = X_train\n",
        "X_test_std = X_test"
      ]
    },
    {
      "cell_type": "markdown",
      "metadata": {
        "id": "gwUNxSmuYoDM"
      },
      "source": [
        "#### Random Forest"
      ]
    },
    {
      "cell_type": "code",
      "execution_count": 48,
      "metadata": {
        "id": "TGtsOJlMYoDM"
      },
      "outputs": [],
      "source": [
        "from sklearn.ensemble import RandomForestRegressor\n",
        "ranForest = RandomForestRegressor(random_state=0)"
      ]
    },
    {
      "cell_type": "markdown",
      "metadata": {
        "id": "oGlSQB9BYoDM"
      },
      "source": [
        "#### Training des Modells"
      ]
    },
    {
      "cell_type": "code",
      "execution_count": 49,
      "metadata": {
        "colab": {
          "base_uri": "https://localhost:8080/"
        },
        "id": "EZUMWMUnYoDM",
        "outputId": "78f55d3c-b8eb-4b89-a595-44198820fc5a"
      },
      "outputs": [
        {
          "data": {
            "text/plain": [
              "RandomForestRegressor(random_state=0)"
            ]
          },
          "execution_count": 49,
          "metadata": {},
          "output_type": "execute_result"
        }
      ],
      "source": [
        "ranForest.fit(X_train_std, y_train)"
      ]
    },
    {
      "cell_type": "markdown",
      "metadata": {
        "id": "HNxRf4-DYoDN"
      },
      "source": [
        "#### Vorhersage der Klassen"
      ]
    },
    {
      "cell_type": "code",
      "execution_count": 50,
      "metadata": {
        "id": "xcM17vRhYoDN"
      },
      "outputs": [],
      "source": [
        "y_pred = ranForest.predict(X_test_std)"
      ]
    },
    {
      "cell_type": "markdown",
      "metadata": {
        "id": "EfaAIjpuYoDN"
      },
      "source": [
        "#### Bewertung des Modells"
      ]
    },
    {
      "cell_type": "code",
      "execution_count": 51,
      "metadata": {
        "colab": {
          "base_uri": "https://localhost:8080/"
        },
        "id": "afhEd4wjYoDN",
        "outputId": "9c706810-4851-47db-feb2-0a624805b6bf"
      },
      "outputs": [
        {
          "name": "stdout",
          "output_type": "stream",
          "text": [
            "Number of mislabeled points out of a total 30 points : 6\n"
          ]
        }
      ],
      "source": [
        "print(\"Number of mislabeled points out of a total %d points : %d\" % (X_test_std.shape[0],(y_test != y_pred).sum()))"
      ]
    },
    {
      "cell_type": "markdown",
      "metadata": {
        "id": "zvMgiCsRYoDN"
      },
      "source": [
        "#### Plot der Entscheidungsgrenze"
      ]
    },
    {
      "cell_type": "code",
      "execution_count": 54,
      "metadata": {
        "colab": {
          "base_uri": "https://localhost:8080/",
          "height": 314
        },
        "id": "aKsdeWRyYoDN",
        "outputId": "1323aa9f-756d-4ec7-e062-7cfb9d825879"
      },
      "outputs": [
        {
          "name": "stdout",
          "output_type": "stream",
          "text": [
            "<class 'numpy.ndarray'>\n"
          ]
        },
        {
          "data": {
            "image/png": "[encoded data removed]",
            "text/plain": [
              "<Figure size 432x288 with 1 Axes>"
            ]
          },
          "metadata": {
            "needs_background": "light"
          },
          "output_type": "display_data"
        }
      ],
      "source": [
        "utils.plot_decision_regions(\n",
        "    X_train=X_train_std,\n",
        "    X_test=X_test_std,\n",
        "    y_train=y_train,\n",
        "    y_test=y_test,\n",
        "    classifier=ranForest,\n",
        "    xlabel='petal length [standardized]',\n",
        "    ylabel='petal width [standardized]')\n",
        "plt.savefig('ran_forest_iris', dpi=300)\n",
        "plt.show()"
      ]
    },
    {
      "cell_type": "code",
      "execution_count": null,
      "metadata": {
        "id": "JldUame2YoDO"
      },
      "outputs": [],
      "source": []
    }
  ],
  "metadata": {
    "colab": {
      "provenance": []
    },
    "kernelspec": {
      "display_name": "Python 3",
      "language": "python",
      "name": "python3"
    },
    "language_info": {
      "codemirror_mode": {
        "name": "ipython",
        "version": 3
      },
      "file_extension": ".py",
      "mimetype": "text/x-python",
      "name": "python",
      "nbconvert_exporter": "python",
      "pygments_lexer": "ipython3",
      "version": "3.6.6"
    }
  },
  "nbformat": 4,
  "nbformat_minor": 0
}
