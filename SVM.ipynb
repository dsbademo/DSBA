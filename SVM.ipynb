{
 "cells": [
  {
   "cell_type": "markdown",
   "metadata": {
    "id": "OUGoJOs2i1GS"
   },
   "source": [
    "# Support Vector Machine non-linear Data"
   ]
  },
  {
   "cell_type": "markdown",
   "metadata": {
    "id": "ihe91xOQi1GZ"
   },
   "source": [
    "#### Import der Bibliotheken"
   ]
  },
  {
   "cell_type": "code",
   "execution_count": null,
   "metadata": {
    "id": "TP4NDpbii1Ga"
   },
   "outputs": [],
   "source": [
    "import matplotlib.pyplot as plt\n",
    "import numpy as np\n",
    "import os\n",
    "import imp"
   ]
  },
  {
   "cell_type": "code",
   "execution_count": null,
   "metadata": {},
   "outputs": [],
   "source": [
    "# Import weiterer py-files, Aufruf mit utils.xyz\n",
    "!wget -O utils.py https://raw.githubusercontent.com/dsbademo/DSBA/main/utils.py\n",
    "#os.listdir(\"./\")\n",
    "utils = imp.load_source(\"utils\", \"./utils.py\")"
   ]
  },
  {
   "cell_type": "markdown",
   "metadata": {
    "id": "NGZo2KKui1Gb"
   },
   "source": [
    "#### XOR-Datensatz"
   ]
  },
  {
   "cell_type": "code",
   "execution_count": null,
   "metadata": {
    "id": "FjyrucpBi1Gb"
   },
   "outputs": [],
   "source": [
    "np.random.seed(1)\n",
    "X_xor = np.random.randn(200, 2)\n",
    "y_xor = np.logical_xor(X_xor[:, 0] > 0,\n",
    "                       X_xor[:, 1] > 0)\n",
    "y_xor = np.where(y_xor, 1, -1)\n",
    "\n",
    "plt.scatter(X_xor[y_xor == 1, 0],\n",
    "            X_xor[y_xor == 1, 1],\n",
    "            c='b', marker='x',\n",
    "            label='1')\n",
    "plt.scatter(X_xor[y_xor == -1, 0],\n",
    "            X_xor[y_xor == -1, 1],\n",
    "            c='r',\n",
    "            marker='s',\n",
    "            label='-1')\n",
    "\n",
    "plt.xlim([-3, 3])\n",
    "plt.ylim([-3, 3])\n",
    "plt.legend(loc='best')\n",
    "plt.tight_layout()\n",
    "#plt.savefig('images/03_12.png', dpi=300)\n",
    "plt.show()"
   ]
  },
  {
   "cell_type": "markdown",
   "metadata": {
    "id": "YSOVRaRfi1Gc"
   },
   "source": [
    "#### Kernel SVM"
   ]
  },
  {
   "cell_type": "code",
   "execution_count": null,
   "metadata": {
    "id": "MptRbFEOi1Gc"
   },
   "outputs": [],
   "source": [
    "from sklearn.svm import SVC\n",
    "svm_linear = SVC(kernel='linear', C=1.0, random_state=1)"
   ]
  },
  {
   "cell_type": "markdown",
   "metadata": {
    "id": "9m00Jh90i1Gc"
   },
   "source": [
    "#### Training der SVM"
   ]
  },
  {
   "cell_type": "code",
   "execution_count": null,
   "metadata": {
    "id": "pHnX3OUsi1Gd"
   },
   "outputs": [],
   "source": [
    "svm_linear.fit(X_xor, y_xor)"
   ]
  },
  {
   "cell_type": "markdown",
   "metadata": {
    "id": "TXheG0-ri1Gd"
   },
   "source": [
    "#### Plot der Entscheidungsgrenze "
   ]
  },
  {
   "cell_type": "code",
   "execution_count": null,
   "metadata": {
    "id": "dZ0zcLnWi1Gd"
   },
   "outputs": [],
   "source": [
    "utils.plot_decision_regions(\n",
    "    X_train=X_xor,\n",
    "    X_test=None,\n",
    "    y_train=y_xor,\n",
    "    y_test=None,\n",
    "    classifier=svm_linear,\n",
    "    xlabel='XOR 1',\n",
    "    ylabel='XOR 2')\n",
    "plt.savefig('svm_linear', dpi=300)\n",
    "plt.show()"
   ]
  },
  {
   "cell_type": "markdown",
   "metadata": {
    "id": "3AeIpwGhkVPH"
   },
   "source": [
    "#### Nonlinear SVM"
   ]
  },
  {
   "cell_type": "code",
   "execution_count": null,
   "metadata": {
    "id": "2RXJkO2ai1Gd"
   },
   "outputs": [],
   "source": [
    "from sklearn.svm import SVC\n",
    "\n",
    "svm_rbf = SVC(kernel='rbf', random_state=1, gamma=0.10, C=10.0)"
   ]
  },
  {
   "cell_type": "markdown",
   "metadata": {
    "id": "RCK6ao9Ykn3C"
   },
   "source": [
    "#### Training der SVM"
   ]
  },
  {
   "cell_type": "code",
   "execution_count": null,
   "metadata": {
    "id": "N7O9DdYAktNe"
   },
   "outputs": [],
   "source": [
    "svm_rbf.fit(X_xor, y_xor)"
   ]
  },
  {
   "cell_type": "markdown",
   "metadata": {
    "id": "vkBxuxQUkxFV"
   },
   "source": [
    "#### Plot der Entscheidungsgrenze"
   ]
  },
  {
   "cell_type": "code",
   "execution_count": null,
   "metadata": {
    "id": "XUXw7OPwk54h"
   },
   "outputs": [],
   "source": [
    "utils.plot_decision_regions(\n",
    "    X_train=X_xor,\n",
    "    X_test=None,\n",
    "    y_train=y_xor,\n",
    "    y_test=None,\n",
    "    classifier=svm_rbf,\n",
    "    xlabel='XOR 1',\n",
    "    ylabel='XOR 2')\n",
    "plt.savefig('svm_nonlinear', dpi=300)\n",
    "plt.show()"
   ]
  },
  {
   "cell_type": "code",
   "execution_count": null,
   "metadata": {
    "id": "-hgP1IwDjNcw"
   },
   "outputs": [],
   "source": []
  }
 ],
 "metadata": {
  "colab": {
   "name": "SVM.ipynb",
   "provenance": []
  },
  "kernelspec": {
   "display_name": "Python 3 (ipykernel)",
   "language": "python",
   "name": "python3"
  },
  "language_info": {
   "codemirror_mode": {
    "name": "ipython",
    "version": 3
   },
   "file_extension": ".py",
   "mimetype": "text/x-python",
   "name": "python",
   "nbconvert_exporter": "python",
   "pygments_lexer": "ipython3",
   "version": "3.9.12"
  }
 },
 "nbformat": 4,
 "nbformat_minor": 1
}
