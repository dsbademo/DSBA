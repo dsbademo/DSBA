{
 "cells": [
  {
   "cell_type": "markdown",
   "metadata": {
    "id": "OUGoJOs2i1GS"
   },
   "source": [
    "# Support Vector Machine non-linear Data"
   ]
  },
  {
   "cell_type": "markdown",
   "metadata": {
    "id": "ihe91xOQi1GZ"
   },
   "source": [
    "#### Import der Bibliotheken"
   ]
  },
  {
   "cell_type": "code",
   "execution_count": null,
   "metadata": {
    "id": "TP4NDpbii1Ga"
   },
   "outputs": [],
   "source": [
    "import matplotlib.pyplot as plt\n",
    "import numpy as np\n",
    "import os\n",
    "import imp"
   ]
  },
  {
   "cell_type": "markdown",
   "metadata": {
    "id": "NGZo2KKui1Gb"
   },
   "source": [
    "#### XOR-Datensatz"
   ]
  },
  {
   "cell_type": "code",
   "execution_count": null,
   "metadata": {
    "id": "FjyrucpBi1Gb"
   },
   "outputs": [],
   "source": [
    "np.random.seed(1)\n",
    "X_xor = np.random.randn(200, 2)\n",
    "y_xor = np.logical_xor(X_xor[:, 0] > 0,\n",
    "                       X_xor[:, 1] > 0)\n",
    "y_xor = np.where(y_xor, 1, -1)\n",
    "\n",
    "plt.scatter(X_xor[y_xor == 1, 0],\n",
    "            X_xor[y_xor == 1, 1],\n",
    "            c='b', marker='x',\n",
    "            label='1')\n",
    "plt.scatter(X_xor[y_xor == -1, 0],\n",
    "            X_xor[y_xor == -1, 1],\n",
    "            c='r',\n",
    "            marker='s',\n",
    "            label='-1')\n",
    "\n",
    "plt.xlim([-3, 3])\n",
    "plt.ylim([-3, 3])\n",
    "plt.legend(loc='best')\n",
    "plt.tight_layout()\n",
    "#plt.savefig('images/03_12.png', dpi=300)\n",
    "plt.show()"
   ]
  },
  {
   "cell_type": "markdown",
   "metadata": {
    "id": "YSOVRaRfi1Gc"
   },
   "source": [
    "#### Kernel SVM"
   ]
  },
  {
   "cell_type": "code",
   "execution_count": null,
   "metadata": {
    "id": "MptRbFEOi1Gc"
   },
   "outputs": [],
   "source": [
    "from sklearn.svm import SVC\n",
    "svm_linear = SVC(kernel='linear', C=1.0, random_state=1)"
   ]
  },
  {
   "cell_type": "markdown",
   "metadata": {
    "id": "9m00Jh90i1Gc"
   },
   "source": [
    "#### Training der SVM"
   ]
  },
  {
   "cell_type": "code",
   "execution_count": null,
   "metadata": {
    "id": "pHnX3OUsi1Gd"
   },
   "outputs": [],
   "source": [
    "svm_linear.fit(X_xor, y_xor)"
   ]
  },
  {
   "cell_type": "markdown",
   "metadata": {
    "id": "TXheG0-ri1Gd"
   },
   "source": [
    "#### Plot der Entscheidungsgrenze "
   ]
  },
  {
   "cell_type": "code",
   "execution_count": null,
   "metadata": {
    "id": "dZ0zcLnWi1Gd"
   },
   "outputs": [],
   "source": [
    "plot_decision_regions(\n",
    "    X_train=X_xor,\n",
    "    X_test=None,\n",
    "    y_train=y_xor,\n",
    "    y_test=None,\n",
    "    classifier=svm_linear,\n",
    "    xlabel='XOR 1',\n",
    "    ylabel='XOR 2')\n",
    "plt.savefig('svm_linear', dpi=300)\n",
    "plt.show()"
   ]
  },
  {
   "cell_type": "markdown",
   "metadata": {
    "id": "3AeIpwGhkVPH"
   },
   "source": [
    "#### Nonlinear SVM"
   ]
  },
  {
   "cell_type": "code",
   "execution_count": null,
   "metadata": {
    "id": "2RXJkO2ai1Gd"
   },
   "outputs": [],
   "source": [
    "from sklearn.svm import SVC\n",
    "\n",
    "svm_rbf = SVC(kernel='rbf', random_state=1, gamma=0.10, C=10.0)"
   ]
  },
  {
   "cell_type": "markdown",
   "metadata": {
    "id": "RCK6ao9Ykn3C"
   },
   "source": [
    "#### Training der SVM"
   ]
  },
  {
   "cell_type": "code",
   "execution_count": null,
   "metadata": {
    "id": "N7O9DdYAktNe"
   },
   "outputs": [],
   "source": [
    "svm_rbf.fit(X_xor, y_xor)"
   ]
  },
  {
   "cell_type": "markdown",
   "metadata": {
    "id": "vkBxuxQUkxFV"
   },
   "source": [
    "#### Plot der Entscheidungsgrenze"
   ]
  },
  {
   "cell_type": "code",
   "execution_count": null,
   "metadata": {
    "id": "XUXw7OPwk54h"
   },
   "outputs": [],
   "source": [
    "plot_decision_regions(\n",
    "    X_train=X_xor,\n",
    "    X_test=None,\n",
    "    y_train=y_xor,\n",
    "    y_test=None,\n",
    "    classifier=svm_rbf,\n",
    "    xlabel='XOR 1',\n",
    "    ylabel='XOR 2')\n",
    "plt.savefig('svm_nonlinear', dpi=300)\n",
    "plt.show()"
   ]
  },
  {
   "cell_type": "markdown",
   "metadata": {
    "id": "RsQV6_7pjKQq"
   },
   "source": [
    "#### Utility Functions"
   ]
  },
  {
   "cell_type": "code",
   "execution_count": null,
   "metadata": {
    "id": "GASHq3lMjM3s"
   },
   "outputs": [],
   "source": [
    "from matplotlib.colors import ListedColormap\n",
    "import matplotlib.pyplot as plt\n",
    "\n",
    "def plot_decision_regions(X_train, X_test, y_train, y_test, classifier, xlabel, ylabel, resolution=0.02):\n",
    "    \n",
    "    print(type(X_test))\n",
    "    \n",
    "    if X_test is None:\n",
    "        X = X_train\n",
    "        y = y_train\n",
    "        test_idx = None\n",
    "    else:\n",
    "        X = np.vstack((X_train, X_test))\n",
    "        y = np.hstack((y_train, y_test))\n",
    "        test_idx = range(y_train.shape[0], y_train.shape[0]+y_test.shape[0])\n",
    "\n",
    "    # setup marker generator and color map\n",
    "    markers = ('s', 'x', 'o', '^', 'v')\n",
    "    colors = ('red', 'blue', 'lightgreen', 'gray', 'cyan')\n",
    "    cmap = ListedColormap(colors[:len(np.unique(y))])\n",
    "\n",
    "    # plot the decision surface\n",
    "    x1_min, x1_max = X[:, 0].min() - 1, X[:, 0].max() + 1\n",
    "    x2_min, x2_max = X[:, 1].min() - 1, X[:, 1].max() + 1\n",
    "    xx1, xx2 = np.meshgrid(np.arange(x1_min, x1_max, resolution),\n",
    "                           np.arange(x2_min, x2_max, resolution))\n",
    "    Z = classifier.predict(np.array([xx1.ravel(), xx2.ravel()]).T)\n",
    "    Z = Z.reshape(xx1.shape)\n",
    "    plt.contourf(xx1, xx2, Z, alpha=0.3, cmap=cmap)\n",
    "    plt.xlim(xx1.min(), xx1.max())\n",
    "    plt.ylim(xx2.min(), xx2.max())\n",
    "\n",
    "    for idx, cl in enumerate(np.unique(y)):\n",
    "        plt.scatter(x=X[y == cl, 0], \n",
    "                    y=X[y == cl, 1],\n",
    "                    alpha=0.8, \n",
    "                    c=colors[idx],\n",
    "                    marker=markers[idx], \n",
    "                    label=cl, \n",
    "                    facecolor='black')\n",
    "\n",
    "    # highlight test samples\n",
    "    if test_idx:\n",
    "        # plot all samples\n",
    "        X_test, y_test = X[test_idx, :], y[test_idx]\n",
    "\n",
    "        plt.scatter(X_test[:, 0],\n",
    "                    X_test[:, 1],\n",
    "                    c==colors[idx],\n",
    "                    facecolor='black',\n",
    "                    alpha=1.0,\n",
    "                    linewidth=1,\n",
    "                    marker='o',\n",
    "                    s=100, \n",
    "                    label='test set')\n",
    "\n",
    "    plt.xlabel(xlabel)\n",
    "    plt.ylabel(ylabel)\n",
    "    plt.legend(loc='upper left')\n",
    "    plt.tight_layout()\n",
    "\n",
    "def plot_history(hist1, hist2, label1, label2):\n",
    "    epochs = range(1, len(hist1))\n",
    "    hist1 = hist1[1:]\n",
    "    hist2 = hist2[1:]\n",
    "    # b+ is for \"blue cross\"\n",
    "    plt.plot(epochs, hist1, 'b+', label=label1)\n",
    "    # \"bo\" is for \"blue dot\"\n",
    "    plt.plot(epochs, hist2, 'bo', label=label2)\n",
    "    plt.xlabel('Epochs')\n",
    "    plt.ylabel('Loss')\n",
    "    plt.legend()\n",
    "\n",
    "    plt.show()"
   ]
  },
  {
   "cell_type": "code",
   "execution_count": null,
   "metadata": {
    "id": "-hgP1IwDjNcw"
   },
   "outputs": [],
   "source": []
  }
 ],
 "metadata": {
  "colab": {
   "name": "SVM.ipynb",
   "provenance": []
  },
  "kernelspec": {
   "display_name": "Python 3",
   "language": "python",
   "name": "python3"
  },
  "language_info": {
   "codemirror_mode": {
    "name": "ipython",
    "version": 3
   },
   "file_extension": ".py",
   "mimetype": "text/x-python",
   "name": "python",
   "nbconvert_exporter": "python",
   "pygments_lexer": "ipython3",
   "version": "3.7.9"
  }
 },
 "nbformat": 4,
 "nbformat_minor": 1
}
