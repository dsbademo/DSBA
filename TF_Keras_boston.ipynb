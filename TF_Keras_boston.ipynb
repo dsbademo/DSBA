{
 "cells": [
  {
   "cell_type": "markdown",
   "metadata": {
    "id": "oerXl1YHTxpQ"
   },
   "source": [
    "# Tensorflow Keras Boston House Data"
   ]
  },
  {
   "cell_type": "markdown",
   "metadata": {
    "id": "DaG0e7YhTxpU"
   },
   "source": [
    "#### Import der Bibliotheken"
   ]
  },
  {
   "cell_type": "code",
   "execution_count": 1,
   "metadata": {
    "id": "d8RkpqndTxpV"
   },
   "outputs": [],
   "source": [
    "import numpy as np\n",
    "import pandas as pd\n",
    "import os\n",
    "import imp\n",
    "\n",
    "from tensorflow.keras.models import Sequential\n",
    "from tensorflow.keras.layers import Dense\n",
    "from tensorflow.keras.wrappers.scikit_learn import KerasRegressor\n",
    "from tensorflow.keras.datasets import boston_housing\n",
    "\n",
    "from sklearn.model_selection import cross_val_score\n",
    "from sklearn.model_selection import KFold\n",
    "from sklearn.preprocessing import StandardScaler\n",
    "from sklearn.pipeline import Pipeline\n"
   ]
  },
  {
   "cell_type": "markdown",
   "metadata": {
    "id": "JT0OZVJFTxpW"
   },
   "source": [
    "#### Laden der Daten"
   ]
  },
  {
   "cell_type": "code",
   "execution_count": 2,
   "metadata": {
    "id": "YTSC5XQITxpW"
   },
   "outputs": [],
   "source": [
    "header_list = ['CRIM','ZN','INDUS','CHAS','NOX','RM','AGE','DIS','RAD','TAX','PTRATIO','B','LSTAT','MEDV']\n",
    "df_houses = pd.read_csv('https://archive.ics.uci.edu/ml/machine-learning-databases/housing/housing.data', names = header_list, sep='\\s+')"
   ]
  },
  {
   "cell_type": "markdown",
   "metadata": {
    "id": "b471pS2YTxpX"
   },
   "source": [
    "#### Exploration der Daten"
   ]
  },
  {
   "cell_type": "code",
   "execution_count": 3,
   "metadata": {},
   "outputs": [
    {
     "data": {
      "text/html": [
       "<div>\n",
       "<style scoped>\n",
       "    .dataframe tbody tr th:only-of-type {\n",
       "        vertical-align: middle;\n",
       "    }\n",
       "\n",
       "    .dataframe tbody tr th {\n",
       "        vertical-align: top;\n",
       "    }\n",
       "\n",
       "    .dataframe thead th {\n",
       "        text-align: right;\n",
       "    }\n",
       "</style>\n",
       "<table border=\"1\" class=\"dataframe\">\n",
       "  <thead>\n",
       "    <tr style=\"text-align: right;\">\n",
       "      <th></th>\n",
       "      <th>CRIM</th>\n",
       "      <th>ZN</th>\n",
       "      <th>INDUS</th>\n",
       "      <th>CHAS</th>\n",
       "      <th>NOX</th>\n",
       "      <th>RM</th>\n",
       "      <th>AGE</th>\n",
       "      <th>DIS</th>\n",
       "      <th>RAD</th>\n",
       "      <th>TAX</th>\n",
       "      <th>PTRATIO</th>\n",
       "      <th>B</th>\n",
       "      <th>LSTAT</th>\n",
       "      <th>MEDV</th>\n",
       "    </tr>\n",
       "  </thead>\n",
       "  <tbody>\n",
       "    <tr>\n",
       "      <th>0</th>\n",
       "      <td>0.00632</td>\n",
       "      <td>18.0</td>\n",
       "      <td>2.31</td>\n",
       "      <td>0</td>\n",
       "      <td>0.538</td>\n",
       "      <td>6.575</td>\n",
       "      <td>65.2</td>\n",
       "      <td>4.0900</td>\n",
       "      <td>1</td>\n",
       "      <td>296.0</td>\n",
       "      <td>15.3</td>\n",
       "      <td>396.90</td>\n",
       "      <td>4.98</td>\n",
       "      <td>24.0</td>\n",
       "    </tr>\n",
       "    <tr>\n",
       "      <th>1</th>\n",
       "      <td>0.02731</td>\n",
       "      <td>0.0</td>\n",
       "      <td>7.07</td>\n",
       "      <td>0</td>\n",
       "      <td>0.469</td>\n",
       "      <td>6.421</td>\n",
       "      <td>78.9</td>\n",
       "      <td>4.9671</td>\n",
       "      <td>2</td>\n",
       "      <td>242.0</td>\n",
       "      <td>17.8</td>\n",
       "      <td>396.90</td>\n",
       "      <td>9.14</td>\n",
       "      <td>21.6</td>\n",
       "    </tr>\n",
       "    <tr>\n",
       "      <th>2</th>\n",
       "      <td>0.02729</td>\n",
       "      <td>0.0</td>\n",
       "      <td>7.07</td>\n",
       "      <td>0</td>\n",
       "      <td>0.469</td>\n",
       "      <td>7.185</td>\n",
       "      <td>61.1</td>\n",
       "      <td>4.9671</td>\n",
       "      <td>2</td>\n",
       "      <td>242.0</td>\n",
       "      <td>17.8</td>\n",
       "      <td>392.83</td>\n",
       "      <td>4.03</td>\n",
       "      <td>34.7</td>\n",
       "    </tr>\n",
       "  </tbody>\n",
       "</table>\n",
       "</div>"
      ],
      "text/plain": [
       "      CRIM    ZN  INDUS  CHAS    NOX     RM   AGE     DIS  RAD    TAX  \\\n",
       "0  0.00632  18.0   2.31     0  0.538  6.575  65.2  4.0900    1  296.0   \n",
       "1  0.02731   0.0   7.07     0  0.469  6.421  78.9  4.9671    2  242.0   \n",
       "2  0.02729   0.0   7.07     0  0.469  7.185  61.1  4.9671    2  242.0   \n",
       "\n",
       "   PTRATIO       B  LSTAT  MEDV  \n",
       "0     15.3  396.90   4.98  24.0  \n",
       "1     17.8  396.90   9.14  21.6  \n",
       "2     17.8  392.83   4.03  34.7  "
      ]
     },
     "execution_count": 3,
     "metadata": {},
     "output_type": "execute_result"
    }
   ],
   "source": [
    "df_houses.head(3)"
   ]
  },
  {
   "cell_type": "markdown",
   "metadata": {},
   "source": [
    "####  Train und Test Data"
   ]
  },
  {
   "cell_type": "code",
   "execution_count": 4,
   "metadata": {
    "id": "87aVW17GTxpW"
   },
   "outputs": [],
   "source": [
    "(train_data, train_targets), (test_data, test_targets) = boston_housing.load_data()"
   ]
  },
  {
   "cell_type": "code",
   "execution_count": 5,
   "metadata": {
    "id": "kexTG2VoTxpW"
   },
   "outputs": [
    {
     "name": "stdout",
     "output_type": "stream",
     "text": [
      "(404, 13)\n",
      "(102, 13)\n",
      "[15.2 42.3 50.  21.1 17.7 18.5 11.3 15.6 15.6 14.4]\n"
     ]
    }
   ],
   "source": [
    "print(train_data.shape)\n",
    "print(test_data.shape)\n",
    "print(train_targets[0:10])"
   ]
  },
  {
   "cell_type": "markdown",
   "metadata": {
    "id": "sJIkAoaOTxpZ"
   },
   "source": [
    "#### Standardisierung der Daten"
   ]
  },
  {
   "cell_type": "code",
   "execution_count": 6,
   "metadata": {
    "id": "h9qBVyFMTxpZ"
   },
   "outputs": [],
   "source": [
    "mean = train_data.mean(axis=0)\n",
    "train_data -= mean\n",
    "std = train_data.std(axis=0)\n",
    "train_data /= std\n",
    "test_data -= mean\n",
    "test_data /= std"
   ]
  },
  {
   "cell_type": "markdown",
   "metadata": {
    "id": "2NFbGfEITxpZ"
   },
   "source": [
    "#### Baseline NN-Modell"
   ]
  },
  {
   "cell_type": "code",
   "execution_count": 7,
   "metadata": {
    "id": "YpDhvpnqTxpZ"
   },
   "outputs": [],
   "source": [
    "def baseline_model():\n",
    "    model = Sequential()\n",
    "    model.add(Dense(64, activation='relu', input_shape=(train_data.shape[1],)))\n",
    "    model.add(Dense(1))\n",
    "    model.compile(optimizer='rmsprop', loss='mse', metrics=['mse','mae'])\n",
    "    return model"
   ]
  },
  {
   "cell_type": "markdown",
   "metadata": {
    "id": "Tfd9iWWCTxpZ"
   },
   "source": [
    "#### Large NN-Modell"
   ]
  },
  {
   "cell_type": "code",
   "execution_count": 8,
   "metadata": {
    "id": "0rb4jVsrTxpa"
   },
   "outputs": [],
   "source": [
    "def larger_model():\n",
    "    model = Sequential()\n",
    "    model.add(Dense(64, activation='relu', input_shape=(train_data.shape[1],)))\n",
    "    model.add(Dense(64, activation='relu'))\n",
    "    model.add(Dense(1))\n",
    "    model.compile(optimizer='rmsprop', loss='mse', metrics=['mse','mae'])\n",
    "    return model"
   ]
  },
  {
   "cell_type": "markdown",
   "metadata": {
    "id": "NkBTdePXTxpa"
   },
   "source": [
    "#### Training"
   ]
  },
  {
   "cell_type": "code",
   "execution_count": 9,
   "metadata": {
    "id": "INwFyYq-Txpa"
   },
   "outputs": [],
   "source": [
    "num_epochs = 50"
   ]
  },
  {
   "cell_type": "code",
   "execution_count": 10,
   "metadata": {
    "id": "hmM4a_IMTxpa"
   },
   "outputs": [
    {
     "name": "stdout",
     "output_type": "stream",
     "text": [
      "Epoch 1/50\n",
      "404/404 [==============================] - 1s 1ms/step - loss: 441.8928 - mse: 441.8928 - mae: 18.5790 - val_loss: 289.4270 - val_mse: 289.4270 - val_mae: 14.7323\n",
      "Epoch 2/50\n",
      "404/404 [==============================] - 0s 856us/step - loss: 121.5923 - mse: 121.5923 - mae: 7.8301 - val_loss: 74.7803 - val_mse: 74.7803 - val_mae: 6.5411\n",
      "Epoch 3/50\n",
      "404/404 [==============================] - 0s 870us/step - loss: 46.4801 - mse: 46.4801 - mae: 4.4644 - val_loss: 44.8482 - val_mse: 44.8482 - val_mae: 5.2144\n",
      "Epoch 4/50\n",
      "404/404 [==============================] - 0s 951us/step - loss: 34.4643 - mse: 34.4643 - mae: 3.8312 - val_loss: 32.3750 - val_mse: 32.3750 - val_mae: 4.4555\n",
      "Epoch 5/50\n",
      "404/404 [==============================] - 0s 912us/step - loss: 28.2761 - mse: 28.2761 - mae: 3.5280 - val_loss: 27.2418 - val_mse: 27.2418 - val_mae: 4.0301\n",
      "Epoch 6/50\n",
      "404/404 [==============================] - 0s 901us/step - loss: 25.1307 - mse: 25.1307 - mae: 3.2863 - val_loss: 21.9761 - val_mse: 21.9761 - val_mae: 3.7073\n",
      "Epoch 7/50\n",
      "404/404 [==============================] - 0s 886us/step - loss: 22.8830 - mse: 22.8830 - mae: 3.1708 - val_loss: 21.9271 - val_mse: 21.9271 - val_mae: 3.6009\n",
      "Epoch 8/50\n",
      "404/404 [==============================] - 0s 888us/step - loss: 20.9430 - mse: 20.9430 - mae: 3.0535 - val_loss: 21.1381 - val_mse: 21.1381 - val_mae: 3.5038\n",
      "Epoch 9/50\n",
      "404/404 [==============================] - 0s 854us/step - loss: 19.8313 - mse: 19.8313 - mae: 2.9510 - val_loss: 18.0719 - val_mse: 18.0719 - val_mae: 3.2742\n",
      "Epoch 10/50\n",
      "404/404 [==============================] - 0s 876us/step - loss: 18.3446 - mse: 18.3446 - mae: 2.7937 - val_loss: 19.9023 - val_mse: 19.9023 - val_mae: 3.4040\n",
      "Epoch 11/50\n",
      "404/404 [==============================] - 0s 855us/step - loss: 17.3882 - mse: 17.3882 - mae: 2.7051 - val_loss: 18.5185 - val_mse: 18.5185 - val_mae: 3.2166\n",
      "Epoch 12/50\n",
      "404/404 [==============================] - 0s 911us/step - loss: 16.1815 - mse: 16.1815 - mae: 2.6455 - val_loss: 16.8062 - val_mse: 16.8062 - val_mae: 3.0410\n",
      "Epoch 13/50\n",
      "404/404 [==============================] - 0s 902us/step - loss: 14.8740 - mse: 14.8740 - mae: 2.5243 - val_loss: 16.8667 - val_mse: 16.8667 - val_mae: 3.0470\n",
      "Epoch 14/50\n",
      "404/404 [==============================] - 0s 928us/step - loss: 14.6113 - mse: 14.6113 - mae: 2.4680 - val_loss: 16.4726 - val_mse: 16.4726 - val_mae: 2.9839\n",
      "Epoch 15/50\n",
      "404/404 [==============================] - 0s 884us/step - loss: 13.9202 - mse: 13.9202 - mae: 2.4031 - val_loss: 16.2694 - val_mse: 16.2694 - val_mae: 2.9271\n",
      "Epoch 16/50\n",
      "404/404 [==============================] - 0s 854us/step - loss: 13.1675 - mse: 13.1675 - mae: 2.3413 - val_loss: 16.3119 - val_mse: 16.3119 - val_mae: 2.8869\n",
      "Epoch 17/50\n",
      "404/404 [==============================] - 0s 873us/step - loss: 12.8617 - mse: 12.8617 - mae: 2.3231 - val_loss: 16.0865 - val_mse: 16.0865 - val_mae: 2.8454\n",
      "Epoch 18/50\n",
      "404/404 [==============================] - 0s 850us/step - loss: 12.0801 - mse: 12.0801 - mae: 2.2454 - val_loss: 16.6365 - val_mse: 16.6365 - val_mae: 2.8829\n",
      "Epoch 19/50\n",
      "404/404 [==============================] - 0s 909us/step - loss: 11.9116 - mse: 11.9116 - mae: 2.1987 - val_loss: 17.8062 - val_mse: 17.8062 - val_mae: 2.9929\n",
      "Epoch 20/50\n",
      "404/404 [==============================] - 0s 870us/step - loss: 11.7172 - mse: 11.7172 - mae: 2.1958 - val_loss: 17.1821 - val_mse: 17.1821 - val_mae: 2.8952\n",
      "Epoch 21/50\n",
      "404/404 [==============================] - 0s 802us/step - loss: 11.0318 - mse: 11.0318 - mae: 2.1977 - val_loss: 15.3948 - val_mse: 15.3948 - val_mae: 2.6149\n",
      "Epoch 22/50\n",
      "404/404 [==============================] - 0s 789us/step - loss: 11.0082 - mse: 11.0082 - mae: 2.1581 - val_loss: 16.0497 - val_mse: 16.0497 - val_mae: 2.6592\n",
      "Epoch 23/50\n",
      "404/404 [==============================] - 0s 911us/step - loss: 10.7289 - mse: 10.7289 - mae: 2.1118 - val_loss: 15.8884 - val_mse: 15.8884 - val_mae: 2.6307\n",
      "Epoch 24/50\n",
      "404/404 [==============================] - 0s 905us/step - loss: 10.5673 - mse: 10.5673 - mae: 2.1181 - val_loss: 15.9264 - val_mse: 15.9264 - val_mae: 2.6219\n",
      "Epoch 25/50\n",
      "404/404 [==============================] - 0s 872us/step - loss: 10.3465 - mse: 10.3465 - mae: 2.1054 - val_loss: 16.6032 - val_mse: 16.6032 - val_mae: 2.6898\n",
      "Epoch 26/50\n",
      "404/404 [==============================] - 0s 868us/step - loss: 10.2151 - mse: 10.2151 - mae: 2.0574 - val_loss: 16.3048 - val_mse: 16.3048 - val_mae: 2.6759\n",
      "Epoch 27/50\n",
      "404/404 [==============================] - 0s 870us/step - loss: 9.9359 - mse: 9.9359 - mae: 2.0532 - val_loss: 15.9615 - val_mse: 15.9615 - val_mae: 2.5583\n",
      "Epoch 28/50\n",
      "404/404 [==============================] - 0s 865us/step - loss: 9.7624 - mse: 9.7624 - mae: 2.0532 - val_loss: 16.6836 - val_mse: 16.6836 - val_mae: 2.5837\n",
      "Epoch 29/50\n",
      "404/404 [==============================] - 0s 889us/step - loss: 9.9784 - mse: 9.9784 - mae: 2.0148 - val_loss: 17.1933 - val_mse: 17.1933 - val_mae: 2.6299\n",
      "Epoch 30/50\n",
      "404/404 [==============================] - 0s 852us/step - loss: 9.6027 - mse: 9.6027 - mae: 2.0283 - val_loss: 16.9013 - val_mse: 16.9013 - val_mae: 2.6435\n",
      "Epoch 31/50\n",
      "404/404 [==============================] - 0s 883us/step - loss: 9.2392 - mse: 9.2392 - mae: 1.9912 - val_loss: 18.9450 - val_mse: 18.9450 - val_mae: 2.8669\n",
      "Epoch 32/50\n",
      "404/404 [==============================] - 0s 907us/step - loss: 9.4538 - mse: 9.4538 - mae: 1.9894 - val_loss: 17.0141 - val_mse: 17.0141 - val_mae: 2.5874\n",
      "Epoch 33/50\n",
      "404/404 [==============================] - 0s 887us/step - loss: 9.0173 - mse: 9.0173 - mae: 1.9946 - val_loss: 16.4163 - val_mse: 16.4163 - val_mae: 2.5420\n",
      "Epoch 34/50\n",
      "404/404 [==============================] - 0s 873us/step - loss: 9.2930 - mse: 9.2930 - mae: 1.9417 - val_loss: 17.1476 - val_mse: 17.1476 - val_mae: 2.5451\n",
      "Epoch 35/50\n",
      "404/404 [==============================] - 0s 852us/step - loss: 9.2597 - mse: 9.2597 - mae: 1.9558 - val_loss: 17.0404 - val_mse: 17.0404 - val_mae: 2.5552\n",
      "Epoch 36/50\n",
      "404/404 [==============================] - 0s 926us/step - loss: 9.0353 - mse: 9.0353 - mae: 1.9268 - val_loss: 17.4160 - val_mse: 17.4160 - val_mae: 2.5824\n",
      "Epoch 37/50\n",
      "404/404 [==============================] - 0s 865us/step - loss: 9.0297 - mse: 9.0297 - mae: 1.9311 - val_loss: 17.2579 - val_mse: 17.2579 - val_mae: 2.5553\n",
      "Epoch 38/50\n",
      "404/404 [==============================] - 0s 868us/step - loss: 8.7465 - mse: 8.7465 - mae: 1.9094 - val_loss: 19.1072 - val_mse: 19.1072 - val_mae: 2.7358\n",
      "Epoch 39/50\n",
      "404/404 [==============================] - 0s 897us/step - loss: 8.2601 - mse: 8.2601 - mae: 1.9012 - val_loss: 18.1615 - val_mse: 18.1615 - val_mae: 2.5881\n",
      "Epoch 40/50\n",
      "404/404 [==============================] - 0s 873us/step - loss: 8.6939 - mse: 8.6939 - mae: 1.9118 - val_loss: 18.7062 - val_mse: 18.7062 - val_mae: 2.7099\n",
      "Epoch 41/50\n",
      "404/404 [==============================] - 0s 864us/step - loss: 8.3302 - mse: 8.3302 - mae: 1.9049 - val_loss: 17.6483 - val_mse: 17.6483 - val_mae: 2.5141\n",
      "Epoch 42/50\n",
      "404/404 [==============================] - 0s 898us/step - loss: 8.2528 - mse: 8.2528 - mae: 1.8751 - val_loss: 19.4092 - val_mse: 19.4092 - val_mae: 2.7888\n",
      "Epoch 43/50\n",
      "404/404 [==============================] - 0s 869us/step - loss: 8.1789 - mse: 8.1789 - mae: 1.8850 - val_loss: 17.3220 - val_mse: 17.3220 - val_mae: 2.5527\n",
      "Epoch 44/50\n",
      "404/404 [==============================] - 0s 791us/step - loss: 8.2854 - mse: 8.2854 - mae: 1.8742 - val_loss: 17.5315 - val_mse: 17.5315 - val_mae: 2.4956\n",
      "Epoch 45/50\n",
      "404/404 [==============================] - 0s 867us/step - loss: 8.0975 - mse: 8.0975 - mae: 1.8645 - val_loss: 18.3704 - val_mse: 18.3704 - val_mae: 2.5827\n",
      "Epoch 46/50\n",
      "404/404 [==============================] - 0s 854us/step - loss: 8.0912 - mse: 8.0912 - mae: 1.8601 - val_loss: 17.5706 - val_mse: 17.5706 - val_mae: 2.5580\n",
      "Epoch 47/50\n",
      "404/404 [==============================] - 0s 877us/step - loss: 7.9670 - mse: 7.9670 - mae: 1.8506 - val_loss: 18.3397 - val_mse: 18.3397 - val_mae: 2.6121\n",
      "Epoch 48/50\n",
      "404/404 [==============================] - 0s 884us/step - loss: 7.8529 - mse: 7.8529 - mae: 1.8625 - val_loss: 18.7139 - val_mse: 18.7139 - val_mae: 2.7124\n",
      "Epoch 49/50\n"
     ]
    },
    {
     "name": "stdout",
     "output_type": "stream",
     "text": [
      "404/404 [==============================] - 0s 894us/step - loss: 7.8501 - mse: 7.8501 - mae: 1.8390 - val_loss: 16.7591 - val_mse: 16.7591 - val_mae: 2.4918\n",
      "Epoch 50/50\n",
      "404/404 [==============================] - 0s 873us/step - loss: 7.9044 - mse: 7.9044 - mae: 1.8078 - val_loss: 18.2051 - val_mse: 18.2051 - val_mae: 2.5389\n"
     ]
    }
   ],
   "source": [
    "network = baseline_model()\n",
    "baseline_history = network.fit(train_data, train_targets, epochs=num_epochs, batch_size=1, verbose=1, validation_data=(test_data, test_targets))"
   ]
  },
  {
   "cell_type": "code",
   "execution_count": 11,
   "metadata": {
    "id": "AAeoxqq2Txpa"
   },
   "outputs": [
    {
     "name": "stdout",
     "output_type": "stream",
     "text": [
      "Epoch 1/50\n",
      "404/404 [==============================] - 1s 1ms/step - loss: 161.2594 - mse: 161.2594 - mae: 9.1542 - val_loss: 28.4475 - val_mse: 28.4475 - val_mae: 4.1973\n",
      "Epoch 2/50\n",
      "404/404 [==============================] - 0s 925us/step - loss: 22.3909 - mse: 22.3909 - mae: 3.1388 - val_loss: 21.0361 - val_mse: 21.0361 - val_mae: 3.5650\n",
      "Epoch 3/50\n",
      "404/404 [==============================] - 0s 883us/step - loss: 17.9266 - mse: 17.9266 - mae: 2.7941 - val_loss: 21.9529 - val_mse: 21.9529 - val_mae: 3.2734\n",
      "Epoch 4/50\n",
      "404/404 [==============================] - 0s 919us/step - loss: 15.2163 - mse: 15.2163 - mae: 2.5710 - val_loss: 19.4631 - val_mse: 19.4631 - val_mae: 2.9587\n",
      "Epoch 5/50\n",
      "404/404 [==============================] - 0s 896us/step - loss: 14.1561 - mse: 14.1561 - mae: 2.4452 - val_loss: 19.9984 - val_mse: 19.9984 - val_mae: 3.0520\n",
      "Epoch 6/50\n",
      "404/404 [==============================] - 0s 917us/step - loss: 13.0901 - mse: 13.0901 - mae: 2.3234 - val_loss: 18.0663 - val_mse: 18.0663 - val_mae: 2.8251\n",
      "Epoch 7/50\n",
      "404/404 [==============================] - 0s 892us/step - loss: 12.2659 - mse: 12.2659 - mae: 2.3236 - val_loss: 21.7045 - val_mse: 21.7045 - val_mae: 3.2022\n",
      "Epoch 8/50\n",
      "404/404 [==============================] - 0s 908us/step - loss: 11.7857 - mse: 11.7857 - mae: 2.2898 - val_loss: 18.9818 - val_mse: 18.9818 - val_mae: 2.7948\n",
      "Epoch 9/50\n",
      "404/404 [==============================] - 0s 952us/step - loss: 11.2727 - mse: 11.2727 - mae: 2.2122 - val_loss: 20.5612 - val_mse: 20.5612 - val_mae: 2.8299\n",
      "Epoch 10/50\n",
      "404/404 [==============================] - 0s 912us/step - loss: 10.5961 - mse: 10.5961 - mae: 2.1457 - val_loss: 23.0913 - val_mse: 23.0913 - val_mae: 3.2858\n",
      "Epoch 11/50\n",
      "404/404 [==============================] - 0s 894us/step - loss: 10.0486 - mse: 10.0486 - mae: 2.1421 - val_loss: 19.3008 - val_mse: 19.3008 - val_mae: 2.7616\n",
      "Epoch 12/50\n",
      "404/404 [==============================] - 0s 897us/step - loss: 10.1569 - mse: 10.1569 - mae: 2.1332 - val_loss: 21.3452 - val_mse: 21.3452 - val_mae: 3.0844\n",
      "Epoch 13/50\n",
      "404/404 [==============================] - 0s 929us/step - loss: 9.5484 - mse: 9.5484 - mae: 2.0951 - val_loss: 21.4456 - val_mse: 21.4456 - val_mae: 2.8431\n",
      "Epoch 14/50\n",
      "404/404 [==============================] - 0s 903us/step - loss: 9.1229 - mse: 9.1229 - mae: 2.0368 - val_loss: 24.9802 - val_mse: 24.9802 - val_mae: 3.2945\n",
      "Epoch 15/50\n",
      "404/404 [==============================] - 0s 933us/step - loss: 9.4478 - mse: 9.4478 - mae: 2.0767 - val_loss: 21.4561 - val_mse: 21.4561 - val_mae: 2.9068\n",
      "Epoch 16/50\n",
      "404/404 [==============================] - 0s 910us/step - loss: 9.3784 - mse: 9.3784 - mae: 2.0567 - val_loss: 20.9423 - val_mse: 20.9423 - val_mae: 2.7669\n",
      "Epoch 17/50\n",
      "404/404 [==============================] - 0s 905us/step - loss: 9.0360 - mse: 9.0360 - mae: 1.9766 - val_loss: 20.4310 - val_mse: 20.4310 - val_mae: 2.8117\n",
      "Epoch 18/50\n",
      "404/404 [==============================] - 0s 930us/step - loss: 8.8577 - mse: 8.8577 - mae: 1.9806 - val_loss: 19.8463 - val_mse: 19.8463 - val_mae: 2.6887\n",
      "Epoch 19/50\n",
      "404/404 [==============================] - 0s 910us/step - loss: 8.1001 - mse: 8.1001 - mae: 1.9063 - val_loss: 17.8009 - val_mse: 17.8009 - val_mae: 2.6228\n",
      "Epoch 20/50\n",
      "404/404 [==============================] - 0s 918us/step - loss: 8.4357 - mse: 8.4357 - mae: 1.9875 - val_loss: 20.5329 - val_mse: 20.5329 - val_mae: 2.7749\n",
      "Epoch 21/50\n",
      "404/404 [==============================] - 0s 962us/step - loss: 7.9115 - mse: 7.9115 - mae: 1.9243 - val_loss: 17.4130 - val_mse: 17.4130 - val_mae: 2.6778\n",
      "Epoch 22/50\n",
      "404/404 [==============================] - 0s 933us/step - loss: 8.1687 - mse: 8.1687 - mae: 1.9296 - val_loss: 19.5631 - val_mse: 19.5631 - val_mae: 2.6510\n",
      "Epoch 23/50\n",
      "404/404 [==============================] - 0s 924us/step - loss: 8.0876 - mse: 8.0876 - mae: 1.8764 - val_loss: 20.3524 - val_mse: 20.3524 - val_mae: 2.6958\n",
      "Epoch 24/50\n",
      "404/404 [==============================] - 0s 929us/step - loss: 7.6281 - mse: 7.6281 - mae: 1.9079 - val_loss: 21.0264 - val_mse: 21.0264 - val_mae: 2.8011\n",
      "Epoch 25/50\n",
      "404/404 [==============================] - 0s 901us/step - loss: 7.9289 - mse: 7.9289 - mae: 1.8661 - val_loss: 22.7420 - val_mse: 22.7420 - val_mae: 2.8572\n",
      "Epoch 26/50\n",
      "404/404 [==============================] - 0s 908us/step - loss: 8.0332 - mse: 8.0332 - mae: 1.8449 - val_loss: 22.2452 - val_mse: 22.2452 - val_mae: 2.8959\n",
      "Epoch 27/50\n",
      "404/404 [==============================] - 0s 916us/step - loss: 7.8792 - mse: 7.8792 - mae: 1.8816 - val_loss: 19.8743 - val_mse: 19.8743 - val_mae: 2.7724\n",
      "Epoch 28/50\n",
      "404/404 [==============================] - 0s 903us/step - loss: 7.0095 - mse: 7.0095 - mae: 1.8589 - val_loss: 17.2147 - val_mse: 17.2147 - val_mae: 2.5656\n",
      "Epoch 29/50\n",
      "404/404 [==============================] - 0s 925us/step - loss: 7.6361 - mse: 7.6361 - mae: 1.8562 - val_loss: 22.2078 - val_mse: 22.2078 - val_mae: 3.0340\n",
      "Epoch 30/50\n",
      "404/404 [==============================] - 0s 904us/step - loss: 7.1959 - mse: 7.1959 - mae: 1.7862 - val_loss: 20.8164 - val_mse: 20.8164 - val_mae: 2.8258\n",
      "Epoch 31/50\n",
      "404/404 [==============================] - 0s 940us/step - loss: 7.1326 - mse: 7.1326 - mae: 1.7461 - val_loss: 17.3476 - val_mse: 17.3476 - val_mae: 2.5960\n",
      "Epoch 32/50\n",
      "404/404 [==============================] - 0s 912us/step - loss: 6.9614 - mse: 6.9614 - mae: 1.7641 - val_loss: 20.2306 - val_mse: 20.2306 - val_mae: 2.6377\n",
      "Epoch 33/50\n",
      "404/404 [==============================] - 0s 923us/step - loss: 6.4892 - mse: 6.4892 - mae: 1.7732 - val_loss: 18.1702 - val_mse: 18.1702 - val_mae: 2.5904\n",
      "Epoch 34/50\n",
      "404/404 [==============================] - 0s 929us/step - loss: 6.8434 - mse: 6.8434 - mae: 1.7306 - val_loss: 18.7417 - val_mse: 18.7417 - val_mae: 2.8092\n",
      "Epoch 35/50\n",
      "404/404 [==============================] - 0s 924us/step - loss: 6.6825 - mse: 6.6825 - mae: 1.7115 - val_loss: 19.4959 - val_mse: 19.4959 - val_mae: 2.9277\n",
      "Epoch 36/50\n",
      "404/404 [==============================] - 0s 933us/step - loss: 6.8111 - mse: 6.8111 - mae: 1.7610 - val_loss: 16.5911 - val_mse: 16.5911 - val_mae: 2.5429\n",
      "Epoch 37/50\n",
      "404/404 [==============================] - 0s 909us/step - loss: 6.5090 - mse: 6.5090 - mae: 1.7513 - val_loss: 14.6735 - val_mse: 14.6735 - val_mae: 2.4336\n",
      "Epoch 38/50\n",
      "404/404 [==============================] - 0s 904us/step - loss: 6.4043 - mse: 6.4043 - mae: 1.7226 - val_loss: 17.2831 - val_mse: 17.2831 - val_mae: 2.5783\n",
      "Epoch 39/50\n",
      "404/404 [==============================] - 0s 943us/step - loss: 6.5899 - mse: 6.5899 - mae: 1.6805 - val_loss: 17.8711 - val_mse: 17.8711 - val_mae: 2.6490\n",
      "Epoch 40/50\n",
      "404/404 [==============================] - 0s 900us/step - loss: 6.3887 - mse: 6.3887 - mae: 1.6731 - val_loss: 17.9435 - val_mse: 17.9435 - val_mae: 2.5614\n",
      "Epoch 41/50\n",
      "404/404 [==============================] - 0s 948us/step - loss: 6.3544 - mse: 6.3544 - mae: 1.6967 - val_loss: 17.0099 - val_mse: 17.0099 - val_mae: 2.5265\n",
      "Epoch 42/50\n",
      "404/404 [==============================] - 0s 924us/step - loss: 6.3983 - mse: 6.3983 - mae: 1.6620 - val_loss: 14.6741 - val_mse: 14.6741 - val_mae: 2.4037\n",
      "Epoch 43/50\n",
      "404/404 [==============================] - 0s 906us/step - loss: 5.8722 - mse: 5.8722 - mae: 1.6487 - val_loss: 17.6808 - val_mse: 17.6808 - val_mae: 2.6541\n",
      "Epoch 44/50\n",
      "404/404 [==============================] - 0s 933us/step - loss: 6.1977 - mse: 6.1977 - mae: 1.6689 - val_loss: 15.9099 - val_mse: 15.9099 - val_mae: 2.5316\n",
      "Epoch 45/50\n",
      "404/404 [==============================] - 0s 912us/step - loss: 5.7016 - mse: 5.7016 - mae: 1.6308 - val_loss: 15.3729 - val_mse: 15.3729 - val_mae: 2.5013\n",
      "Epoch 46/50\n",
      "404/404 [==============================] - 0s 930us/step - loss: 6.0735 - mse: 6.0735 - mae: 1.6536 - val_loss: 14.4499 - val_mse: 14.4499 - val_mae: 2.3839\n",
      "Epoch 47/50\n",
      "404/404 [==============================] - 0s 913us/step - loss: 5.6439 - mse: 5.6439 - mae: 1.5651 - val_loss: 16.4442 - val_mse: 16.4442 - val_mae: 2.5487\n",
      "Epoch 48/50\n",
      "404/404 [==============================] - 0s 875us/step - loss: 5.8125 - mse: 5.8125 - mae: 1.6051 - val_loss: 16.7305 - val_mse: 16.7305 - val_mae: 2.7158\n",
      "Epoch 49/50\n"
     ]
    },
    {
     "name": "stdout",
     "output_type": "stream",
     "text": [
      "404/404 [==============================] - 0s 899us/step - loss: 5.6767 - mse: 5.6767 - mae: 1.5554 - val_loss: 16.4827 - val_mse: 16.4827 - val_mae: 2.6533\n",
      "Epoch 50/50\n",
      "404/404 [==============================] - 0s 911us/step - loss: 5.5812 - mse: 5.5812 - mae: 1.5640 - val_loss: 15.5615 - val_mse: 15.5615 - val_mae: 2.5929\n"
     ]
    }
   ],
   "source": [
    "network = larger_model()\n",
    "large_history = network.fit(train_data, train_targets, epochs=num_epochs, batch_size=1, verbose=1, validation_data=(test_data, test_targets))"
   ]
  },
  {
   "cell_type": "code",
   "execution_count": 12,
   "metadata": {
    "id": "ADjVi--_Txpa"
   },
   "outputs": [
    {
     "name": "stdout",
     "output_type": "stream",
     "text": [
      "[441.892822265625, 121.5923080444336, 46.48011016845703, 34.46430969238281, 28.276081085205078]\n",
      "[161.25942993164062, 22.39089012145996, 17.926645278930664, 15.216323852539062, 14.156105995178223]\n"
     ]
    }
   ],
   "source": [
    "print(baseline_history.history['loss'][0:5])\n",
    "print(large_history.history['loss'][0:5])"
   ]
  },
  {
   "cell_type": "markdown",
   "metadata": {
    "id": "Mah4c2kSTxpb"
   },
   "source": [
    "#### Small Model"
   ]
  },
  {
   "cell_type": "code",
   "execution_count": 15,
   "metadata": {
    "id": "D6DdXmI1Txpb"
   },
   "outputs": [
    {
     "data": {
      "image/png": "[encoded data removed]",
      "text/plain": [
       "<Figure size 432x288 with 1 Axes>"
      ]
     },
     "metadata": {
      "needs_background": "light"
     },
     "output_type": "display_data"
    }
   ],
   "source": [
    "base_loss = baseline_history.history['loss']\n",
    "base_val_loss = baseline_history.history['val_loss']\n",
    "plot_history(base_loss, base_val_loss, 'training', 'test')"
   ]
  },
  {
   "cell_type": "markdown",
   "metadata": {
    "id": "8Xvs_tZnTxpb"
   },
   "source": [
    "#### Large Model"
   ]
  },
  {
   "cell_type": "code",
   "execution_count": 16,
   "metadata": {
    "id": "rzPck8pzTxpb"
   },
   "outputs": [
    {
     "data": {
      "image/png": "[encoded data removed]",
      "text/plain": [
       "<Figure size 432x288 with 1 Axes>"
      ]
     },
     "metadata": {
      "needs_background": "light"
     },
     "output_type": "display_data"
    }
   ],
   "source": [
    "large_loss = large_history.history['loss']\n",
    "large_val_loss = large_history.history['val_loss']\n",
    "plot_history(large_loss, large_val_loss, 'training', 'test')"
   ]
  },
  {
   "cell_type": "markdown",
   "metadata": {
    "id": "LNFGmJ0PVEro"
   },
   "source": [
    "#### Utility Functions"
   ]
  },
  {
   "cell_type": "code",
   "execution_count": 14,
   "metadata": {
    "id": "ivyRhWM8Txpb"
   },
   "outputs": [],
   "source": [
    "import numpy as np\n",
    "from matplotlib.colors import ListedColormap\n",
    "import matplotlib.pyplot as plt\n",
    "\n",
    "def plot_decision_regions(X_train, X_test, y_train, y_test, classifier, xlabel, ylabel, resolution=0.02):\n",
    "    \n",
    "    print(type(X_test))\n",
    "    \n",
    "    if X_test is None:\n",
    "        X = X_train\n",
    "        y = y_train\n",
    "        test_idx = None\n",
    "    else:\n",
    "        X = np.vstack((X_train, X_test))\n",
    "        y = np.hstack((y_train, y_test))\n",
    "        test_idx = range(y_train.shape[0], y_train.shape[0]+y_test.shape[0])\n",
    "\n",
    "    # setup marker generator and color map\n",
    "    markers = ('s', 'x', 'o', '^', 'v')\n",
    "    colors = ('red', 'blue', 'lightgreen', 'gray', 'cyan')\n",
    "    cmap = ListedColormap(colors[:len(np.unique(y))])\n",
    "\n",
    "    # plot the decision surface\n",
    "    x1_min, x1_max = X[:, 0].min() - 1, X[:, 0].max() + 1\n",
    "    x2_min, x2_max = X[:, 1].min() - 1, X[:, 1].max() + 1\n",
    "    xx1, xx2 = np.meshgrid(np.arange(x1_min, x1_max, resolution),\n",
    "                           np.arange(x2_min, x2_max, resolution))\n",
    "    Z = classifier.predict(np.array([xx1.ravel(), xx2.ravel()]).T)\n",
    "    Z = Z.reshape(xx1.shape)\n",
    "    plt.contourf(xx1, xx2, Z, alpha=0.3, cmap=cmap)\n",
    "    plt.xlim(xx1.min(), xx1.max())\n",
    "    plt.ylim(xx2.min(), xx2.max())\n",
    "\n",
    "    for idx, cl in enumerate(np.unique(y)):\n",
    "        plt.scatter(x=X[y == cl, 0], \n",
    "                    y=X[y == cl, 1],\n",
    "                    alpha=0.8, \n",
    "                    c=colors[idx],\n",
    "                    marker=markers[idx], \n",
    "                    label=cl, \n",
    "                    edgecolor='black')\n",
    "\n",
    "    # highlight test samples\n",
    "    if test_idx:\n",
    "        # plot all samples\n",
    "        X_test, y_test = X[test_idx, :], y[test_idx]\n",
    "\n",
    "        plt.scatter(X_test[:, 0],\n",
    "                    X_test[:, 1],\n",
    "                    c='',\n",
    "                    edgecolor='black',\n",
    "                    alpha=1.0,\n",
    "                    linewidth=1,\n",
    "                    marker='o',\n",
    "                    s=100, \n",
    "                    label='test set')\n",
    "\n",
    "    plt.xlabel(xlabel)\n",
    "    plt.ylabel(ylabel)\n",
    "    plt.legend(loc='upper left')\n",
    "    plt.tight_layout()\n",
    "\n",
    "def plot_history(hist1, hist2, label1, label2):\n",
    "    epochs = range(1, len(hist1))\n",
    "    hist1 = hist1[1:]\n",
    "    hist2 = hist2[1:]\n",
    "    # b+ is for \"blue cross\"\n",
    "    plt.plot(epochs, hist1, 'b+', label=label1)\n",
    "    # \"bo\" is for \"blue dot\"\n",
    "    plt.plot(epochs, hist2, 'bo', label=label2)\n",
    "    plt.xlabel('Epochs')\n",
    "    plt.ylabel('Loss')\n",
    "    plt.legend()\n",
    "\n",
    "    plt.show()"
   ]
  },
  {
   "cell_type": "code",
   "execution_count": null,
   "metadata": {
    "id": "zp2WvOfHVIhg"
   },
   "outputs": [],
   "source": []
  }
 ],
 "metadata": {
  "colab": {
   "collapsed_sections": [
    "LNFGmJ0PVEro"
   ],
   "name": "TF_Keras_boston.ipynb",
   "provenance": []
  },
  "kernelspec": {
   "display_name": "Python 3",
   "language": "python",
   "name": "python3"
  },
  "language_info": {
   "codemirror_mode": {
    "name": "ipython",
    "version": 3
   },
   "file_extension": ".py",
   "mimetype": "text/x-python",
   "name": "python",
   "nbconvert_exporter": "python",
   "pygments_lexer": "ipython3",
   "version": "3.7.9"
  }
 },
 "nbformat": 4,
 "nbformat_minor": 1
}
