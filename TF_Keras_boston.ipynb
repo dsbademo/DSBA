{
 "cells": [
  {
   "cell_type": "markdown",
   "metadata": {
    "id": "oerXl1YHTxpQ"
   },
   "source": [
    "# Tensorflow Keras Boston House Data"
   ]
  },
  {
   "cell_type": "markdown",
   "metadata": {},
   "source": [
    "#### Disable Tensorflow Warnings"
   ]
  },
  {
   "cell_type": "code",
   "execution_count": null,
   "metadata": {},
   "outputs": [],
   "source": [
    "# 0 = all messages are logged (default behavior)\n",
    "# 1 = INFO messages are not printed \n",
    "# 2 = INFO and WARNING messages are not printed\n",
    "# 3 = INFO, WARNING, and ERROR messages are not printed\n",
    "import os\n",
    "os.environ['TF_CPP_MIN_LOG_LEVEL'] = '3'"
   ]
  },
  {
   "cell_type": "markdown",
   "metadata": {
    "id": "DaG0e7YhTxpU"
   },
   "source": [
    "#### Import der Bibliotheken"
   ]
  },
  {
   "cell_type": "code",
   "execution_count": null,
   "metadata": {
    "id": "d8RkpqndTxpV"
   },
   "outputs": [],
   "source": [
    "import numpy as np\n",
    "import pandas as pd\n",
    "import os\n",
    "import importlib\n",
    "\n",
    "from tensorflow.keras.models import Sequential\n",
    "from tensorflow.keras.layers import Dense\n",
    "from tensorflow.keras.wrappers.scikit_learn import KerasRegressor\n",
    "from tensorflow.keras.datasets import boston_housing\n",
    "\n",
    "from sklearn.model_selection import cross_val_score\n",
    "from sklearn.model_selection import KFold\n",
    "from sklearn.preprocessing import StandardScaler\n",
    "from sklearn.pipeline import Pipeline\n"
   ]
  },
  {
   "cell_type": "code",
   "execution_count": null,
   "metadata": {},
   "outputs": [],
   "source": [
    "# Import weiterer py-files, Aufruf mit utils.xyz\n",
    "!wget -O utils.py https://raw.githubusercontent.com/dsbademo/DSBA/main/utils.py\n",
    "#os.listdir(\"./\")\n",
    "#utils = imp.load_source(\"utils\", \"./utils.py\")"
   ]
  },
  {
   "cell_type": "code",
   "execution_count": null,
   "metadata": {},
   "outputs": [],
   "source": [
    "import importlib\n",
    "#utils = imp.load_source(\"utils\", \"./utils.py\")\n",
    "utils = importlib.import_module(\"utils\", \"./utils.py\")"
   ]
  },
  {
   "cell_type": "markdown",
   "metadata": {
    "id": "JT0OZVJFTxpW"
   },
   "source": [
    "#### Laden der Daten"
   ]
  },
  {
   "cell_type": "code",
   "execution_count": null,
   "metadata": {
    "id": "YTSC5XQITxpW"
   },
   "outputs": [],
   "source": [
    "header_list = ['CRIM','ZN','INDUS','CHAS','NOX','RM','AGE','DIS','RAD','TAX','PTRATIO','B','LSTAT','MEDV']\n",
    "df_houses = pd.read_csv('https://archive.ics.uci.edu/ml/machine-learning-databases/housing/housing.data', names = header_list, sep='\\s+')"
   ]
  },
  {
   "cell_type": "markdown",
   "metadata": {
    "id": "b471pS2YTxpX"
   },
   "source": [
    "#### Exploration der Daten"
   ]
  },
  {
   "cell_type": "code",
   "execution_count": null,
   "metadata": {},
   "outputs": [],
   "source": [
    "df_houses.head(3)"
   ]
  },
  {
   "cell_type": "markdown",
   "metadata": {},
   "source": [
    "####  Train und Test Data"
   ]
  },
  {
   "cell_type": "code",
   "execution_count": null,
   "metadata": {
    "id": "87aVW17GTxpW"
   },
   "outputs": [],
   "source": [
    "(train_data, train_targets), (test_data, test_targets) = boston_housing.load_data()"
   ]
  },
  {
   "cell_type": "code",
   "execution_count": null,
   "metadata": {
    "id": "kexTG2VoTxpW"
   },
   "outputs": [],
   "source": [
    "print(train_data.shape)\n",
    "print(test_data.shape)\n",
    "print(train_targets[0:10])"
   ]
  },
  {
   "cell_type": "markdown",
   "metadata": {
    "id": "sJIkAoaOTxpZ"
   },
   "source": [
    "#### Standardisierung der Daten"
   ]
  },
  {
   "cell_type": "code",
   "execution_count": null,
   "metadata": {
    "id": "h9qBVyFMTxpZ"
   },
   "outputs": [],
   "source": [
    "mean = train_data.mean(axis=0)\n",
    "train_data -= mean\n",
    "std = train_data.std(axis=0)\n",
    "train_data /= std\n",
    "test_data -= mean\n",
    "test_data /= std"
   ]
  },
  {
   "cell_type": "markdown",
   "metadata": {
    "id": "2NFbGfEITxpZ"
   },
   "source": [
    "#### Baseline NN-Modell"
   ]
  },
  {
   "cell_type": "code",
   "execution_count": null,
   "metadata": {
    "id": "YpDhvpnqTxpZ"
   },
   "outputs": [],
   "source": [
    "def baseline_model():\n",
    "    model = Sequential()\n",
    "    model.add(Dense(64, activation='relu', input_shape=(train_data.shape[1],)))\n",
    "    model.add(Dense(1))\n",
    "    model.compile(optimizer='rmsprop', loss='mse', metrics=['mse','mae'])\n",
    "    return model"
   ]
  },
  {
   "cell_type": "markdown",
   "metadata": {
    "id": "Tfd9iWWCTxpZ"
   },
   "source": [
    "#### Large NN-Modell"
   ]
  },
  {
   "cell_type": "code",
   "execution_count": null,
   "metadata": {
    "id": "0rb4jVsrTxpa"
   },
   "outputs": [],
   "source": [
    "def larger_model():\n",
    "    model = Sequential()\n",
    "    model.add(Dense(64, activation='relu', input_shape=(train_data.shape[1],)))\n",
    "    model.add(Dense(64, activation='relu'))\n",
    "    model.add(Dense(1))\n",
    "    model.compile(optimizer='rmsprop', loss='mse', metrics=['mse','mae'])\n",
    "    return model"
   ]
  },
  {
   "cell_type": "markdown",
   "metadata": {
    "id": "NkBTdePXTxpa"
   },
   "source": [
    "#### Training"
   ]
  },
  {
   "cell_type": "code",
   "execution_count": null,
   "metadata": {
    "id": "INwFyYq-Txpa"
   },
   "outputs": [],
   "source": [
    "num_epochs = 50"
   ]
  },
  {
   "cell_type": "code",
   "execution_count": null,
   "metadata": {
    "id": "hmM4a_IMTxpa"
   },
   "outputs": [],
   "source": [
    "network = baseline_model()\n",
    "baseline_history = network.fit(train_data, train_targets, epochs=num_epochs, batch_size=1, verbose=0, validation_data=(test_data, test_targets))"
   ]
  },
  {
   "cell_type": "code",
   "execution_count": null,
   "metadata": {
    "id": "AAeoxqq2Txpa"
   },
   "outputs": [],
   "source": [
    "network = larger_model()\n",
    "large_history = network.fit(train_data, train_targets, epochs=num_epochs, batch_size=1, verbose=0, validation_data=(test_data, test_targets))"
   ]
  },
  {
   "cell_type": "code",
   "execution_count": null,
   "metadata": {
    "id": "ADjVi--_Txpa"
   },
   "outputs": [],
   "source": [
    "print(baseline_history.history['loss'][0:5])\n",
    "print(large_history.history['loss'][0:5])"
   ]
  },
  {
   "cell_type": "markdown",
   "metadata": {
    "id": "Mah4c2kSTxpb"
   },
   "source": [
    "#### Small Model"
   ]
  },
  {
   "cell_type": "code",
   "execution_count": null,
   "metadata": {
    "id": "D6DdXmI1Txpb"
   },
   "outputs": [],
   "source": [
    "base_loss = baseline_history.history['loss']\n",
    "base_val_loss = baseline_history.history['val_loss']\n",
    "utils.plot_history(base_loss, base_val_loss, 'training', 'test')"
   ]
  },
  {
   "cell_type": "markdown",
   "metadata": {
    "id": "8Xvs_tZnTxpb"
   },
   "source": [
    "#### Large Model"
   ]
  },
  {
   "cell_type": "code",
   "execution_count": null,
   "metadata": {
    "id": "rzPck8pzTxpb"
   },
   "outputs": [],
   "source": [
    "large_loss = large_history.history['loss']\n",
    "large_val_loss = large_history.history['val_loss']\n",
    "utils.plot_history(large_loss, large_val_loss, 'training', 'test')"
   ]
  },
  {
   "cell_type": "code",
   "execution_count": null,
   "metadata": {
    "id": "zp2WvOfHVIhg"
   },
   "outputs": [],
   "source": []
  }
 ],
 "metadata": {
  "colab": {
   "collapsed_sections": [
    "LNFGmJ0PVEro"
   ],
   "name": "TF_Keras_boston.ipynb",
   "provenance": []
  },
  "kernelspec": {
   "display_name": "Python 3.9 (tensorflow)",
   "language": "python",
   "name": "tensorflow"
  },
  "language_info": {
   "codemirror_mode": {
    "name": "ipython",
    "version": 3
   },
   "file_extension": ".py",
   "mimetype": "text/x-python",
   "name": "python",
   "nbconvert_exporter": "python",
   "pygments_lexer": "ipython3",
   "version": "3.9.13"
  }
 },
 "nbformat": 4,
 "nbformat_minor": 1
}
