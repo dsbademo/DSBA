{
 "cells": [
  {
   "cell_type": "markdown",
   "metadata": {
    "id": "oerXl1YHTxpQ"
   },
   "source": [
    "# Tensorflow Keras Boston House Data"
   ]
  },
  {
   "cell_type": "markdown",
   "metadata": {},
   "source": [
    "#### Disable Tensorflow Warnings"
   ]
  },
  {
   "cell_type": "code",
   "execution_count": 17,
   "metadata": {},
   "outputs": [],
   "source": [
    "# 0 = all messages are logged (default behavior)\n",
    "# 1 = INFO messages are not printed \n",
    "# 2 = INFO and WARNING messages are not printed\n",
    "# 3 = INFO, WARNING, and ERROR messages are not printed\n",
    "import os\n",
    "os.environ['TF_CPP_MIN_LOG_LEVEL'] = '3'"
   ]
  },
  {
   "cell_type": "markdown",
   "metadata": {
    "id": "DaG0e7YhTxpU"
   },
   "source": [
    "#### Import der Bibliotheken"
   ]
  },
  {
   "cell_type": "code",
   "execution_count": 18,
   "metadata": {
    "id": "d8RkpqndTxpV"
   },
   "outputs": [],
   "source": [
    "import numpy as np\n",
    "import pandas as pd\n",
    "import os\n",
    "import importlib\n",
    "\n",
    "from tensorflow.keras.models import Sequential\n",
    "from tensorflow.keras.layers import Dense\n",
    "from tensorflow.keras.wrappers.scikit_learn import KerasRegressor\n",
    "from tensorflow.keras.datasets import boston_housing\n",
    "\n",
    "from sklearn.model_selection import cross_val_score\n",
    "from sklearn.model_selection import KFold\n",
    "from sklearn.preprocessing import StandardScaler\n",
    "from sklearn.pipeline import Pipeline\n"
   ]
  },
  {
   "cell_type": "code",
   "execution_count": 19,
   "metadata": {},
   "outputs": [
    {
     "name": "stdout",
     "output_type": "stream",
     "text": [
      "--2022-10-18 16:10:01--  https://raw.githubusercontent.com/dsbademo/DSBA/main/utils.py\n",
      "Resolving raw.githubusercontent.com (raw.githubusercontent.com)... 185.199.111.133, 185.199.108.133, 185.199.109.133, ...\n",
      "Connecting to raw.githubusercontent.com (raw.githubusercontent.com)|185.199.111.133|:443... connected.\n",
      "HTTP request sent, awaiting response... 200 OK\n",
      "Length: 2384 (2.3K) [text/plain]\n",
      "Saving to: 'utils.py'\n",
      "\n",
      "utils.py            100%[===================>]   2.33K  --.-KB/s    in 0s      \n",
      "\n",
      "2022-10-18 16:10:02 (12.2 MB/s) - 'utils.py' saved [2384/2384]\n",
      "\n"
     ]
    }
   ],
   "source": [
    "# Import weiterer py-files, Aufruf mit utils.xyz\n",
    "!wget -O utils.py https://raw.githubusercontent.com/dsbademo/DSBA/main/utils.py\n",
    "utils = importlib.import_module(\"utils\", \"./utils.py\")"
   ]
  },
  {
   "cell_type": "markdown",
   "metadata": {
    "id": "JT0OZVJFTxpW"
   },
   "source": [
    "#### Laden der Daten"
   ]
  },
  {
   "cell_type": "code",
   "execution_count": 20,
   "metadata": {
    "id": "YTSC5XQITxpW"
   },
   "outputs": [],
   "source": [
    "header_list = ['CRIM','ZN','INDUS','CHAS','NOX','RM','AGE','DIS','RAD','TAX','PTRATIO','B','LSTAT','MEDV']\n",
    "df_houses = pd.read_csv('https://archive.ics.uci.edu/ml/machine-learning-databases/housing/housing.data', names = header_list, sep='\\s+')"
   ]
  },
  {
   "cell_type": "markdown",
   "metadata": {
    "id": "b471pS2YTxpX"
   },
   "source": [
    "#### Exploration der Daten"
   ]
  },
  {
   "cell_type": "code",
   "execution_count": 21,
   "metadata": {},
   "outputs": [
    {
     "data": {
      "text/html": [
       "<div>\n",
       "<style scoped>\n",
       "    .dataframe tbody tr th:only-of-type {\n",
       "        vertical-align: middle;\n",
       "    }\n",
       "\n",
       "    .dataframe tbody tr th {\n",
       "        vertical-align: top;\n",
       "    }\n",
       "\n",
       "    .dataframe thead th {\n",
       "        text-align: right;\n",
       "    }\n",
       "</style>\n",
       "<table border=\"1\" class=\"dataframe\">\n",
       "  <thead>\n",
       "    <tr style=\"text-align: right;\">\n",
       "      <th></th>\n",
       "      <th>CRIM</th>\n",
       "      <th>ZN</th>\n",
       "      <th>INDUS</th>\n",
       "      <th>CHAS</th>\n",
       "      <th>NOX</th>\n",
       "      <th>RM</th>\n",
       "      <th>AGE</th>\n",
       "      <th>DIS</th>\n",
       "      <th>RAD</th>\n",
       "      <th>TAX</th>\n",
       "      <th>PTRATIO</th>\n",
       "      <th>B</th>\n",
       "      <th>LSTAT</th>\n",
       "      <th>MEDV</th>\n",
       "    </tr>\n",
       "  </thead>\n",
       "  <tbody>\n",
       "    <tr>\n",
       "      <th>0</th>\n",
       "      <td>0.00632</td>\n",
       "      <td>18.0</td>\n",
       "      <td>2.31</td>\n",
       "      <td>0</td>\n",
       "      <td>0.538</td>\n",
       "      <td>6.575</td>\n",
       "      <td>65.2</td>\n",
       "      <td>4.0900</td>\n",
       "      <td>1</td>\n",
       "      <td>296.0</td>\n",
       "      <td>15.3</td>\n",
       "      <td>396.90</td>\n",
       "      <td>4.98</td>\n",
       "      <td>24.0</td>\n",
       "    </tr>\n",
       "    <tr>\n",
       "      <th>1</th>\n",
       "      <td>0.02731</td>\n",
       "      <td>0.0</td>\n",
       "      <td>7.07</td>\n",
       "      <td>0</td>\n",
       "      <td>0.469</td>\n",
       "      <td>6.421</td>\n",
       "      <td>78.9</td>\n",
       "      <td>4.9671</td>\n",
       "      <td>2</td>\n",
       "      <td>242.0</td>\n",
       "      <td>17.8</td>\n",
       "      <td>396.90</td>\n",
       "      <td>9.14</td>\n",
       "      <td>21.6</td>\n",
       "    </tr>\n",
       "    <tr>\n",
       "      <th>2</th>\n",
       "      <td>0.02729</td>\n",
       "      <td>0.0</td>\n",
       "      <td>7.07</td>\n",
       "      <td>0</td>\n",
       "      <td>0.469</td>\n",
       "      <td>7.185</td>\n",
       "      <td>61.1</td>\n",
       "      <td>4.9671</td>\n",
       "      <td>2</td>\n",
       "      <td>242.0</td>\n",
       "      <td>17.8</td>\n",
       "      <td>392.83</td>\n",
       "      <td>4.03</td>\n",
       "      <td>34.7</td>\n",
       "    </tr>\n",
       "  </tbody>\n",
       "</table>\n",
       "</div>"
      ],
      "text/plain": [
       "      CRIM    ZN  INDUS  CHAS    NOX     RM   AGE     DIS  RAD    TAX  \\\n",
       "0  0.00632  18.0   2.31     0  0.538  6.575  65.2  4.0900    1  296.0   \n",
       "1  0.02731   0.0   7.07     0  0.469  6.421  78.9  4.9671    2  242.0   \n",
       "2  0.02729   0.0   7.07     0  0.469  7.185  61.1  4.9671    2  242.0   \n",
       "\n",
       "   PTRATIO       B  LSTAT  MEDV  \n",
       "0     15.3  396.90   4.98  24.0  \n",
       "1     17.8  396.90   9.14  21.6  \n",
       "2     17.8  392.83   4.03  34.7  "
      ]
     },
     "execution_count": 21,
     "metadata": {},
     "output_type": "execute_result"
    }
   ],
   "source": [
    "df_houses.head(3)"
   ]
  },
  {
   "cell_type": "markdown",
   "metadata": {},
   "source": [
    "####  Train und Test Data"
   ]
  },
  {
   "cell_type": "code",
   "execution_count": 22,
   "metadata": {
    "id": "87aVW17GTxpW"
   },
   "outputs": [],
   "source": [
    "(train_data, train_targets), (test_data, test_targets) = boston_housing.load_data()"
   ]
  },
  {
   "cell_type": "code",
   "execution_count": 23,
   "metadata": {
    "id": "kexTG2VoTxpW"
   },
   "outputs": [
    {
     "name": "stdout",
     "output_type": "stream",
     "text": [
      "(404, 13)\n",
      "(102, 13)\n",
      "[15.2 42.3 50.  21.1 17.7 18.5 11.3 15.6 15.6 14.4]\n"
     ]
    }
   ],
   "source": [
    "print(train_data.shape)\n",
    "print(test_data.shape)\n",
    "print(train_targets[0:10])"
   ]
  },
  {
   "cell_type": "markdown",
   "metadata": {
    "id": "sJIkAoaOTxpZ"
   },
   "source": [
    "#### Standardisierung der Daten"
   ]
  },
  {
   "cell_type": "code",
   "execution_count": 24,
   "metadata": {
    "id": "h9qBVyFMTxpZ"
   },
   "outputs": [],
   "source": [
    "mean = train_data.mean(axis=0)\n",
    "train_data -= mean\n",
    "std = train_data.std(axis=0)\n",
    "train_data /= std\n",
    "test_data -= mean\n",
    "test_data /= std"
   ]
  },
  {
   "cell_type": "markdown",
   "metadata": {
    "id": "2NFbGfEITxpZ"
   },
   "source": [
    "#### Baseline NN-Modell"
   ]
  },
  {
   "cell_type": "code",
   "execution_count": 25,
   "metadata": {
    "id": "YpDhvpnqTxpZ"
   },
   "outputs": [],
   "source": [
    "def baseline_model():\n",
    "    model = Sequential()\n",
    "    model.add(Dense(64, activation='relu', input_shape=(train_data.shape[1],)))\n",
    "    model.add(Dense(1))\n",
    "    model.compile(optimizer='rmsprop', loss='mse', metrics=['mse','mae'])\n",
    "    return model"
   ]
  },
  {
   "cell_type": "markdown",
   "metadata": {
    "id": "Tfd9iWWCTxpZ"
   },
   "source": [
    "#### Large NN-Modell"
   ]
  },
  {
   "cell_type": "code",
   "execution_count": 26,
   "metadata": {
    "id": "0rb4jVsrTxpa"
   },
   "outputs": [],
   "source": [
    "def larger_model():\n",
    "    model = Sequential()\n",
    "    model.add(Dense(64, activation='relu', input_shape=(train_data.shape[1],)))\n",
    "    model.add(Dense(64, activation='relu'))\n",
    "    model.add(Dense(1))\n",
    "    model.compile(optimizer='rmsprop', loss='mse', metrics=['mse','mae'])\n",
    "    return model"
   ]
  },
  {
   "cell_type": "markdown",
   "metadata": {
    "id": "NkBTdePXTxpa"
   },
   "source": [
    "#### Training"
   ]
  },
  {
   "cell_type": "code",
   "execution_count": 27,
   "metadata": {
    "id": "INwFyYq-Txpa"
   },
   "outputs": [],
   "source": [
    "num_epochs = 50"
   ]
  },
  {
   "cell_type": "code",
   "execution_count": 28,
   "metadata": {
    "id": "hmM4a_IMTxpa"
   },
   "outputs": [
    {
     "name": "stdout",
     "output_type": "stream",
     "text": [
      "Epoch 1/50\n",
      "404/404 [==============================] - 2s 4ms/step - loss: 404.4759 - mse: 404.4759 - mae: 17.8959 - val_loss: 234.6570 - val_mse: 234.6570 - val_mae: 12.9206\n",
      "Epoch 2/50\n",
      "404/404 [==============================] - 1s 4ms/step - loss: 108.6194 - mse: 108.6194 - mae: 7.4222 - val_loss: 77.0975 - val_mse: 77.0975 - val_mae: 6.6707\n",
      "Epoch 3/50\n",
      "404/404 [==============================] - 1s 4ms/step - loss: 49.3794 - mse: 49.3794 - mae: 4.6036 - val_loss: 49.9808 - val_mse: 49.9808 - val_mae: 5.3227\n",
      "Epoch 4/50\n",
      "404/404 [==============================] - 1s 4ms/step - loss: 35.0293 - mse: 35.0293 - mae: 3.8122 - val_loss: 32.6358 - val_mse: 32.6358 - val_mae: 4.3795\n",
      "Epoch 5/50\n",
      "404/404 [==============================] - 1s 4ms/step - loss: 27.3729 - mse: 27.3729 - mae: 3.3168 - val_loss: 24.6668 - val_mse: 24.6668 - val_mae: 3.7844\n",
      "Epoch 6/50\n",
      "404/404 [==============================] - 1s 4ms/step - loss: 23.2930 - mse: 23.2930 - mae: 3.1267 - val_loss: 21.6984 - val_mse: 21.6984 - val_mae: 3.4840\n",
      "Epoch 7/50\n",
      "404/404 [==============================] - 1s 4ms/step - loss: 20.7082 - mse: 20.7082 - mae: 2.9084 - val_loss: 22.9473 - val_mse: 22.9473 - val_mae: 3.6063\n",
      "Epoch 8/50\n",
      "404/404 [==============================] - 1s 4ms/step - loss: 18.8678 - mse: 18.8678 - mae: 2.8219 - val_loss: 17.9757 - val_mse: 17.9757 - val_mae: 3.1046\n",
      "Epoch 9/50\n",
      "404/404 [==============================] - 1s 4ms/step - loss: 17.1819 - mse: 17.1819 - mae: 2.6680 - val_loss: 17.5755 - val_mse: 17.5755 - val_mae: 3.1068\n",
      "Epoch 10/50\n",
      "404/404 [==============================] - 1s 4ms/step - loss: 15.9306 - mse: 15.9306 - mae: 2.5725 - val_loss: 16.5488 - val_mse: 16.5488 - val_mae: 2.9384\n",
      "Epoch 11/50\n",
      "404/404 [==============================] - 1s 4ms/step - loss: 14.3072 - mse: 14.3072 - mae: 2.4236 - val_loss: 18.1594 - val_mse: 18.1594 - val_mae: 3.0378\n",
      "Epoch 12/50\n",
      "404/404 [==============================] - 1s 4ms/step - loss: 14.1613 - mse: 14.1613 - mae: 2.4178 - val_loss: 15.9151 - val_mse: 15.9151 - val_mae: 2.8340\n",
      "Epoch 13/50\n",
      "404/404 [==============================] - 1s 4ms/step - loss: 13.2743 - mse: 13.2743 - mae: 2.3755 - val_loss: 15.8287 - val_mse: 15.8287 - val_mae: 2.7738\n",
      "Epoch 14/50\n",
      "404/404 [==============================] - 1s 4ms/step - loss: 12.9498 - mse: 12.9498 - mae: 2.3055 - val_loss: 17.0985 - val_mse: 17.0985 - val_mae: 2.8910\n",
      "Epoch 15/50\n",
      "404/404 [==============================] - 1s 4ms/step - loss: 12.2090 - mse: 12.2090 - mae: 2.2779 - val_loss: 16.3811 - val_mse: 16.3811 - val_mae: 2.7757\n",
      "Epoch 16/50\n",
      "404/404 [==============================] - 1s 4ms/step - loss: 11.7739 - mse: 11.7739 - mae: 2.2192 - val_loss: 17.3635 - val_mse: 17.3635 - val_mae: 2.8606\n",
      "Epoch 17/50\n",
      "404/404 [==============================] - 1s 4ms/step - loss: 11.2579 - mse: 11.2579 - mae: 2.2000 - val_loss: 19.2465 - val_mse: 19.2465 - val_mae: 3.0337\n",
      "Epoch 18/50\n",
      "404/404 [==============================] - 1s 4ms/step - loss: 10.9903 - mse: 10.9903 - mae: 2.1799 - val_loss: 17.7641 - val_mse: 17.7641 - val_mae: 2.8220\n",
      "Epoch 19/50\n",
      "404/404 [==============================] - 1s 4ms/step - loss: 10.7574 - mse: 10.7574 - mae: 2.1421 - val_loss: 19.1871 - val_mse: 19.1871 - val_mae: 2.9575\n",
      "Epoch 20/50\n",
      "404/404 [==============================] - 1s 4ms/step - loss: 10.6959 - mse: 10.6959 - mae: 2.1491 - val_loss: 17.6358 - val_mse: 17.6358 - val_mae: 2.7777\n",
      "Epoch 21/50\n",
      "404/404 [==============================] - 1s 4ms/step - loss: 10.4313 - mse: 10.4313 - mae: 2.1241 - val_loss: 17.3590 - val_mse: 17.3590 - val_mae: 2.7209\n",
      "Epoch 22/50\n",
      "404/404 [==============================] - 1s 4ms/step - loss: 10.4013 - mse: 10.4013 - mae: 2.1055 - val_loss: 18.0222 - val_mse: 18.0222 - val_mae: 2.7508\n",
      "Epoch 23/50\n",
      "404/404 [==============================] - 1s 4ms/step - loss: 9.9386 - mse: 9.9386 - mae: 2.0644 - val_loss: 17.8363 - val_mse: 17.8363 - val_mae: 2.6931\n",
      "Epoch 24/50\n",
      "404/404 [==============================] - 1s 4ms/step - loss: 10.1919 - mse: 10.1919 - mae: 2.0257 - val_loss: 18.5833 - val_mse: 18.5833 - val_mae: 2.7275\n",
      "Epoch 25/50\n",
      "404/404 [==============================] - 2s 4ms/step - loss: 9.9051 - mse: 9.9051 - mae: 2.0524 - val_loss: 19.1813 - val_mse: 19.1813 - val_mae: 2.8779\n",
      "Epoch 26/50\n",
      "404/404 [==============================] - 2s 4ms/step - loss: 9.6972 - mse: 9.6972 - mae: 2.0343 - val_loss: 18.0583 - val_mse: 18.0583 - val_mae: 2.6726\n",
      "Epoch 27/50\n",
      "404/404 [==============================] - 1s 4ms/step - loss: 9.7295 - mse: 9.7295 - mae: 2.0127 - val_loss: 17.4522 - val_mse: 17.4522 - val_mae: 2.6483\n",
      "Epoch 28/50\n",
      "404/404 [==============================] - 1s 4ms/step - loss: 9.4767 - mse: 9.4767 - mae: 1.9969 - val_loss: 17.9951 - val_mse: 17.9951 - val_mae: 2.6878\n",
      "Epoch 29/50\n",
      "404/404 [==============================] - 1s 4ms/step - loss: 9.4715 - mse: 9.4715 - mae: 1.9923 - val_loss: 18.0865 - val_mse: 18.0865 - val_mae: 2.6562\n",
      "Epoch 30/50\n",
      "404/404 [==============================] - 1s 4ms/step - loss: 9.4087 - mse: 9.4087 - mae: 1.9736 - val_loss: 18.7436 - val_mse: 18.7436 - val_mae: 2.7571\n",
      "Epoch 31/50\n",
      "404/404 [==============================] - 2s 4ms/step - loss: 9.3155 - mse: 9.3155 - mae: 1.9782 - val_loss: 19.1002 - val_mse: 19.1002 - val_mae: 2.7553\n",
      "Epoch 32/50\n",
      "404/404 [==============================] - 1s 4ms/step - loss: 8.8633 - mse: 8.8633 - mae: 1.9711 - val_loss: 20.0208 - val_mse: 20.0208 - val_mae: 2.8577\n",
      "Epoch 33/50\n",
      "404/404 [==============================] - 1s 4ms/step - loss: 8.9441 - mse: 8.9441 - mae: 1.9428 - val_loss: 20.2773 - val_mse: 20.2773 - val_mae: 2.8849\n",
      "Epoch 34/50\n",
      "404/404 [==============================] - 1s 4ms/step - loss: 8.8422 - mse: 8.8422 - mae: 1.9459 - val_loss: 18.6265 - val_mse: 18.6265 - val_mae: 2.6399\n",
      "Epoch 35/50\n",
      "404/404 [==============================] - 1s 4ms/step - loss: 8.6062 - mse: 8.6062 - mae: 1.9003 - val_loss: 17.6967 - val_mse: 17.6967 - val_mae: 2.6544\n",
      "Epoch 36/50\n",
      "404/404 [==============================] - 1s 4ms/step - loss: 8.6561 - mse: 8.6561 - mae: 1.9340 - val_loss: 19.3197 - val_mse: 19.3197 - val_mae: 2.8713\n",
      "Epoch 37/50\n",
      "404/404 [==============================] - 1s 4ms/step - loss: 8.7560 - mse: 8.7560 - mae: 1.9174 - val_loss: 18.8189 - val_mse: 18.8189 - val_mae: 2.7120\n",
      "Epoch 38/50\n",
      "404/404 [==============================] - 1s 4ms/step - loss: 8.5076 - mse: 8.5076 - mae: 1.8835 - val_loss: 19.4873 - val_mse: 19.4873 - val_mae: 2.7996\n",
      "Epoch 39/50\n",
      "404/404 [==============================] - 1s 4ms/step - loss: 8.5227 - mse: 8.5227 - mae: 1.9083 - val_loss: 18.7407 - val_mse: 18.7407 - val_mae: 2.6791\n",
      "Epoch 40/50\n",
      "404/404 [==============================] - 1s 4ms/step - loss: 8.4524 - mse: 8.4524 - mae: 1.8725 - val_loss: 19.4674 - val_mse: 19.4674 - val_mae: 2.7963\n",
      "Epoch 41/50\n",
      "404/404 [==============================] - 1s 4ms/step - loss: 8.3818 - mse: 8.3818 - mae: 1.8923 - val_loss: 18.9175 - val_mse: 18.9175 - val_mae: 2.6943\n",
      "Epoch 42/50\n",
      "404/404 [==============================] - 1s 4ms/step - loss: 8.1838 - mse: 8.1838 - mae: 1.8625 - val_loss: 19.1741 - val_mse: 19.1741 - val_mae: 2.6823\n",
      "Epoch 43/50\n",
      "404/404 [==============================] - 1s 4ms/step - loss: 8.2535 - mse: 8.2535 - mae: 1.8669 - val_loss: 18.7579 - val_mse: 18.7579 - val_mae: 2.6756\n",
      "Epoch 44/50\n",
      "404/404 [==============================] - 1s 4ms/step - loss: 7.9787 - mse: 7.9787 - mae: 1.8543 - val_loss: 17.7697 - val_mse: 17.7697 - val_mae: 2.6460\n",
      "Epoch 45/50\n",
      "404/404 [==============================] - 1s 4ms/step - loss: 7.9983 - mse: 7.9983 - mae: 1.8011 - val_loss: 19.5159 - val_mse: 19.5159 - val_mae: 2.8019\n",
      "Epoch 46/50\n",
      "404/404 [==============================] - 1s 4ms/step - loss: 7.8614 - mse: 7.8614 - mae: 1.8662 - val_loss: 18.1141 - val_mse: 18.1141 - val_mae: 2.6220\n",
      "Epoch 47/50\n",
      "404/404 [==============================] - 1s 4ms/step - loss: 8.0212 - mse: 8.0212 - mae: 1.8236 - val_loss: 19.9387 - val_mse: 19.9387 - val_mae: 2.7956\n",
      "Epoch 48/50\n",
      "404/404 [==============================] - 1s 4ms/step - loss: 7.6458 - mse: 7.6458 - mae: 1.8117 - val_loss: 20.7254 - val_mse: 20.7254 - val_mae: 2.9155\n",
      "Epoch 49/50\n",
      "404/404 [==============================] - 1s 4ms/step - loss: 7.6857 - mse: 7.6857 - mae: 1.8253 - val_loss: 18.8496 - val_mse: 18.8496 - val_mae: 2.6399\n"
     ]
    },
    {
     "name": "stdout",
     "output_type": "stream",
     "text": [
      "Epoch 50/50\n",
      "404/404 [==============================] - 1s 4ms/step - loss: 7.8023 - mse: 7.8023 - mae: 1.8023 - val_loss: 20.3436 - val_mse: 20.3436 - val_mae: 2.7520\n"
     ]
    }
   ],
   "source": [
    "network = baseline_model()\n",
    "baseline_history = network.fit(train_data, train_targets, epochs=num_epochs, batch_size=1, verbose=1, validation_data=(test_data, test_targets))"
   ]
  },
  {
   "cell_type": "code",
   "execution_count": 29,
   "metadata": {
    "id": "AAeoxqq2Txpa"
   },
   "outputs": [
    {
     "name": "stdout",
     "output_type": "stream",
     "text": [
      "Epoch 1/50\n",
      "404/404 [==============================] - 2s 4ms/step - loss: 144.2574 - mse: 144.2574 - mae: 8.7313 - val_loss: 29.0790 - val_mse: 29.0790 - val_mae: 4.3368\n",
      "Epoch 2/50\n",
      "404/404 [==============================] - 2s 4ms/step - loss: 25.8801 - mse: 25.8801 - mae: 3.4054 - val_loss: 20.4594 - val_mse: 20.4594 - val_mae: 3.4291\n",
      "Epoch 3/50\n",
      "404/404 [==============================] - 2s 4ms/step - loss: 18.5722 - mse: 18.5722 - mae: 2.8970 - val_loss: 21.3173 - val_mse: 21.3173 - val_mae: 3.2575\n",
      "Epoch 4/50\n",
      "404/404 [==============================] - 2s 4ms/step - loss: 15.2399 - mse: 15.2399 - mae: 2.6529 - val_loss: 21.4718 - val_mse: 21.4718 - val_mae: 3.1187\n",
      "Epoch 5/50\n",
      "404/404 [==============================] - 2s 4ms/step - loss: 13.7318 - mse: 13.7318 - mae: 2.4902 - val_loss: 22.8498 - val_mse: 22.8498 - val_mae: 3.2581\n",
      "Epoch 6/50\n",
      "404/404 [==============================] - 2s 4ms/step - loss: 12.4965 - mse: 12.4965 - mae: 2.4437 - val_loss: 22.6252 - val_mse: 22.6252 - val_mae: 3.1732\n",
      "Epoch 7/50\n",
      "404/404 [==============================] - 2s 4ms/step - loss: 11.6730 - mse: 11.6730 - mae: 2.3292 - val_loss: 24.6017 - val_mse: 24.6017 - val_mae: 3.2270\n",
      "Epoch 8/50\n",
      "404/404 [==============================] - 2s 4ms/step - loss: 11.1347 - mse: 11.1347 - mae: 2.3114 - val_loss: 24.1066 - val_mse: 24.1066 - val_mae: 3.1529\n",
      "Epoch 9/50\n",
      "404/404 [==============================] - 2s 4ms/step - loss: 10.9120 - mse: 10.9120 - mae: 2.2850 - val_loss: 23.8063 - val_mse: 23.8063 - val_mae: 2.9007\n",
      "Epoch 10/50\n",
      "404/404 [==============================] - 2s 4ms/step - loss: 10.5106 - mse: 10.5106 - mae: 2.2014 - val_loss: 28.0190 - val_mse: 28.0190 - val_mae: 3.2752\n",
      "Epoch 11/50\n",
      "404/404 [==============================] - 2s 4ms/step - loss: 10.6000 - mse: 10.6000 - mae: 2.1893 - val_loss: 24.7141 - val_mse: 24.7141 - val_mae: 2.8570\n",
      "Epoch 12/50\n",
      "404/404 [==============================] - 2s 4ms/step - loss: 10.2156 - mse: 10.2156 - mae: 2.1591 - val_loss: 25.2911 - val_mse: 25.2911 - val_mae: 2.9408\n",
      "Epoch 13/50\n",
      "404/404 [==============================] - 2s 4ms/step - loss: 9.3741 - mse: 9.3741 - mae: 2.1233 - val_loss: 29.4517 - val_mse: 29.4517 - val_mae: 3.3208\n",
      "Epoch 14/50\n",
      "404/404 [==============================] - 2s 4ms/step - loss: 9.2492 - mse: 9.2492 - mae: 2.0537 - val_loss: 26.3696 - val_mse: 26.3696 - val_mae: 2.9250\n",
      "Epoch 15/50\n",
      "404/404 [==============================] - 2s 4ms/step - loss: 9.5214 - mse: 9.5214 - mae: 2.1135 - val_loss: 22.1183 - val_mse: 22.1183 - val_mae: 2.7698\n",
      "Epoch 16/50\n",
      "404/404 [==============================] - 2s 4ms/step - loss: 9.6810 - mse: 9.6810 - mae: 2.1097 - val_loss: 24.4374 - val_mse: 24.4374 - val_mae: 2.9448\n",
      "Epoch 17/50\n",
      "404/404 [==============================] - 2s 4ms/step - loss: 8.9751 - mse: 8.9751 - mae: 2.0536 - val_loss: 20.2365 - val_mse: 20.2365 - val_mae: 2.6845\n",
      "Epoch 18/50\n",
      "404/404 [==============================] - 2s 4ms/step - loss: 8.9421 - mse: 8.9421 - mae: 2.0212 - val_loss: 24.3032 - val_mse: 24.3032 - val_mae: 2.8419\n",
      "Epoch 19/50\n",
      "404/404 [==============================] - 2s 4ms/step - loss: 8.5289 - mse: 8.5289 - mae: 2.0454 - val_loss: 20.8965 - val_mse: 20.8965 - val_mae: 2.7655\n",
      "Epoch 20/50\n",
      "404/404 [==============================] - 2s 4ms/step - loss: 8.5692 - mse: 8.5692 - mae: 2.0134 - val_loss: 21.3520 - val_mse: 21.3520 - val_mae: 2.8929\n",
      "Epoch 21/50\n",
      "404/404 [==============================] - 2s 4ms/step - loss: 8.4653 - mse: 8.4653 - mae: 1.9900 - val_loss: 21.0766 - val_mse: 21.0766 - val_mae: 2.8107\n",
      "Epoch 22/50\n",
      "404/404 [==============================] - 2s 4ms/step - loss: 8.3016 - mse: 8.3016 - mae: 1.9879 - val_loss: 21.3220 - val_mse: 21.3220 - val_mae: 2.7064\n",
      "Epoch 23/50\n",
      "404/404 [==============================] - 2s 4ms/step - loss: 8.4379 - mse: 8.4379 - mae: 1.9699 - val_loss: 22.5307 - val_mse: 22.5307 - val_mae: 2.8558\n",
      "Epoch 24/50\n",
      "404/404 [==============================] - 2s 4ms/step - loss: 8.0462 - mse: 8.0462 - mae: 1.9066 - val_loss: 21.8851 - val_mse: 21.8851 - val_mae: 2.5695\n",
      "Epoch 25/50\n",
      "404/404 [==============================] - 2s 4ms/step - loss: 8.0408 - mse: 8.0408 - mae: 1.9303 - val_loss: 20.8671 - val_mse: 20.8671 - val_mae: 2.7813\n",
      "Epoch 26/50\n",
      "404/404 [==============================] - 2s 4ms/step - loss: 7.4067 - mse: 7.4067 - mae: 1.8598 - val_loss: 26.8345 - val_mse: 26.8345 - val_mae: 3.1070\n",
      "Epoch 27/50\n",
      "404/404 [==============================] - 2s 4ms/step - loss: 7.4130 - mse: 7.4130 - mae: 1.8599 - val_loss: 19.4248 - val_mse: 19.4248 - val_mae: 2.7399\n",
      "Epoch 28/50\n",
      "404/404 [==============================] - 2s 4ms/step - loss: 7.7085 - mse: 7.7085 - mae: 1.8796 - val_loss: 20.5117 - val_mse: 20.5117 - val_mae: 2.6502\n",
      "Epoch 29/50\n",
      "404/404 [==============================] - 2s 4ms/step - loss: 7.4088 - mse: 7.4088 - mae: 1.8773 - val_loss: 20.2725 - val_mse: 20.2725 - val_mae: 3.0485\n",
      "Epoch 30/50\n",
      "404/404 [==============================] - 2s 4ms/step - loss: 7.3001 - mse: 7.3001 - mae: 1.8034 - val_loss: 19.2876 - val_mse: 19.2876 - val_mae: 2.5127\n",
      "Epoch 31/50\n",
      "404/404 [==============================] - 2s 4ms/step - loss: 7.2570 - mse: 7.2570 - mae: 1.8165 - val_loss: 20.9955 - val_mse: 20.9955 - val_mae: 2.7979\n",
      "Epoch 32/50\n",
      "404/404 [==============================] - 2s 4ms/step - loss: 7.2165 - mse: 7.2165 - mae: 1.7940 - val_loss: 15.8499 - val_mse: 15.8499 - val_mae: 2.5045\n",
      "Epoch 33/50\n",
      "404/404 [==============================] - 2s 4ms/step - loss: 7.1498 - mse: 7.1498 - mae: 1.8025 - val_loss: 17.5580 - val_mse: 17.5580 - val_mae: 2.5213\n",
      "Epoch 34/50\n",
      "404/404 [==============================] - 2s 4ms/step - loss: 6.7198 - mse: 6.7198 - mae: 1.7426 - val_loss: 17.8455 - val_mse: 17.8455 - val_mae: 2.7597\n",
      "Epoch 35/50\n",
      "404/404 [==============================] - 2s 4ms/step - loss: 6.9619 - mse: 6.9619 - mae: 1.8072 - val_loss: 18.1622 - val_mse: 18.1622 - val_mae: 2.4637\n",
      "Epoch 36/50\n",
      "404/404 [==============================] - 2s 4ms/step - loss: 6.5608 - mse: 6.5608 - mae: 1.7418 - val_loss: 19.7638 - val_mse: 19.7638 - val_mae: 2.6251\n",
      "Epoch 37/50\n",
      "404/404 [==============================] - 2s 4ms/step - loss: 6.7144 - mse: 6.7144 - mae: 1.7447 - val_loss: 20.2710 - val_mse: 20.2710 - val_mae: 2.7903\n",
      "Epoch 38/50\n",
      "404/404 [==============================] - 2s 4ms/step - loss: 6.4127 - mse: 6.4127 - mae: 1.7364 - val_loss: 20.2451 - val_mse: 20.2451 - val_mae: 3.0170\n",
      "Epoch 39/50\n",
      "404/404 [==============================] - 2s 4ms/step - loss: 6.6200 - mse: 6.6200 - mae: 1.7567 - val_loss: 20.9266 - val_mse: 20.9266 - val_mae: 2.7193\n",
      "Epoch 40/50\n",
      "404/404 [==============================] - 2s 4ms/step - loss: 6.2108 - mse: 6.2108 - mae: 1.7136 - val_loss: 17.3589 - val_mse: 17.3589 - val_mae: 2.7429\n",
      "Epoch 41/50\n",
      "404/404 [==============================] - 2s 4ms/step - loss: 6.1448 - mse: 6.1448 - mae: 1.6593 - val_loss: 17.2631 - val_mse: 17.2631 - val_mae: 2.6003\n",
      "Epoch 42/50\n",
      "404/404 [==============================] - 2s 4ms/step - loss: 6.2905 - mse: 6.2905 - mae: 1.6870 - val_loss: 17.5157 - val_mse: 17.5157 - val_mae: 2.4749\n",
      "Epoch 43/50\n",
      "404/404 [==============================] - 2s 4ms/step - loss: 6.3514 - mse: 6.3514 - mae: 1.6343 - val_loss: 18.5261 - val_mse: 18.5261 - val_mae: 2.8198\n",
      "Epoch 44/50\n",
      "404/404 [==============================] - 2s 4ms/step - loss: 6.2935 - mse: 6.2935 - mae: 1.6320 - val_loss: 17.5870 - val_mse: 17.5870 - val_mae: 2.5586\n",
      "Epoch 45/50\n",
      "404/404 [==============================] - 2s 4ms/step - loss: 5.9513 - mse: 5.9513 - mae: 1.6085 - val_loss: 16.6408 - val_mse: 16.6408 - val_mae: 2.5350\n",
      "Epoch 46/50\n",
      "404/404 [==============================] - 2s 4ms/step - loss: 5.8183 - mse: 5.8183 - mae: 1.6511 - val_loss: 18.8102 - val_mse: 18.8102 - val_mae: 2.6672\n",
      "Epoch 47/50\n",
      "404/404 [==============================] - 2s 4ms/step - loss: 5.8139 - mse: 5.8139 - mae: 1.6431 - val_loss: 17.8169 - val_mse: 17.8169 - val_mae: 2.4639\n",
      "Epoch 48/50\n",
      "404/404 [==============================] - 2s 4ms/step - loss: 5.9618 - mse: 5.9618 - mae: 1.6276 - val_loss: 16.8023 - val_mse: 16.8023 - val_mae: 2.6026\n",
      "Epoch 49/50\n",
      "404/404 [==============================] - 2s 4ms/step - loss: 5.8921 - mse: 5.8921 - mae: 1.5373 - val_loss: 18.4881 - val_mse: 18.4881 - val_mae: 2.7772\n"
     ]
    },
    {
     "name": "stdout",
     "output_type": "stream",
     "text": [
      "Epoch 50/50\n",
      "404/404 [==============================] - 2s 4ms/step - loss: 5.4255 - mse: 5.4255 - mae: 1.5993 - val_loss: 15.9310 - val_mse: 15.9310 - val_mae: 2.4962\n"
     ]
    }
   ],
   "source": [
    "network = larger_model()\n",
    "large_history = network.fit(train_data, train_targets, epochs=num_epochs, batch_size=1, verbose=1, validation_data=(test_data, test_targets))"
   ]
  },
  {
   "cell_type": "code",
   "execution_count": 30,
   "metadata": {
    "id": "ADjVi--_Txpa"
   },
   "outputs": [
    {
     "name": "stdout",
     "output_type": "stream",
     "text": [
      "[404.4758605957031, 108.61936950683594, 49.379364013671875, 35.02928161621094, 27.37294578552246]\n",
      "[144.25741577148438, 25.880138397216797, 18.572229385375977, 15.239906311035156, 13.73183536529541]\n"
     ]
    }
   ],
   "source": [
    "print(baseline_history.history['loss'][0:5])\n",
    "print(large_history.history['loss'][0:5])"
   ]
  },
  {
   "cell_type": "markdown",
   "metadata": {
    "id": "Mah4c2kSTxpb"
   },
   "source": [
    "#### Small Model"
   ]
  },
  {
   "cell_type": "code",
   "execution_count": 31,
   "metadata": {
    "id": "D6DdXmI1Txpb"
   },
   "outputs": [
    {
     "data": {
      "image/png": "[encoded data removed]",
      "text/plain": [
       "<Figure size 640x480 with 1 Axes>"
      ]
     },
     "metadata": {},
     "output_type": "display_data"
    }
   ],
   "source": [
    "base_loss = baseline_history.history['loss']\n",
    "base_val_loss = baseline_history.history['val_loss']\n",
    "utils.plot_history(base_loss, base_val_loss, 'training', 'test')"
   ]
  },
  {
   "cell_type": "markdown",
   "metadata": {
    "id": "8Xvs_tZnTxpb"
   },
   "source": [
    "#### Large Model"
   ]
  },
  {
   "cell_type": "code",
   "execution_count": 32,
   "metadata": {
    "id": "rzPck8pzTxpb"
   },
   "outputs": [
    {
     "data": {
      "image/png": "[encoded data removed]",
      "text/plain": [
       "<Figure size 640x480 with 1 Axes>"
      ]
     },
     "metadata": {},
     "output_type": "display_data"
    }
   ],
   "source": [
    "large_loss = large_history.history['loss']\n",
    "large_val_loss = large_history.history['val_loss']\n",
    "utils.plot_history(large_loss, large_val_loss, 'training', 'test')"
   ]
  },
  {
   "cell_type": "code",
   "execution_count": null,
   "metadata": {
    "id": "zp2WvOfHVIhg"
   },
   "outputs": [],
   "source": []
  }
 ],
 "metadata": {
  "colab": {
   "collapsed_sections": [
    "LNFGmJ0PVEro"
   ],
   "name": "TF_Keras_boston.ipynb",
   "provenance": []
  },
  "kernelspec": {
   "display_name": "Python 3.9 (tensorflow)",
   "language": "python",
   "name": "tensorflow"
  },
  "language_info": {
   "codemirror_mode": {
    "name": "ipython",
    "version": 3
   },
   "file_extension": ".py",
   "mimetype": "text/x-python",
   "name": "python",
   "nbconvert_exporter": "python",
   "pygments_lexer": "ipython3",
   "version": "3.9.13"
  }
 },
 "nbformat": 4,
 "nbformat_minor": 1
}
